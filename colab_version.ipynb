{
  "nbformat": 4,
  "nbformat_minor": 0,
  "metadata": {
    "colab": {
      "name": "colab_version.ipynb",
      "provenance": [],
      "collapsed_sections": [],
      "toc_visible": true,
      "authorship_tag": "ABX9TyPYcvrp9NDyxhgoqTv2d2rf",
      "include_colab_link": true
    },
    "kernelspec": {
      "name": "python3",
      "display_name": "Python 3"
    }
  },
  "cells": [
    {
      "cell_type": "markdown",
      "metadata": {
        "id": "view-in-github",
        "colab_type": "text"
      },
      "source": [
        "<a href=\"https://colab.research.google.com/github/Gnommer/Automated-Ticketing-System/blob/master/colab_version.ipynb\" target=\"_parent\"><img src=\"https://colab.research.google.com/assets/colab-badge.svg\" alt=\"Open In Colab\"/></a>"
      ]
    },
    {
      "cell_type": "markdown",
      "metadata": {
        "id": "0e3hPaZv5FlL",
        "colab_type": "text"
      },
      "source": [
        "#### Cloning Github Repo"
      ]
    },
    {
      "cell_type": "code",
      "metadata": {
        "id": "lmU1i9Okpv3C",
        "colab_type": "code",
        "colab": {}
      },
      "source": [
        "import os\n",
        "import shutil\n",
        "# from getpass import getpass\n",
        "\n",
        "# username = input('Github username: ')\n",
        "# password = getpass('Github password: ')\n",
        "# os.environ['GITHUB_AUTH'] = username + ':' + password\n",
        "\n",
        "# !git clone https://$GITHUB_AUTH@github.com/Gnommer/Automated-Ticketing-System\n",
        "os.chdir(\"Automated-Ticketing-System\")"
      ],
      "execution_count": 0,
      "outputs": []
    },
    {
      "cell_type": "markdown",
      "metadata": {
        "id": "B7l8l0o05Xrg",
        "colab_type": "text"
      },
      "source": [
        "#### Importing Dependencies"
      ]
    },
    {
      "cell_type": "code",
      "metadata": {
        "id": "jS8uG-vsqXQU",
        "colab_type": "code",
        "colab": {}
      },
      "source": [
        "import pandas as pd\n",
        "from Pipelines import NLP_Pipeline\n",
        "\n",
        "import matplotlib.pyplot as plt"
      ],
      "execution_count": 0,
      "outputs": []
    },
    {
      "cell_type": "code",
      "metadata": {
        "id": "ZuSG6vJGqmOT",
        "colab_type": "code",
        "colab": {}
      },
      "source": [
        "# Using a custom pipeline to perform the steps\n",
        "pipeline1 = NLP_Pipeline(file_path=\"Dataset/Synthetic_Dataset.xlsx\")"
      ],
      "execution_count": 0,
      "outputs": []
    },
    {
      "cell_type": "markdown",
      "metadata": {
        "id": "9Qys6XVU5TtN",
        "colab_type": "text"
      },
      "source": [
        "#### Loading Dataset"
      ]
    },
    {
      "cell_type": "code",
      "metadata": {
        "id": "Ba5HRfwp41I9",
        "colab_type": "code",
        "colab": {}
      },
      "source": [
        "df = pipeline1.read_dataset()"
      ],
      "execution_count": 0,
      "outputs": []
    },
    {
      "cell_type": "code",
      "metadata": {
        "id": "tXTFXiIK441w",
        "colab_type": "code",
        "outputId": "3a85c458-b52c-4ae8-831e-7e1b68fe19ea",
        "colab": {
          "base_uri": "https://localhost:8080/",
          "height": 195
        }
      },
      "source": [
        "df.head()"
      ],
      "execution_count": 5,
      "outputs": [
        {
          "output_type": "execute_result",
          "data": {
            "text/html": [
              "<div>\n",
              "<style scoped>\n",
              "    .dataframe tbody tr th:only-of-type {\n",
              "        vertical-align: middle;\n",
              "    }\n",
              "\n",
              "    .dataframe tbody tr th {\n",
              "        vertical-align: top;\n",
              "    }\n",
              "\n",
              "    .dataframe thead th {\n",
              "        text-align: right;\n",
              "    }\n",
              "</style>\n",
              "<table border=\"1\" class=\"dataframe\">\n",
              "  <thead>\n",
              "    <tr style=\"text-align: right;\">\n",
              "      <th></th>\n",
              "      <th>Short description</th>\n",
              "      <th>Description</th>\n",
              "      <th>Caller</th>\n",
              "      <th>Assignment group</th>\n",
              "    </tr>\n",
              "  </thead>\n",
              "  <tbody>\n",
              "    <tr>\n",
              "      <th>0</th>\n",
              "      <td>login issue</td>\n",
              "      <td>-verified user details.(employee# &amp; manager na...</td>\n",
              "      <td>spxjnwir pjlcoqds</td>\n",
              "      <td>GRP_0</td>\n",
              "    </tr>\n",
              "    <tr>\n",
              "      <th>1</th>\n",
              "      <td>outlook</td>\n",
              "      <td>\\r\\n\\r\\nreceived from: hmjdrvpb.komuaywn@gmail...</td>\n",
              "      <td>hmjdrvpb komuaywn</td>\n",
              "      <td>GRP_0</td>\n",
              "    </tr>\n",
              "    <tr>\n",
              "      <th>2</th>\n",
              "      <td>cant log in to vpn</td>\n",
              "      <td>\\r\\n\\r\\nreceived from: eylqgodm.ybqkwiam@gmail...</td>\n",
              "      <td>eylqgodm ybqkwiam</td>\n",
              "      <td>GRP_0</td>\n",
              "    </tr>\n",
              "    <tr>\n",
              "      <th>3</th>\n",
              "      <td>unable to access hr_tool page</td>\n",
              "      <td>unable to access hr_tool page</td>\n",
              "      <td>xbkucsvz gcpydteq</td>\n",
              "      <td>GRP_0</td>\n",
              "    </tr>\n",
              "    <tr>\n",
              "      <th>4</th>\n",
              "      <td>skype error</td>\n",
              "      <td>skype error</td>\n",
              "      <td>owlgqjme qhcozdfx</td>\n",
              "      <td>GRP_0</td>\n",
              "    </tr>\n",
              "  </tbody>\n",
              "</table>\n",
              "</div>"
            ],
            "text/plain": [
              "               Short description  ... Assignment group\n",
              "0                    login issue  ...            GRP_0\n",
              "1                        outlook  ...            GRP_0\n",
              "2             cant log in to vpn  ...            GRP_0\n",
              "3  unable to access hr_tool page  ...            GRP_0\n",
              "4                   skype error   ...            GRP_0\n",
              "\n",
              "[5 rows x 4 columns]"
            ]
          },
          "metadata": {
            "tags": []
          },
          "execution_count": 5
        }
      ]
    },
    {
      "cell_type": "markdown",
      "metadata": {
        "id": "RNTgiVS95Ozw",
        "colab_type": "text"
      },
      "source": [
        "#### Exploratory Data Analysis"
      ]
    },
    {
      "cell_type": "markdown",
      "metadata": {
        "id": "tom-8r2S8g12",
        "colab_type": "text"
      },
      "source": [
        "##### Shape of the Data Frame"
      ]
    },
    {
      "cell_type": "code",
      "metadata": {
        "id": "KkpZD6Sg8c7H",
        "colab_type": "code",
        "outputId": "6471b60a-337b-44b5-c16f-adbc998021ac",
        "colab": {
          "base_uri": "https://localhost:8080/",
          "height": 34
        }
      },
      "source": [
        "df.shape"
      ],
      "execution_count": 6,
      "outputs": [
        {
          "output_type": "execute_result",
          "data": {
            "text/plain": [
              "(8500, 4)"
            ]
          },
          "metadata": {
            "tags": []
          },
          "execution_count": 6
        }
      ]
    },
    {
      "cell_type": "markdown",
      "metadata": {
        "id": "4oPKgrXd55tZ",
        "colab_type": "text"
      },
      "source": [
        "##### Missing values"
      ]
    },
    {
      "cell_type": "code",
      "metadata": {
        "id": "F7AEiumZ45JF",
        "colab_type": "code",
        "outputId": "2f079c2c-4f31-46cd-bcdd-ab0454c98cf7",
        "colab": {
          "base_uri": "https://localhost:8080/",
          "height": 77
        }
      },
      "source": [
        "pd.DataFrame(df.isna().sum()).T"
      ],
      "execution_count": 7,
      "outputs": [
        {
          "output_type": "execute_result",
          "data": {
            "text/html": [
              "<div>\n",
              "<style scoped>\n",
              "    .dataframe tbody tr th:only-of-type {\n",
              "        vertical-align: middle;\n",
              "    }\n",
              "\n",
              "    .dataframe tbody tr th {\n",
              "        vertical-align: top;\n",
              "    }\n",
              "\n",
              "    .dataframe thead th {\n",
              "        text-align: right;\n",
              "    }\n",
              "</style>\n",
              "<table border=\"1\" class=\"dataframe\">\n",
              "  <thead>\n",
              "    <tr style=\"text-align: right;\">\n",
              "      <th></th>\n",
              "      <th>Short description</th>\n",
              "      <th>Description</th>\n",
              "      <th>Caller</th>\n",
              "      <th>Assignment group</th>\n",
              "    </tr>\n",
              "  </thead>\n",
              "  <tbody>\n",
              "    <tr>\n",
              "      <th>0</th>\n",
              "      <td>8</td>\n",
              "      <td>1</td>\n",
              "      <td>0</td>\n",
              "      <td>0</td>\n",
              "    </tr>\n",
              "  </tbody>\n",
              "</table>\n",
              "</div>"
            ],
            "text/plain": [
              "   Short description  Description  Caller  Assignment group\n",
              "0                  8            1       0                 0"
            ]
          },
          "metadata": {
            "tags": []
          },
          "execution_count": 7
        }
      ]
    },
    {
      "cell_type": "markdown",
      "metadata": {
        "id": "2qb8AMAZ7OCf",
        "colab_type": "text"
      },
      "source": [
        "there are 8 records with short description which is missing\n",
        "and 1 record with the description missing"
      ]
    },
    {
      "cell_type": "code",
      "metadata": {
        "id": "uZyfg-JU5OhR",
        "colab_type": "code",
        "outputId": "9c609ad4-bd80-4920-a208-8d8e379074c9",
        "colab": {
          "base_uri": "https://localhost:8080/",
          "height": 284
        }
      },
      "source": [
        "df[df.isna()[\"Short description\"]]"
      ],
      "execution_count": 8,
      "outputs": [
        {
          "output_type": "execute_result",
          "data": {
            "text/html": [
              "<div>\n",
              "<style scoped>\n",
              "    .dataframe tbody tr th:only-of-type {\n",
              "        vertical-align: middle;\n",
              "    }\n",
              "\n",
              "    .dataframe tbody tr th {\n",
              "        vertical-align: top;\n",
              "    }\n",
              "\n",
              "    .dataframe thead th {\n",
              "        text-align: right;\n",
              "    }\n",
              "</style>\n",
              "<table border=\"1\" class=\"dataframe\">\n",
              "  <thead>\n",
              "    <tr style=\"text-align: right;\">\n",
              "      <th></th>\n",
              "      <th>Short description</th>\n",
              "      <th>Description</th>\n",
              "      <th>Caller</th>\n",
              "      <th>Assignment group</th>\n",
              "    </tr>\n",
              "  </thead>\n",
              "  <tbody>\n",
              "    <tr>\n",
              "      <th>2604</th>\n",
              "      <td>NaN</td>\n",
              "      <td>\\r\\n\\r\\nreceived from: ohdrnswl.rezuibdt@gmail...</td>\n",
              "      <td>ohdrnswl rezuibdt</td>\n",
              "      <td>GRP_34</td>\n",
              "    </tr>\n",
              "    <tr>\n",
              "      <th>3383</th>\n",
              "      <td>NaN</td>\n",
              "      <td>\\r\\n-connected to the user system using teamvi...</td>\n",
              "      <td>qftpazns fxpnytmk</td>\n",
              "      <td>GRP_0</td>\n",
              "    </tr>\n",
              "    <tr>\n",
              "      <th>3906</th>\n",
              "      <td>NaN</td>\n",
              "      <td>-user unable  tologin to vpn.\\r\\n-connected to...</td>\n",
              "      <td>awpcmsey ctdiuqwe</td>\n",
              "      <td>GRP_0</td>\n",
              "    </tr>\n",
              "    <tr>\n",
              "      <th>3910</th>\n",
              "      <td>NaN</td>\n",
              "      <td>-user unable  tologin to vpn.\\r\\n-connected to...</td>\n",
              "      <td>rhwsmefo tvphyura</td>\n",
              "      <td>GRP_0</td>\n",
              "    </tr>\n",
              "    <tr>\n",
              "      <th>3915</th>\n",
              "      <td>NaN</td>\n",
              "      <td>-user unable  tologin to vpn.\\r\\n-connected to...</td>\n",
              "      <td>hxripljo efzounig</td>\n",
              "      <td>GRP_0</td>\n",
              "    </tr>\n",
              "    <tr>\n",
              "      <th>3921</th>\n",
              "      <td>NaN</td>\n",
              "      <td>-user unable  tologin to vpn.\\r\\n-connected to...</td>\n",
              "      <td>cziadygo veiosxby</td>\n",
              "      <td>GRP_0</td>\n",
              "    </tr>\n",
              "    <tr>\n",
              "      <th>3924</th>\n",
              "      <td>NaN</td>\n",
              "      <td>name:wvqgbdhm fwchqjor\\nlanguage:\\nbrowser:mic...</td>\n",
              "      <td>wvqgbdhm fwchqjor</td>\n",
              "      <td>GRP_0</td>\n",
              "    </tr>\n",
              "    <tr>\n",
              "      <th>4341</th>\n",
              "      <td>NaN</td>\n",
              "      <td>\\r\\n\\r\\nreceived from: eqmuniov.ehxkcbgj@gmail...</td>\n",
              "      <td>eqmuniov ehxkcbgj</td>\n",
              "      <td>GRP_0</td>\n",
              "    </tr>\n",
              "  </tbody>\n",
              "</table>\n",
              "</div>"
            ],
            "text/plain": [
              "     Short description  ... Assignment group\n",
              "2604               NaN  ...           GRP_34\n",
              "3383               NaN  ...            GRP_0\n",
              "3906               NaN  ...            GRP_0\n",
              "3910               NaN  ...            GRP_0\n",
              "3915               NaN  ...            GRP_0\n",
              "3921               NaN  ...            GRP_0\n",
              "3924               NaN  ...            GRP_0\n",
              "4341               NaN  ...            GRP_0\n",
              "\n",
              "[8 rows x 4 columns]"
            ]
          },
          "metadata": {
            "tags": []
          },
          "execution_count": 8
        }
      ]
    },
    {
      "cell_type": "code",
      "metadata": {
        "id": "p0uSJ-a36dr2",
        "colab_type": "code",
        "outputId": "ae0cc17d-9c20-4095-8607-8a33e7a5247a",
        "colab": {
          "base_uri": "https://localhost:8080/",
          "height": 77
        }
      },
      "source": [
        "df[df.isna()[\"Description\"]]"
      ],
      "execution_count": 9,
      "outputs": [
        {
          "output_type": "execute_result",
          "data": {
            "text/html": [
              "<div>\n",
              "<style scoped>\n",
              "    .dataframe tbody tr th:only-of-type {\n",
              "        vertical-align: middle;\n",
              "    }\n",
              "\n",
              "    .dataframe tbody tr th {\n",
              "        vertical-align: top;\n",
              "    }\n",
              "\n",
              "    .dataframe thead th {\n",
              "        text-align: right;\n",
              "    }\n",
              "</style>\n",
              "<table border=\"1\" class=\"dataframe\">\n",
              "  <thead>\n",
              "    <tr style=\"text-align: right;\">\n",
              "      <th></th>\n",
              "      <th>Short description</th>\n",
              "      <th>Description</th>\n",
              "      <th>Caller</th>\n",
              "      <th>Assignment group</th>\n",
              "    </tr>\n",
              "  </thead>\n",
              "  <tbody>\n",
              "    <tr>\n",
              "      <th>4395</th>\n",
              "      <td>i am locked out of skype</td>\n",
              "      <td>NaN</td>\n",
              "      <td>viyglzfo ajtfzpkb</td>\n",
              "      <td>GRP_0</td>\n",
              "    </tr>\n",
              "  </tbody>\n",
              "</table>\n",
              "</div>"
            ],
            "text/plain": [
              "             Short description Description             Caller Assignment group\n",
              "4395  i am locked out of skype         NaN  viyglzfo ajtfzpkb            GRP_0"
            ]
          },
          "metadata": {
            "tags": []
          },
          "execution_count": 9
        }
      ]
    },
    {
      "cell_type": "markdown",
      "metadata": {
        "id": "gKDRXfaG7lOM",
        "colab_type": "text"
      },
      "source": [
        "so we will be removing these records for now. the system should prevent the cases from accepting tickets without descriptions. or we have to generate additional features to supplement this problem"
      ]
    },
    {
      "cell_type": "code",
      "metadata": {
        "id": "vD31WBGM7dir",
        "colab_type": "code",
        "colab": {}
      },
      "source": [
        "df = df.dropna()"
      ],
      "execution_count": 0,
      "outputs": []
    },
    {
      "cell_type": "markdown",
      "metadata": {
        "id": "y8WPUio-8XjR",
        "colab_type": "text"
      },
      "source": [
        "#### Distributions of the labels\n",
        "\n",
        "There are more Group 0 tickets than others."
      ]
    },
    {
      "cell_type": "code",
      "metadata": {
        "id": "O12q6WjPteGb",
        "colab_type": "code",
        "outputId": "b51fdf49-682b-451b-c694-618c34dbfa93",
        "colab": {
          "base_uri": "https://localhost:8080/",
          "height": 314
        }
      },
      "source": [
        "plt.figure(figsize=(20, 5))\n",
        "df[\"Assignment group\"].value_counts()[:10].plot(kind='bar')\n",
        "plt.yscale('linear')\n",
        "plt.ylabel(\"Count of Tickets\")\n",
        "plt.xlabel(\"Groups\")\n",
        "plt.show()"
      ],
      "execution_count": 26,
      "outputs": [
        {
          "output_type": "display_data",
          "data": {
            "image/png": "[encoded data removed]",
            "text/plain": [
              "<Figure size 1440x360 with 1 Axes>"
            ]
          },
          "metadata": {
            "tags": [],
            "needs_background": "light"
          }
        }
      ]
    },
    {
      "cell_type": "markdown",
      "metadata": {
        "id": "sRwjG2ni9Tp3",
        "colab_type": "text"
      },
      "source": [
        "There are clear bins formed for the complaints when the issues are explored in a log scale. Group 0 is the highest"
      ]
    },
    {
      "cell_type": "code",
      "metadata": {
        "id": "p96a9Qee8x1u",
        "colab_type": "code",
        "outputId": "4d54bf97-fec9-489a-f29f-48090cb14a09",
        "colab": {
          "base_uri": "https://localhost:8080/",
          "height": 315
        }
      },
      "source": [
        "plt.figure(figsize=(20, 5))\n",
        "df[\"Assignment group\"].value_counts().plot(kind='bar')\n",
        "plt.yscale('log')\n",
        "plt.ylabel(\"Count of Tickets\")\n",
        "plt.xlabel(\"Groups\")\n",
        "plt.show()"
      ],
      "execution_count": 27,
      "outputs": [
        {
          "output_type": "display_data",
          "data": {
            "image/png": "[encoded data removed]",
            "text/plain": [
              "<Figure size 1440x360 with 1 Axes>"
            ]
          },
          "metadata": {
            "tags": [],
            "needs_background": "light"
          }
        }
      ]
    },
    {
      "cell_type": "markdown",
      "metadata": {
        "id": "S_mcvtH5-SDq",
        "colab_type": "text"
      },
      "source": [
        "#### The Data "
      ]
    },
    {
      "cell_type": "markdown",
      "metadata": {
        "id": "h3VflWfL9sSX",
        "colab_type": "text"
      },
      "source": [
        "#### Presence of different languages\n",
        "\n",
        "As we can see below there are tickets which are not completely in english. this ticket is in German. so we need to write a strategy to find the languages of the tickets based on the description and short description."
      ]
    },
    {
      "cell_type": "code",
      "metadata": {
        "id": "gYWyiTiB8xc7",
        "colab_type": "code",
        "outputId": "d886d5fc-51e0-495e-e797-1cfb6fd79ca3",
        "colab": {
          "base_uri": "https://localhost:8080/",
          "height": 77
        }
      },
      "source": [
        "df[df.index == 255]"
      ],
      "execution_count": 13,
      "outputs": [
        {
          "output_type": "execute_result",
          "data": {
            "text/html": [
              "<div>\n",
              "<style scoped>\n",
              "    .dataframe tbody tr th:only-of-type {\n",
              "        vertical-align: middle;\n",
              "    }\n",
              "\n",
              "    .dataframe tbody tr th {\n",
              "        vertical-align: top;\n",
              "    }\n",
              "\n",
              "    .dataframe thead th {\n",
              "        text-align: right;\n",
              "    }\n",
              "</style>\n",
              "<table border=\"1\" class=\"dataframe\">\n",
              "  <thead>\n",
              "    <tr style=\"text-align: right;\">\n",
              "      <th></th>\n",
              "      <th>Short description</th>\n",
              "      <th>Description</th>\n",
              "      <th>Caller</th>\n",
              "      <th>Assignment group</th>\n",
              "    </tr>\n",
              "  </thead>\n",
              "  <tbody>\n",
              "    <tr>\n",
              "      <th>255</th>\n",
              "      <td>probleme mit laufwerk z: \\laeusvjo fvaihgpx</td>\n",
              "      <td>probleme mit laufwerk z: \\laeusvjo fvaihgpx</td>\n",
              "      <td>laeusvjo fvaihgpx</td>\n",
              "      <td>GRP_24</td>\n",
              "    </tr>\n",
              "  </tbody>\n",
              "</table>\n",
              "</div>"
            ],
            "text/plain": [
              "                               Short description  ... Assignment group\n",
              "255  probleme mit laufwerk z: \\laeusvjo fvaihgpx  ...           GRP_24\n",
              "\n",
              "[1 rows x 4 columns]"
            ]
          },
          "metadata": {
            "tags": []
          },
          "execution_count": 13
        }
      ]
    },
    {
      "cell_type": "code",
      "metadata": {
        "id": "ucQ6gw2SDnYp",
        "colab_type": "code",
        "colab": {}
      },
      "source": [
        "from Pipelines.preprocessing import detect_language"
      ],
      "execution_count": 0,
      "outputs": []
    },
    {
      "cell_type": "code",
      "metadata": {
        "id": "Sd_9tJDdpyUd",
        "colab_type": "code",
        "outputId": "47c9c300-efb8-4d41-e110-bdd47b2a8277",
        "colab": {
          "base_uri": "https://localhost:8080/",
          "height": 238
        }
      },
      "source": [
        "detected = [detect_language(text) for text in df[\"Description\"].values]\n",
        "df[\"lang_code_description\"] = [i[0] for i in detected]\n",
        "df[\"lang_code_exp_description\"] = [i[1] for i in detected]"
      ],
      "execution_count": 18,
      "outputs": [
        {
          "output_type": "stream",
          "text": [
            "/usr/local/lib/python3.6/dist-packages/ipykernel_launcher.py:2: SettingWithCopyWarning: \n",
            "A value is trying to be set on a copy of a slice from a DataFrame.\n",
            "Try using .loc[row_indexer,col_indexer] = value instead\n",
            "\n",
            "See the caveats in the documentation: https://pandas.pydata.org/pandas-docs/stable/user_guide/indexing.html#returning-a-view-versus-a-copy\n",
            "  \n",
            "/usr/local/lib/python3.6/dist-packages/ipykernel_launcher.py:3: SettingWithCopyWarning: \n",
            "A value is trying to be set on a copy of a slice from a DataFrame.\n",
            "Try using .loc[row_indexer,col_indexer] = value instead\n",
            "\n",
            "See the caveats in the documentation: https://pandas.pydata.org/pandas-docs/stable/user_guide/indexing.html#returning-a-view-versus-a-copy\n",
            "  This is separate from the ipykernel package so we can avoid doing imports until\n"
          ],
          "name": "stderr"
        }
      ]
    },
    {
      "cell_type": "code",
      "metadata": {
        "id": "XVhSvnSsu-V3",
        "colab_type": "code",
        "outputId": "384be4a8-a0ae-4a78-fd5c-3f9387d954cd",
        "colab": {
          "base_uri": "https://localhost:8080/",
          "height": 392
        }
      },
      "source": [
        "plt.figure(figsize=(20, 5))\n",
        "df[\"lang_code_exp_description\"].value_counts().plot(kind=\"bar\")\n",
        "plt.yscale('log')\n",
        "plt.ylabel(\"Count of Tickets\")\n",
        "plt.xlabel(\"Languages\")\n",
        "plt.show()"
      ],
      "execution_count": 28,
      "outputs": [
        {
          "output_type": "display_data",
          "data": {
            "image/png": "[encoded data removed]",
            "text/plain": [
              "<Figure size 1440x360 with 1 Axes>"
            ]
          },
          "metadata": {
            "tags": [],
            "needs_background": "light"
          }
        }
      ]
    },
    {
      "cell_type": "code",
      "metadata": {
        "id": "5C_I1KuNYU9F",
        "colab_type": "code",
        "colab": {
          "base_uri": "https://localhost:8080/",
          "height": 218
        },
        "outputId": "8bdb9b0d-1774-4c6c-b364-9ac8fe68b41c"
      },
      "source": [
        "df[\"Description\"]"
      ],
      "execution_count": 29,
      "outputs": [
        {
          "output_type": "execute_result",
          "data": {
            "text/plain": [
              "0       -verified user details.(employee# & manager na...\n",
              "1       \\r\\n\\r\\nreceived from: hmjdrvpb.komuaywn@gmail...\n",
              "2       \\r\\n\\r\\nreceived from: eylqgodm.ybqkwiam@gmail...\n",
              "3                           unable to access hr_tool page\n",
              "4                                            skype error \n",
              "                              ...                        \n",
              "8495    \\r\\n\\r\\nreceived from: avglmrts.vhqmtiua@gmail...\n",
              "8496                             telephony_software issue\n",
              "8497    vip2: windows password reset for tifpdchb pedx...\n",
              "8498    i am unable to access the machine utilities to...\n",
              "8499    an mehreren pc`s lassen sich verschiedene prgr...\n",
              "Name: Description, Length: 8491, dtype: object"
            ]
          },
          "metadata": {
            "tags": []
          },
          "execution_count": 29
        }
      ]
    },
    {
      "cell_type": "code",
      "metadata": {
        "id": "gxjOAsK5YXs6",
        "colab_type": "code",
        "colab": {}
      },
      "source": [
        ""
      ],
      "execution_count": 0,
      "outputs": []
    }
  ]
}
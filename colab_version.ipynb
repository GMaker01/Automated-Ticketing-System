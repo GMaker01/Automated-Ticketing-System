{
  "nbformat": 4,
  "nbformat_minor": 0,
  "metadata": {
    "colab": {
      "name": "colab_version.ipynb",
      "provenance": [],
      "collapsed_sections": [],
      "authorship_tag": "ABX9TyMV5pw6+aRtX7IAgn9IWs4P",
      "include_colab_link": true
    },
    "kernelspec": {
      "name": "python3",
      "display_name": "Python 3"
    }
  },
  "cells": [
    {
      "cell_type": "markdown",
      "metadata": {
        "id": "view-in-github",
        "colab_type": "text"
      },
      "source": [
        "<a href=\"https://colab.research.google.com/github/Gnommer/Automated-Ticketing-System/blob/master/colab_version.ipynb\" target=\"_parent\"><img src=\"https://colab.research.google.com/assets/colab-badge.svg\" alt=\"Open In Colab\"/></a>"
      ]
    },
    {
      "cell_type": "code",
      "metadata": {
        "id": "lmU1i9Okpv3C",
        "colab_type": "code",
        "colab": {
          "base_uri": "https://localhost:8080/",
          "height": 70
        },
        "outputId": "6a8aa746-f6f6-46a7-a8fe-0299676f53c2"
      },
      "source": [
        "import os\n",
        "import shutil\n",
        "from getpass import getpass\n",
        "\n",
        "username = input('Github username: ')\n",
        "password = getpass('Github password: ')\n",
        "os.environ['GITHUB_AUTH'] = username + ':' + password\n",
        "\n",
        "!git clone https://$GITHUB_AUTH@github.com/Gnommer/Automated-Ticketing-System\n",
        "os.chdir(\"Automated-Ticketing-System\")"
      ],
      "execution_count": 2,
      "outputs": [
        {
          "output_type": "stream",
          "text": [
            "Github username: Gnommer\n",
            "Github password: ··········\n",
            "fatal: destination path 'Automated-Ticketing-System' already exists and is not an empty directory.\n"
          ],
          "name": "stdout"
        }
      ]
    },
    {
      "cell_type": "code",
      "metadata": {
        "id": "jS8uG-vsqXQU",
        "colab_type": "code",
        "colab": {
          "base_uri": "https://localhost:8080/",
          "height": 34
        },
        "outputId": "e82cc371-7161-4117-ff94-b10c60ab339a"
      },
      "source": [
        ""
      ],
      "execution_count": 3,
      "outputs": [
        {
          "output_type": "stream",
          "text": [
            "_config.yml  Dataset  main.ipynb  Pipelines  README.md\trequirements.txt\n"
          ],
          "name": "stdout"
        }
      ]
    },
    {
      "cell_type": "code",
      "metadata": {
        "id": "ZuSG6vJGqmOT",
        "colab_type": "code",
        "colab": {}
      },
      "source": [
        ""
      ],
      "execution_count": 0,
      "outputs": []
    }
  ]
}
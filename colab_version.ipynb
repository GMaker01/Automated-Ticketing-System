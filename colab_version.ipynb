{
  "nbformat": 4,
  "nbformat_minor": 0,
  "metadata": {
    "colab": {
      "name": "colab_version.ipynb",
      "provenance": [],
      "collapsed_sections": [],
      "toc_visible": true
    },
    "kernelspec": {
      "name": "python3",
      "display_name": "Python 3"
    }
  },
  "cells": [
    {
      "cell_type": "markdown",
      "metadata": {
        "id": "0e3hPaZv5FlL",
        "colab_type": "text"
      },
      "source": [
        "#### Cloning Github Repo"
      ]
    },
    {
      "cell_type": "code",
      "metadata": {
        "id": "lmU1i9Okpv3C",
        "colab_type": "code",
        "colab": {}
      },
      "source": [
        "import os\n",
        "import shutil\n",
        "from getpass import getpass\n",
        "import warnings\n",
        "warnings.filterwarnings(\"ignore\")\n",
        "\n",
        "try:\n",
        "  os.chdir(\"Automated-Ticketing-System\")\n",
        "except:\n",
        "  username = input('Github username: ')\n",
        "  password = getpass('Github password: ')\n",
        "  os.environ['GITHUB_AUTH'] = username + ':' + password\n",
        "\n",
        "  !git clone https://$GITHUB_AUTH@github.com/Gnommer/Automated-Ticketing-System --branch submission\n",
        "  os.chdir(\"Automated-Ticketing-System\")\n",
        "  !pip3 install -r requirements_colab.txt >> install_logs.txt\n",
        "  !wget -O /tmp/lid.176.bin https://dl.fbaipublicfiles.com/fasttext/supervised-models/lid.176.bin\n",
        "  !python3 -m spacy download en_core_web_sm"
      ],
      "execution_count": 0,
      "outputs": []
    },
    {
      "cell_type": "markdown",
      "metadata": {
        "id": "B7l8l0o05Xrg",
        "colab_type": "text"
      },
      "source": [
        "#### Importing Dependencies"
      ]
    },
    {
      "cell_type": "code",
      "metadata": {
        "id": "jS8uG-vsqXQU",
        "colab_type": "code",
        "colab": {}
      },
      "source": [
        "import pandas as pd\n",
        "from Pipelines import NLP_Pipeline\n",
        "\n",
        "import matplotlib.pyplot as plt"
      ],
      "execution_count": 0,
      "outputs": []
    },
    {
      "cell_type": "code",
      "metadata": {
        "id": "ZuSG6vJGqmOT",
        "colab_type": "code",
        "colab": {}
      },
      "source": [
        "pipeline1 = NLP_Pipeline(file_path=\"Dataset/Dataset.xlsx\")"
      ],
      "execution_count": 0,
      "outputs": []
    },
    {
      "cell_type": "markdown",
      "metadata": {
        "id": "9Qys6XVU5TtN",
        "colab_type": "text"
      },
      "source": [
        "#### Loading Dataset"
      ]
    },
    {
      "cell_type": "code",
      "metadata": {
        "id": "Ba5HRfwp41I9",
        "colab_type": "code",
        "colab": {}
      },
      "source": [
        "df = pipeline1.read_dataset()"
      ],
      "execution_count": 0,
      "outputs": []
    },
    {
      "cell_type": "code",
      "metadata": {
        "id": "tXTFXiIK441w",
        "colab_type": "code",
        "outputId": "8f3776c9-c6da-4574-f5a9-e437fd527c1a",
        "colab": {
          "base_uri": "https://localhost:8080/",
          "height": 198
        }
      },
      "source": [
        "df.head()"
      ],
      "execution_count": 7,
      "outputs": [
        {
          "output_type": "execute_result",
          "data": {
            "text/html": [
              "<div>\n",
              "<style scoped>\n",
              "    .dataframe tbody tr th:only-of-type {\n",
              "        vertical-align: middle;\n",
              "    }\n",
              "\n",
              "    .dataframe tbody tr th {\n",
              "        vertical-align: top;\n",
              "    }\n",
              "\n",
              "    .dataframe thead th {\n",
              "        text-align: right;\n",
              "    }\n",
              "</style>\n",
              "<table border=\"1\" class=\"dataframe\">\n",
              "  <thead>\n",
              "    <tr style=\"text-align: right;\">\n",
              "      <th></th>\n",
              "      <th>Short description</th>\n",
              "      <th>Description</th>\n",
              "      <th>Caller</th>\n",
              "      <th>Assignment group</th>\n",
              "    </tr>\n",
              "  </thead>\n",
              "  <tbody>\n",
              "    <tr>\n",
              "      <th>0</th>\n",
              "      <td>login issue</td>\n",
              "      <td>-verified user details.(employee# &amp; manager na...</td>\n",
              "      <td>spxjnwir pjlcoqds</td>\n",
              "      <td>0</td>\n",
              "    </tr>\n",
              "    <tr>\n",
              "      <th>1</th>\n",
              "      <td>outlook</td>\n",
              "      <td>\\r\\n\\r\\nreceived from: hmjdrvpb.komuaywn@gmail...</td>\n",
              "      <td>hmjdrvpb komuaywn</td>\n",
              "      <td>0</td>\n",
              "    </tr>\n",
              "    <tr>\n",
              "      <th>2</th>\n",
              "      <td>cant log in to vpn</td>\n",
              "      <td>\\r\\n\\r\\nreceived from: eylqgodm.ybqkwiam@gmail...</td>\n",
              "      <td>eylqgodm ybqkwiam</td>\n",
              "      <td>0</td>\n",
              "    </tr>\n",
              "    <tr>\n",
              "      <th>3</th>\n",
              "      <td>unable to access hr_tool page</td>\n",
              "      <td>unable to access hr_tool page</td>\n",
              "      <td>xbkucsvz gcpydteq</td>\n",
              "      <td>0</td>\n",
              "    </tr>\n",
              "    <tr>\n",
              "      <th>4</th>\n",
              "      <td>skype error</td>\n",
              "      <td>skype error</td>\n",
              "      <td>owlgqjme qhcozdfx</td>\n",
              "      <td>0</td>\n",
              "    </tr>\n",
              "  </tbody>\n",
              "</table>\n",
              "</div>"
            ],
            "text/plain": [
              "               Short description  ... Assignment group\n",
              "0                    login issue  ...                0\n",
              "1                        outlook  ...                0\n",
              "2             cant log in to vpn  ...                0\n",
              "3  unable to access hr_tool page  ...                0\n",
              "4                   skype error   ...                0\n",
              "\n",
              "[5 rows x 4 columns]"
            ]
          },
          "metadata": {
            "tags": []
          },
          "execution_count": 7
        }
      ]
    },
    {
      "cell_type": "markdown",
      "metadata": {
        "id": "RNTgiVS95Ozw",
        "colab_type": "text"
      },
      "source": [
        "#### Exploratory Data Analysis"
      ]
    },
    {
      "cell_type": "markdown",
      "metadata": {
        "id": "tom-8r2S8g12",
        "colab_type": "text"
      },
      "source": [
        "##### Shape of the Data Frame"
      ]
    },
    {
      "cell_type": "code",
      "metadata": {
        "id": "KkpZD6Sg8c7H",
        "colab_type": "code",
        "outputId": "79b45733-cfdb-462d-d1c4-aa57cc382fd3",
        "colab": {
          "base_uri": "https://localhost:8080/",
          "height": 35
        }
      },
      "source": [
        "df.shape"
      ],
      "execution_count": 0,
      "outputs": [
        {
          "output_type": "execute_result",
          "data": {
            "text/plain": [
              "(8500, 4)"
            ]
          },
          "metadata": {
            "tags": []
          },
          "execution_count": 6
        }
      ]
    },
    {
      "cell_type": "markdown",
      "metadata": {
        "id": "4oPKgrXd55tZ",
        "colab_type": "text"
      },
      "source": [
        "##### Missing values"
      ]
    },
    {
      "cell_type": "code",
      "metadata": {
        "id": "F7AEiumZ45JF",
        "colab_type": "code",
        "outputId": "b0b7f08c-62e9-41af-97b7-9b78c8a1cdd2",
        "colab": {
          "base_uri": "https://localhost:8080/",
          "height": 78
        }
      },
      "source": [
        "pd.DataFrame(df.isna().sum()).T"
      ],
      "execution_count": 0,
      "outputs": [
        {
          "output_type": "execute_result",
          "data": {
            "text/html": [
              "<div>\n",
              "<style scoped>\n",
              "    .dataframe tbody tr th:only-of-type {\n",
              "        vertical-align: middle;\n",
              "    }\n",
              "\n",
              "    .dataframe tbody tr th {\n",
              "        vertical-align: top;\n",
              "    }\n",
              "\n",
              "    .dataframe thead th {\n",
              "        text-align: right;\n",
              "    }\n",
              "</style>\n",
              "<table border=\"1\" class=\"dataframe\">\n",
              "  <thead>\n",
              "    <tr style=\"text-align: right;\">\n",
              "      <th></th>\n",
              "      <th>Short description</th>\n",
              "      <th>Description</th>\n",
              "      <th>Caller</th>\n",
              "      <th>Assignment group</th>\n",
              "    </tr>\n",
              "  </thead>\n",
              "  <tbody>\n",
              "    <tr>\n",
              "      <th>0</th>\n",
              "      <td>8</td>\n",
              "      <td>1</td>\n",
              "      <td>0</td>\n",
              "      <td>0</td>\n",
              "    </tr>\n",
              "  </tbody>\n",
              "</table>\n",
              "</div>"
            ],
            "text/plain": [
              "   Short description  Description  Caller  Assignment group\n",
              "0                  8            1       0                 0"
            ]
          },
          "metadata": {
            "tags": []
          },
          "execution_count": 7
        }
      ]
    },
    {
      "cell_type": "markdown",
      "metadata": {
        "id": "2qb8AMAZ7OCf",
        "colab_type": "text"
      },
      "source": [
        "there are 8 records with short description which is missing\n",
        "and 1 record with the description missing"
      ]
    },
    {
      "cell_type": "code",
      "metadata": {
        "id": "uZyfg-JU5OhR",
        "colab_type": "code",
        "outputId": "72760deb-40cd-4d77-f4f3-4707f2069fee",
        "colab": {
          "base_uri": "https://localhost:8080/",
          "height": 288
        }
      },
      "source": [
        "df[df.isna()[\"Short description\"]]"
      ],
      "execution_count": 0,
      "outputs": [
        {
          "output_type": "execute_result",
          "data": {
            "text/html": [
              "<div>\n",
              "<style scoped>\n",
              "    .dataframe tbody tr th:only-of-type {\n",
              "        vertical-align: middle;\n",
              "    }\n",
              "\n",
              "    .dataframe tbody tr th {\n",
              "        vertical-align: top;\n",
              "    }\n",
              "\n",
              "    .dataframe thead th {\n",
              "        text-align: right;\n",
              "    }\n",
              "</style>\n",
              "<table border=\"1\" class=\"dataframe\">\n",
              "  <thead>\n",
              "    <tr style=\"text-align: right;\">\n",
              "      <th></th>\n",
              "      <th>Short description</th>\n",
              "      <th>Description</th>\n",
              "      <th>Caller</th>\n",
              "      <th>Assignment group</th>\n",
              "    </tr>\n",
              "  </thead>\n",
              "  <tbody>\n",
              "    <tr>\n",
              "      <th>2604</th>\n",
              "      <td>NaN</td>\n",
              "      <td>\\r\\n\\r\\nreceived from: ohdrnswl.rezuibdt@gmail...</td>\n",
              "      <td>ohdrnswl rezuibdt</td>\n",
              "      <td>34</td>\n",
              "    </tr>\n",
              "    <tr>\n",
              "      <th>3383</th>\n",
              "      <td>NaN</td>\n",
              "      <td>\\r\\n-connected to the user system using teamvi...</td>\n",
              "      <td>qftpazns fxpnytmk</td>\n",
              "      <td>0</td>\n",
              "    </tr>\n",
              "    <tr>\n",
              "      <th>3906</th>\n",
              "      <td>NaN</td>\n",
              "      <td>-user unable  tologin to vpn.\\r\\n-connected to...</td>\n",
              "      <td>awpcmsey ctdiuqwe</td>\n",
              "      <td>0</td>\n",
              "    </tr>\n",
              "    <tr>\n",
              "      <th>3910</th>\n",
              "      <td>NaN</td>\n",
              "      <td>-user unable  tologin to vpn.\\r\\n-connected to...</td>\n",
              "      <td>rhwsmefo tvphyura</td>\n",
              "      <td>0</td>\n",
              "    </tr>\n",
              "    <tr>\n",
              "      <th>3915</th>\n",
              "      <td>NaN</td>\n",
              "      <td>-user unable  tologin to vpn.\\r\\n-connected to...</td>\n",
              "      <td>hxripljo efzounig</td>\n",
              "      <td>0</td>\n",
              "    </tr>\n",
              "    <tr>\n",
              "      <th>3921</th>\n",
              "      <td>NaN</td>\n",
              "      <td>-user unable  tologin to vpn.\\r\\n-connected to...</td>\n",
              "      <td>cziadygo veiosxby</td>\n",
              "      <td>0</td>\n",
              "    </tr>\n",
              "    <tr>\n",
              "      <th>3924</th>\n",
              "      <td>NaN</td>\n",
              "      <td>name:wvqgbdhm fwchqjor\\nlanguage:\\nbrowser:mic...</td>\n",
              "      <td>wvqgbdhm fwchqjor</td>\n",
              "      <td>0</td>\n",
              "    </tr>\n",
              "    <tr>\n",
              "      <th>4341</th>\n",
              "      <td>NaN</td>\n",
              "      <td>\\r\\n\\r\\nreceived from: eqmuniov.ehxkcbgj@gmail...</td>\n",
              "      <td>eqmuniov ehxkcbgj</td>\n",
              "      <td>0</td>\n",
              "    </tr>\n",
              "  </tbody>\n",
              "</table>\n",
              "</div>"
            ],
            "text/plain": [
              "     Short description  ... Assignment group\n",
              "2604               NaN  ...               34\n",
              "3383               NaN  ...                0\n",
              "3906               NaN  ...                0\n",
              "3910               NaN  ...                0\n",
              "3915               NaN  ...                0\n",
              "3921               NaN  ...                0\n",
              "3924               NaN  ...                0\n",
              "4341               NaN  ...                0\n",
              "\n",
              "[8 rows x 4 columns]"
            ]
          },
          "metadata": {
            "tags": []
          },
          "execution_count": 8
        }
      ]
    },
    {
      "cell_type": "code",
      "metadata": {
        "id": "p0uSJ-a36dr2",
        "colab_type": "code",
        "outputId": "77339f87-1e46-4ce5-d386-051fc86f61fa",
        "colab": {
          "base_uri": "https://localhost:8080/",
          "height": 78
        }
      },
      "source": [
        "df[df.isna()[\"Description\"]]"
      ],
      "execution_count": 0,
      "outputs": [
        {
          "output_type": "execute_result",
          "data": {
            "text/html": [
              "<div>\n",
              "<style scoped>\n",
              "    .dataframe tbody tr th:only-of-type {\n",
              "        vertical-align: middle;\n",
              "    }\n",
              "\n",
              "    .dataframe tbody tr th {\n",
              "        vertical-align: top;\n",
              "    }\n",
              "\n",
              "    .dataframe thead th {\n",
              "        text-align: right;\n",
              "    }\n",
              "</style>\n",
              "<table border=\"1\" class=\"dataframe\">\n",
              "  <thead>\n",
              "    <tr style=\"text-align: right;\">\n",
              "      <th></th>\n",
              "      <th>Short description</th>\n",
              "      <th>Description</th>\n",
              "      <th>Caller</th>\n",
              "      <th>Assignment group</th>\n",
              "    </tr>\n",
              "  </thead>\n",
              "  <tbody>\n",
              "    <tr>\n",
              "      <th>4395</th>\n",
              "      <td>i am locked out of skype</td>\n",
              "      <td>NaN</td>\n",
              "      <td>viyglzfo ajtfzpkb</td>\n",
              "      <td>0</td>\n",
              "    </tr>\n",
              "  </tbody>\n",
              "</table>\n",
              "</div>"
            ],
            "text/plain": [
              "             Short description Description             Caller  Assignment group\n",
              "4395  i am locked out of skype         NaN  viyglzfo ajtfzpkb                 0"
            ]
          },
          "metadata": {
            "tags": []
          },
          "execution_count": 9
        }
      ]
    },
    {
      "cell_type": "markdown",
      "metadata": {
        "id": "gKDRXfaG7lOM",
        "colab_type": "text"
      },
      "source": [
        "so we will be removing these records for now. the system should prevent the cases from accepting tickets without descriptions. or we have to generate additional features to supplement this problem"
      ]
    },
    {
      "cell_type": "code",
      "metadata": {
        "id": "vD31WBGM7dir",
        "colab_type": "code",
        "colab": {}
      },
      "source": [
        "df = df.dropna()"
      ],
      "execution_count": 0,
      "outputs": []
    },
    {
      "cell_type": "markdown",
      "metadata": {
        "id": "y8WPUio-8XjR",
        "colab_type": "text"
      },
      "source": [
        "#### Distributions of the labels\n",
        "\n",
        "There are more Group 0 tickets than others."
      ]
    },
    {
      "cell_type": "code",
      "metadata": {
        "id": "O12q6WjPteGb",
        "colab_type": "code",
        "outputId": "e92c4d7f-bf6c-43ec-8dda-0743c7a45b37",
        "colab": {
          "base_uri": "https://localhost:8080/",
          "height": 336
        }
      },
      "source": [
        "plt.figure(figsize=(20, 5))\n",
        "df[\"Assignment group\"].value_counts()[:10].plot(kind='bar')\n",
        "plt.yscale('linear')\n",
        "plt.ylabel(\"Count of Tickets\")\n",
        "plt.xlabel(\"Groups\")\n",
        "plt.show()"
      ],
      "execution_count": 0,
      "outputs": [
        {
          "output_type": "display_data",
          "data": {
            "image/png": "[encoded data removed]",
            "text/plain": [
              "<Figure size 1440x360 with 1 Axes>"
            ]
          },
          "metadata": {
            "tags": [],
            "needs_background": "light"
          }
        }
      ]
    },
    {
      "cell_type": "markdown",
      "metadata": {
        "id": "sRwjG2ni9Tp3",
        "colab_type": "text"
      },
      "source": [
        "There are clear bins formed for the complaints when the issues are explored in a log scale. Group 0 is the highest"
      ]
    },
    {
      "cell_type": "code",
      "metadata": {
        "id": "p96a9Qee8x1u",
        "colab_type": "code",
        "outputId": "852ac7f5-58b8-41dc-a12c-c072f748c90f",
        "colab": {
          "base_uri": "https://localhost:8080/",
          "height": 336
        }
      },
      "source": [
        "plt.figure(figsize=(20, 5))\n",
        "df[\"Assignment group\"].value_counts().plot(kind='bar')\n",
        "plt.yscale('log')\n",
        "plt.ylabel(\"Count of Tickets\")\n",
        "plt.xlabel(\"Groups\")\n",
        "plt.show()"
      ],
      "execution_count": 0,
      "outputs": [
        {
          "output_type": "display_data",
          "data": {
            "image/png": "[encoded data removed]",
            "text/plain": [
              "<Figure size 1440x360 with 1 Axes>"
            ]
          },
          "metadata": {
            "tags": [],
            "needs_background": "light"
          }
        }
      ]
    },
    {
      "cell_type": "markdown",
      "metadata": {
        "id": "h3VflWfL9sSX",
        "colab_type": "text"
      },
      "source": [
        "#### Presence of different languages\n",
        "\n",
        "As we can see below there are tickets which are not completely in english. this ticket is in German. so we need to write a strategy to find the languages of the tickets based on the description and short description."
      ]
    },
    {
      "cell_type": "code",
      "metadata": {
        "id": "gYWyiTiB8xc7",
        "colab_type": "code",
        "outputId": "2049a57e-3ccf-4c4d-b012-6cab3f0c2e1d",
        "colab": {
          "base_uri": "https://localhost:8080/",
          "height": 78
        }
      },
      "source": [
        "df[df.index == 255]"
      ],
      "execution_count": 0,
      "outputs": [
        {
          "output_type": "execute_result",
          "data": {
            "text/html": [
              "<div>\n",
              "<style scoped>\n",
              "    .dataframe tbody tr th:only-of-type {\n",
              "        vertical-align: middle;\n",
              "    }\n",
              "\n",
              "    .dataframe tbody tr th {\n",
              "        vertical-align: top;\n",
              "    }\n",
              "\n",
              "    .dataframe thead th {\n",
              "        text-align: right;\n",
              "    }\n",
              "</style>\n",
              "<table border=\"1\" class=\"dataframe\">\n",
              "  <thead>\n",
              "    <tr style=\"text-align: right;\">\n",
              "      <th></th>\n",
              "      <th>Short description</th>\n",
              "      <th>Description</th>\n",
              "      <th>Caller</th>\n",
              "      <th>Assignment group</th>\n",
              "    </tr>\n",
              "  </thead>\n",
              "  <tbody>\n",
              "    <tr>\n",
              "      <th>255</th>\n",
              "      <td>probleme mit laufwerk z: \\laeusvjo fvaihgpx</td>\n",
              "      <td>probleme mit laufwerk z: \\laeusvjo fvaihgpx</td>\n",
              "      <td>laeusvjo fvaihgpx</td>\n",
              "      <td>24</td>\n",
              "    </tr>\n",
              "  </tbody>\n",
              "</table>\n",
              "</div>"
            ],
            "text/plain": [
              "                               Short description  ... Assignment group\n",
              "255  probleme mit laufwerk z: \\laeusvjo fvaihgpx  ...               24\n",
              "\n",
              "[1 rows x 4 columns]"
            ]
          },
          "metadata": {
            "tags": []
          },
          "execution_count": 13
        }
      ]
    },
    {
      "cell_type": "code",
      "metadata": {
        "id": "vs3oVz56kT1H",
        "colab_type": "code",
        "outputId": "5bb8b2b0-a781-440c-a7c9-3ea0df6779cb",
        "colab": {
          "base_uri": "https://localhost:8080/",
          "height": 52
        }
      },
      "source": [
        "df = pipeline1.preprocess_data()"
      ],
      "execution_count": 0,
      "outputs": [
        {
          "output_type": "stream",
          "text": [
            "Warning : `load_model` does not return WordVectorModel or SupervisedModel any more, but a `FastText` object which is very similar.\n",
            "Warning : `load_model` does not return WordVectorModel or SupervisedModel any more, but a `FastText` object which is very similar.\n"
          ],
          "name": "stderr"
        }
      ]
    },
    {
      "cell_type": "code",
      "metadata": {
        "id": "qmChpk0Pzdjg",
        "colab_type": "code",
        "outputId": "185a0a08-296b-41c3-d9e8-eb2fa8f5f879",
        "colab": {
          "base_uri": "https://localhost:8080/",
          "height": 399
        }
      },
      "source": [
        "plt.figure(figsize=(20, 5))\n",
        "df[\"des_lang\"].value_counts().plot(kind='bar')\n",
        "plt.yscale('log')\n",
        "plt.ylabel(\"Count\")\n",
        "plt.xlabel(\"Languages\")\n",
        "plt.show()"
      ],
      "execution_count": 0,
      "outputs": [
        {
          "output_type": "display_data",
          "data": {
            "image/png": "[encoded data removed]",
            "text/plain": [
              "<Figure size 1440x360 with 1 Axes>"
            ]
          },
          "metadata": {
            "tags": [],
            "needs_background": "light"
          }
        }
      ]
    },
    {
      "cell_type": "code",
      "metadata": {
        "id": "z1J-qNcx1ez1",
        "colab_type": "code",
        "outputId": "1a2fe806-4d50-4023-fc38-776fa92aa100",
        "colab": {
          "base_uri": "https://localhost:8080/",
          "height": 35
        }
      },
      "source": [
        "print(df[\"des_lang\"].value_counts().index[0], \": \", df[\"des_lang\"].value_counts()[0])"
      ],
      "execution_count": 0,
      "outputs": [
        {
          "output_type": "stream",
          "text": [
            "English :  7692\n"
          ],
          "name": "stdout"
        }
      ]
    },
    {
      "cell_type": "code",
      "metadata": {
        "id": "-VKjPmY11WXZ",
        "colab_type": "code",
        "outputId": "bc986ba5-055c-4f44-9ffd-c71caad733f4",
        "colab": {
          "base_uri": "https://localhost:8080/",
          "height": 35
        }
      },
      "source": [
        "print(\"Non English Tickets: \", len(df) - df[\"des_lang\"].value_counts()[0])"
      ],
      "execution_count": 0,
      "outputs": [
        {
          "output_type": "stream",
          "text": [
            "Non English Tickets:  799\n"
          ],
          "name": "stdout"
        }
      ]
    },
    {
      "cell_type": "markdown",
      "metadata": {
        "id": "pTyWnCgI1XSj",
        "colab_type": "text"
      },
      "source": [
        "more english tickets are present when compared to other languages"
      ]
    },
    {
      "cell_type": "markdown",
      "metadata": {
        "id": "ALfncfVU4GXy",
        "colab_type": "text"
      },
      "source": [
        "#### Preprocessed Dataframe"
      ]
    },
    {
      "cell_type": "code",
      "metadata": {
        "id": "wgmUW4Ob4CqL",
        "colab_type": "code",
        "outputId": "ec54e71c-cd82-4b08-ff03-5ea2597eca69",
        "colab": {
          "base_uri": "https://localhost:8080/",
          "height": 52
        }
      },
      "source": [
        "df = pipeline1.preprocess_data()"
      ],
      "execution_count": 6,
      "outputs": [
        {
          "output_type": "stream",
          "text": [
            "Warning : `load_model` does not return WordVectorModel or SupervisedModel any more, but a `FastText` object which is very similar.\n",
            "Warning : `load_model` does not return WordVectorModel or SupervisedModel any more, but a `FastText` object which is very similar.\n"
          ],
          "name": "stderr"
        }
      ]
    },
    {
      "cell_type": "code",
      "metadata": {
        "id": "0zeFB2Xkben5",
        "colab_type": "code",
        "colab": {
          "base_uri": "https://localhost:8080/",
          "height": 399
        },
        "outputId": "32aedade-c8da-4db3-be4c-f42495bea6de"
      },
      "source": [
        "plt.figure(figsize=(20, 5))\n",
        "df[\"des_lang\"].value_counts().plot(kind='bar')\n",
        "plt.yscale('log')\n",
        "plt.ylabel(\"Count\")\n",
        "plt.xlabel(\"Languages\")\n",
        "plt.show()"
      ],
      "execution_count": 8,
      "outputs": [
        {
          "output_type": "display_data",
          "data": {
            "image/png": "[encoded data removed]",
            "text/plain": [
              "<Figure size 1440x360 with 1 Axes>"
            ]
          },
          "metadata": {
            "tags": [],
            "needs_background": "light"
          }
        }
      ]
    },
    {
      "cell_type": "code",
      "metadata": {
        "id": "j8GqD_gab5g5",
        "colab_type": "code",
        "colab": {
          "base_uri": "https://localhost:8080/",
          "height": 276
        },
        "outputId": "a1c16e89-146b-4f71-d453-489c9971f63f"
      },
      "source": [
        "df.iloc[8471, :]"
      ],
      "execution_count": 9,
      "outputs": [
        {
          "output_type": "execute_result",
          "data": {
            "text/plain": [
              "Short description             电脑开机开不出来\n",
              "Description           to 小贺,早上电脑开机开不出来\n",
              "Caller               xqyjztnm onfusvlz\n",
              "Assignment group                    30\n",
              "clean_des                           ()\n",
              "clean_sdes                          ()\n",
              "des_lang                       English\n",
              "sdes_lang                      English\n",
              "des_has_email                    False\n",
              "sdes_has_email                   False\n",
              "des_has_domain                   False\n",
              "sdes_has_domain                  False\n",
              "des_has_url                      False\n",
              "sdes_has_url                     False\n",
              "Name: 8471, dtype: object"
            ]
          },
          "metadata": {
            "tags": []
          },
          "execution_count": 9
        }
      ]
    },
    {
      "cell_type": "code",
      "metadata": {
        "id": "n3nZ6r8scv3m",
        "colab_type": "code",
        "colab": {
          "base_uri": "https://localhost:8080/",
          "height": 374
        },
        "outputId": "c64bf2f1-362e-456f-a7ff-b5f485b46e18"
      },
      "source": [
        "df.head()"
      ],
      "execution_count": 11,
      "outputs": [
        {
          "output_type": "execute_result",
          "data": {
            "text/html": [
              "<div>\n",
              "<style scoped>\n",
              "    .dataframe tbody tr th:only-of-type {\n",
              "        vertical-align: middle;\n",
              "    }\n",
              "\n",
              "    .dataframe tbody tr th {\n",
              "        vertical-align: top;\n",
              "    }\n",
              "\n",
              "    .dataframe thead th {\n",
              "        text-align: right;\n",
              "    }\n",
              "</style>\n",
              "<table border=\"1\" class=\"dataframe\">\n",
              "  <thead>\n",
              "    <tr style=\"text-align: right;\">\n",
              "      <th></th>\n",
              "      <th>Short description</th>\n",
              "      <th>Description</th>\n",
              "      <th>Caller</th>\n",
              "      <th>Assignment group</th>\n",
              "      <th>clean_des</th>\n",
              "      <th>clean_sdes</th>\n",
              "      <th>des_lang</th>\n",
              "      <th>sdes_lang</th>\n",
              "      <th>des_has_email</th>\n",
              "      <th>sdes_has_email</th>\n",
              "      <th>des_has_domain</th>\n",
              "      <th>sdes_has_domain</th>\n",
              "      <th>des_has_url</th>\n",
              "      <th>sdes_has_url</th>\n",
              "    </tr>\n",
              "  </thead>\n",
              "  <tbody>\n",
              "    <tr>\n",
              "      <th>0</th>\n",
              "      <td>login issue</td>\n",
              "      <td>-verified user details.(employee# &amp; manager na...</td>\n",
              "      <td>spxjnwir pjlcoqds</td>\n",
              "      <td>0</td>\n",
              "      <td>(verify, user, detail, employee, manager, chec...</td>\n",
              "      <td>(login, issue)</td>\n",
              "      <td>English</td>\n",
              "      <td>English</td>\n",
              "      <td>False</td>\n",
              "      <td>False</td>\n",
              "      <td>False</td>\n",
              "      <td>False</td>\n",
              "      <td>False</td>\n",
              "      <td>False</td>\n",
              "    </tr>\n",
              "    <tr>\n",
              "      <th>1</th>\n",
              "      <td>outlook</td>\n",
              "      <td>\\n\\nreceived from: hmjdrvpb.komuaywn@gmail.com...</td>\n",
              "      <td>hmjdrvpb komuaywn</td>\n",
              "      <td>0</td>\n",
              "      <td>(receive, hmjdrvpb.komuaywn@gmail.com, hello, ...</td>\n",
              "      <td>(outlook)</td>\n",
              "      <td>English</td>\n",
              "      <td>English</td>\n",
              "      <td>True</td>\n",
              "      <td>False</td>\n",
              "      <td>True</td>\n",
              "      <td>False</td>\n",
              "      <td>False</td>\n",
              "      <td>False</td>\n",
              "    </tr>\n",
              "    <tr>\n",
              "      <th>2</th>\n",
              "      <td>cant log in to vpn</td>\n",
              "      <td>\\n\\nreceived from: eylqgodm.ybqkwiam@gmail.com...</td>\n",
              "      <td>eylqgodm ybqkwiam</td>\n",
              "      <td>0</td>\n",
              "      <td>(receive, eylqgodm.ybqkwiam@gmail.com, hello, ...</td>\n",
              "      <td>(not, log, vpn)</td>\n",
              "      <td>English</td>\n",
              "      <td>English</td>\n",
              "      <td>True</td>\n",
              "      <td>False</td>\n",
              "      <td>True</td>\n",
              "      <td>False</td>\n",
              "      <td>False</td>\n",
              "      <td>False</td>\n",
              "    </tr>\n",
              "    <tr>\n",
              "      <th>3</th>\n",
              "      <td>unable to access hr_tool page</td>\n",
              "      <td>unable to access hr_tool page</td>\n",
              "      <td>xbkucsvz gcpydteq</td>\n",
              "      <td>0</td>\n",
              "      <td>(unable, access, hr, tool, page)</td>\n",
              "      <td>(unable, access, hr, tool, page)</td>\n",
              "      <td>English</td>\n",
              "      <td>English</td>\n",
              "      <td>False</td>\n",
              "      <td>False</td>\n",
              "      <td>False</td>\n",
              "      <td>False</td>\n",
              "      <td>False</td>\n",
              "      <td>False</td>\n",
              "    </tr>\n",
              "    <tr>\n",
              "      <th>4</th>\n",
              "      <td>skype error</td>\n",
              "      <td>skype error</td>\n",
              "      <td>owlgqjme qhcozdfx</td>\n",
              "      <td>0</td>\n",
              "      <td>(skype, error)</td>\n",
              "      <td>(skype, error)</td>\n",
              "      <td>Japanese</td>\n",
              "      <td>Japanese</td>\n",
              "      <td>False</td>\n",
              "      <td>False</td>\n",
              "      <td>False</td>\n",
              "      <td>False</td>\n",
              "      <td>False</td>\n",
              "      <td>False</td>\n",
              "    </tr>\n",
              "  </tbody>\n",
              "</table>\n",
              "</div>"
            ],
            "text/plain": [
              "               Short description  ... sdes_has_url\n",
              "0                    login issue  ...        False\n",
              "1                        outlook  ...        False\n",
              "2             cant log in to vpn  ...        False\n",
              "3  unable to access hr_tool page  ...        False\n",
              "4                   skype error   ...        False\n",
              "\n",
              "[5 rows x 14 columns]"
            ]
          },
          "metadata": {
            "tags": []
          },
          "execution_count": 11
        }
      ]
    },
    {
      "cell_type": "code",
      "metadata": {
        "id": "iW9EehnyeOvT",
        "colab_type": "code",
        "colab": {}
      },
      "source": [
        ""
      ],
      "execution_count": 0,
      "outputs": []
    }
  ]
}
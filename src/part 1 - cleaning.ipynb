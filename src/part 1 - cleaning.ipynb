{
 "cells": [
  {
   "cell_type": "code",
   "execution_count": null,
   "metadata": {
    "colab": {
     "base_uri": "https://localhost:8080/",
     "height": 243
    },
    "colab_type": "code",
    "executionInfo": {
     "elapsed": 7212,
     "status": "ok",
     "timestamp": 1581763584711,
     "user": {
      "displayName": "Akshaya Kumar Das",
      "photoUrl": "https://lh3.googleusercontent.com/a-/AAuE7mDs6ySnlrHQHuOg_R9k9-7RhVHCirW6cJVee9fP9w=s64",
      "userId": "00274796301986976222"
     },
     "user_tz": -330
    },
    "id": "WiZF13Fo3GyJ",
    "outputId": "12d45c0f-dd4b-4fee-f79b-576b4c995cd4"
   },
   "outputs": [],
   "source": [
    "# Utilities\n",
    "from time import time\n",
    "import os, sys, itertools, re\n",
    "import warnings, pickle, string\n",
    "from ftfy import fix_encoding, fix_text, badness\n",
    "\n",
    "# Translation APIs\n",
    "from goslate import Goslate # Provided by Google\n",
    "from pycountry import languages\n",
    "\n",
    "# Numerical calculation\n",
    "import numpy as np\n",
    "\n",
    "# Data Handling\n",
    "import pandas as pd\n",
    "\n",
    "# NLP toolkits\n",
    "import spacy\n",
    "import nltk\n",
    "from nltk import tokenize"
   ]
  },
  {
   "cell_type": "code",
   "execution_count": 1,
   "metadata": {
    "colab": {},
    "colab_type": "code",
    "id": "OGZ6LAbSWHIg"
   },
   "outputs": [
    {
     "output_type": "error",
     "ename": "NameError",
     "evalue": "name 'warnings' is not defined",
     "traceback": [
      "\u001b[0;31m---------------------------------------------------------------------------\u001b[0m",
      "\u001b[0;31mNameError\u001b[0m                                 Traceback (most recent call last)",
      "\u001b[0;32m<ipython-input-1-7ffdc70adeba>\u001b[0m in \u001b[0;36m<module>\u001b[0;34m()\u001b[0m\n\u001b[1;32m      1\u001b[0m \u001b[0;31m# Configure for any default setting of any library\u001b[0m\u001b[0;34m\u001b[0m\u001b[0;34m\u001b[0m\u001b[0;34m\u001b[0m\u001b[0m\n\u001b[0;32m----> 2\u001b[0;31m \u001b[0mwarnings\u001b[0m\u001b[0;34m.\u001b[0m\u001b[0mfilterwarnings\u001b[0m\u001b[0;34m(\u001b[0m\u001b[0;34m'ignore'\u001b[0m\u001b[0;34m)\u001b[0m\u001b[0;34m\u001b[0m\u001b[0;34m\u001b[0m\u001b[0m\n\u001b[0m",
      "\u001b[0;31mNameError\u001b[0m: name 'warnings' is not defined"
     ]
    }
   ],
   "source": [
    "# Configure for any default setting of any library\n",
    "warnings.filterwarnings('ignore')"
   ]
  },
  {
   "cell_type": "code",
   "execution_count": 3,
   "metadata": {
    "colab": {
     "base_uri": "https://localhost:8080/",
     "height": 197
    },
    "colab_type": "code",
    "executionInfo": {
     "elapsed": 10681,
     "status": "ok",
     "timestamp": 1581763588233,
     "user": {
      "displayName": "Akshaya Kumar Das",
      "photoUrl": "https://lh3.googleusercontent.com/a-/AAuE7mDs6ySnlrHQHuOg_R9k9-7RhVHCirW6cJVee9fP9w=s64",
      "userId": "00274796301986976222"
     },
     "user_tz": -330
    },
    "id": "KPhEkq0UHdQR",
    "outputId": "42f79d10-6f49-4e1b-9329-5ad16f2a1cd7"
   },
   "outputs": [
    {
     "output_type": "execute_result",
     "data": {
      "text/plain": "               Short description  ... Assignment group\n0                    login issue  ...            GRP_0\n1                        outlook  ...            GRP_0\n2             cant log in to vpn  ...            GRP_0\n3  unable to access hr_tool page  ...            GRP_0\n4                   skype error   ...            GRP_0\n\n[5 rows x 4 columns]",
      "text/html": "<div>\n<style scoped>\n    .dataframe tbody tr th:only-of-type {\n        vertical-align: middle;\n    }\n\n    .dataframe tbody tr th {\n        vertical-align: top;\n    }\n\n    .dataframe thead th {\n        text-align: right;\n    }\n</style>\n<table border=\"1\" class=\"dataframe\">\n  <thead>\n    <tr style=\"text-align: right;\">\n      <th></th>\n      <th>Short description</th>\n      <th>Description</th>\n      <th>Caller</th>\n      <th>Assignment group</th>\n    </tr>\n  </thead>\n  <tbody>\n    <tr>\n      <th>0</th>\n      <td>login issue</td>\n      <td>-verified user details.(employee# &amp; manager na...</td>\n      <td>spxjnwir pjlcoqds</td>\n      <td>GRP_0</td>\n    </tr>\n    <tr>\n      <th>1</th>\n      <td>outlook</td>\n      <td>\\r\\n\\r\\nreceived from: hmjdrvpb.komuaywn@gmail...</td>\n      <td>hmjdrvpb komuaywn</td>\n      <td>GRP_0</td>\n    </tr>\n    <tr>\n      <th>2</th>\n      <td>cant log in to vpn</td>\n      <td>\\r\\n\\r\\nreceived from: eylqgodm.ybqkwiam@gmail...</td>\n      <td>eylqgodm ybqkwiam</td>\n      <td>GRP_0</td>\n    </tr>\n    <tr>\n      <th>3</th>\n      <td>unable to access hr_tool page</td>\n      <td>unable to access hr_tool page</td>\n      <td>xbkucsvz gcpydteq</td>\n      <td>GRP_0</td>\n    </tr>\n    <tr>\n      <th>4</th>\n      <td>skype error</td>\n      <td>skype error</td>\n      <td>owlgqjme qhcozdfx</td>\n      <td>GRP_0</td>\n    </tr>\n  </tbody>\n</table>\n</div>"
     },
     "metadata": {},
     "execution_count": 3
    }
   ],
   "source": [
    "# Load the dataset into a Pandas dataframe called ticket and check the head of the dataset\n",
    "ticket = pd.read_excel('Dataset/Dataset.xlsx', )\n",
    "ticket.head()"
   ]
  },
  {
   "cell_type": "code",
   "execution_count": 4,
   "metadata": {
    "colab": {
     "base_uri": "https://localhost:8080/",
     "height": 197
    },
    "colab_type": "code",
    "executionInfo": {
     "elapsed": 10666,
     "status": "ok",
     "timestamp": 1581763588234,
     "user": {
      "displayName": "Akshaya Kumar Das",
      "photoUrl": "https://lh3.googleusercontent.com/a-/AAuE7mDs6ySnlrHQHuOg_R9k9-7RhVHCirW6cJVee9fP9w=s64",
      "userId": "00274796301986976222"
     },
     "user_tz": -330
    },
    "id": "lLEJIl1hWHIx",
    "outputId": "b0ec7fb4-a822-4f7e-d398-d40ecc0888b4"
   },
   "outputs": [
    {
     "output_type": "execute_result",
     "data": {
      "text/plain": "                                      Short description  ... Assignment group\n8495                  emails not coming in from zz mail  ...           GRP_29\n8496                           telephony_software issue  ...            GRP_0\n8497  vip2: windows password reset for tifpdchb pedx...  ...            GRP_0\n8498                     machine nÃ£o estÃ¡ funcionando  ...           GRP_62\n8499  an mehreren pc`s lassen sich verschiedene prgr...  ...           GRP_49\n\n[5 rows x 4 columns]",
      "text/html": "<div>\n<style scoped>\n    .dataframe tbody tr th:only-of-type {\n        vertical-align: middle;\n    }\n\n    .dataframe tbody tr th {\n        vertical-align: top;\n    }\n\n    .dataframe thead th {\n        text-align: right;\n    }\n</style>\n<table border=\"1\" class=\"dataframe\">\n  <thead>\n    <tr style=\"text-align: right;\">\n      <th></th>\n      <th>Short description</th>\n      <th>Description</th>\n      <th>Caller</th>\n      <th>Assignment group</th>\n    </tr>\n  </thead>\n  <tbody>\n    <tr>\n      <th>8495</th>\n      <td>emails not coming in from zz mail</td>\n      <td>\\r\\n\\r\\nreceived from: avglmrts.vhqmtiua@gmail...</td>\n      <td>avglmrts vhqmtiua</td>\n      <td>GRP_29</td>\n    </tr>\n    <tr>\n      <th>8496</th>\n      <td>telephony_software issue</td>\n      <td>telephony_software issue</td>\n      <td>rbozivdq gmlhrtvp</td>\n      <td>GRP_0</td>\n    </tr>\n    <tr>\n      <th>8497</th>\n      <td>vip2: windows password reset for tifpdchb pedx...</td>\n      <td>vip2: windows password reset for tifpdchb pedx...</td>\n      <td>oybwdsgx oxyhwrfz</td>\n      <td>GRP_0</td>\n    </tr>\n    <tr>\n      <th>8498</th>\n      <td>machine nÃ£o estÃ¡ funcionando</td>\n      <td>i am unable to access the machine utilities to...</td>\n      <td>ufawcgob aowhxjky</td>\n      <td>GRP_62</td>\n    </tr>\n    <tr>\n      <th>8499</th>\n      <td>an mehreren pc`s lassen sich verschiedene prgr...</td>\n      <td>an mehreren pc`s lassen sich verschiedene prgr...</td>\n      <td>kqvbrspl jyzoklfx</td>\n      <td>GRP_49</td>\n    </tr>\n  </tbody>\n</table>\n</div>"
     },
     "metadata": {},
     "execution_count": 4
    }
   ],
   "source": [
    "# Check the tail of the dataset\n",
    "ticket.tail()"
   ]
  },
  {
   "cell_type": "markdown",
   "metadata": {
    "colab_type": "text",
    "id": "NUCRreoJWHI0"
   },
   "source": [
    "**Comments**\n",
    "* To take a closer look at the data, pandas library provides **“.head()”** function which returns first five observations and **“.tail()”** function which returns last five observations of the data set."
   ]
  },
  {
   "cell_type": "markdown",
   "metadata": {},
   "source": [
    "### Dataset Inspection\n",
    "The dataset is divided into two parts, namely, **feature matrix** and the **response vector**.\n",
    "\n",
    "- Feature matrix contains all the vectors(rows) of dataset in which each vector consists of the value of **dependent features**. In above dataset, features are *Short description*, *Description* and *Caller*.\n",
    "- Response vector contains the value of **class variable**(prediction or output) for each row of feature matrix. In above dataset, the class variable name is *Assignment group*."
   ]
  },
  {
   "cell_type": "code",
   "execution_count": 5,
   "metadata": {
    "colab": {
     "base_uri": "https://localhost:8080/",
     "height": 52
    },
    "colab_type": "code",
    "executionInfo": {
     "elapsed": 10657,
     "status": "ok",
     "timestamp": 1581763588234,
     "user": {
      "displayName": "Akshaya Kumar Das",
      "photoUrl": "https://lh3.googleusercontent.com/a-/AAuE7mDs6ySnlrHQHuOg_R9k9-7RhVHCirW6cJVee9fP9w=s64",
      "userId": "00274796301986976222"
     },
     "user_tz": -330
    },
    "id": "MW_0NkG7WHI1",
    "outputId": "4d63a620-87ec-471e-b31c-0aec1efb31ae"
   },
   "outputs": [
    {
     "output_type": "stream",
     "name": "stdout",
     "text": "No of rows:\u001b[1m 8500 \u001b[0m\nNo of cols:\u001b[1m 4 \u001b[0m\n"
    }
   ],
   "source": [
    "# Get the shape and size of the dataset\n",
    "print('No of rows:\\033[1m', ticket.shape[0], '\\033[0m')\n",
    "print('No of cols:\\033[1m', ticket.shape[1], '\\033[0m')"
   ]
  },
  {
   "cell_type": "code",
   "execution_count": 6,
   "metadata": {
    "colab": {
     "base_uri": "https://localhost:8080/",
     "height": 176
    },
    "colab_type": "code",
    "executionInfo": {
     "elapsed": 10647,
     "status": "ok",
     "timestamp": 1581763588235,
     "user": {
      "displayName": "Akshaya Kumar Das",
      "photoUrl": "https://lh3.googleusercontent.com/a-/AAuE7mDs6ySnlrHQHuOg_R9k9-7RhVHCirW6cJVee9fP9w=s64",
      "userId": "00274796301986976222"
     },
     "user_tz": -330
    },
    "id": "sbdtY_fZWHI4",
    "outputId": "c4f525a6-ce9f-484d-a8ec-1ccc7d145f08",
    "scrolled": true
   },
   "outputs": [
    {
     "output_type": "stream",
     "name": "stdout",
     "text": "<class 'pandas.core.frame.DataFrame'>\nRangeIndex: 8500 entries, 0 to 8499\nData columns (total 4 columns):\n #   Column             Non-Null Count  Dtype \n---  ------             --------------  ----- \n 0   Short description  8492 non-null   object\n 1   Description        8499 non-null   object\n 2   Caller             8500 non-null   object\n 3   Assignment group   8500 non-null   object\ndtypes: object(4)\nmemory usage: 265.8+ KB\n"
    }
   ],
   "source": [
    "# Get more info on it\n",
    "# 1. Name of the columns\n",
    "# 2. Find the data types of each columns\n",
    "# 3. Look for any null/missing values\n",
    "ticket.info()"
   ]
  },
  {
   "cell_type": "code",
   "execution_count": 7,
   "metadata": {
    "colab": {
     "base_uri": "https://localhost:8080/",
     "height": 167
    },
    "colab_type": "code",
    "executionInfo": {
     "elapsed": 10636,
     "status": "ok",
     "timestamp": 1581763588235,
     "user": {
      "displayName": "Akshaya Kumar Das",
      "photoUrl": "https://lh3.googleusercontent.com/a-/AAuE7mDs6ySnlrHQHuOg_R9k9-7RhVHCirW6cJVee9fP9w=s64",
      "userId": "00274796301986976222"
     },
     "user_tz": -330
    },
    "id": "XSKcCAQ4WHI7",
    "outputId": "23890898-822c-496f-80e4-7d8a09d2133f"
   },
   "outputs": [
    {
     "output_type": "execute_result",
     "data": {
      "text/plain": "       Short description Description             Caller Assignment group\ncount               8492        8499               8500             8500\nunique              7481        7817               2950               74\ntop       password reset         the  bpctwhsn kzqsbmtp            GRP_0\nfreq                  38          56                810             3976",
      "text/html": "<div>\n<style scoped>\n    .dataframe tbody tr th:only-of-type {\n        vertical-align: middle;\n    }\n\n    .dataframe tbody tr th {\n        vertical-align: top;\n    }\n\n    .dataframe thead th {\n        text-align: right;\n    }\n</style>\n<table border=\"1\" class=\"dataframe\">\n  <thead>\n    <tr style=\"text-align: right;\">\n      <th></th>\n      <th>Short description</th>\n      <th>Description</th>\n      <th>Caller</th>\n      <th>Assignment group</th>\n    </tr>\n  </thead>\n  <tbody>\n    <tr>\n      <th>count</th>\n      <td>8492</td>\n      <td>8499</td>\n      <td>8500</td>\n      <td>8500</td>\n    </tr>\n    <tr>\n      <th>unique</th>\n      <td>7481</td>\n      <td>7817</td>\n      <td>2950</td>\n      <td>74</td>\n    </tr>\n    <tr>\n      <th>top</th>\n      <td>password reset</td>\n      <td>the</td>\n      <td>bpctwhsn kzqsbmtp</td>\n      <td>GRP_0</td>\n    </tr>\n    <tr>\n      <th>freq</th>\n      <td>38</td>\n      <td>56</td>\n      <td>810</td>\n      <td>3976</td>\n    </tr>\n  </tbody>\n</table>\n</div>"
     },
     "metadata": {},
     "execution_count": 7
    }
   ],
   "source": [
    "# Describe the dataset with various summary and statistics\n",
    "ticket.describe()"
   ]
  },
  {
   "cell_type": "code",
   "execution_count": 8,
   "metadata": {
    "colab": {
     "base_uri": "https://localhost:8080/",
     "height": 197
    },
    "colab_type": "code",
    "executionInfo": {
     "elapsed": 10577,
     "status": "ok",
     "timestamp": 1581763588236,
     "user": {
      "displayName": "Akshaya Kumar Das",
      "photoUrl": "https://lh3.googleusercontent.com/a-/AAuE7mDs6ySnlrHQHuOg_R9k9-7RhVHCirW6cJVee9fP9w=s64",
      "userId": "00274796301986976222"
     },
     "user_tz": -330
    },
    "id": "B60zhFrDWHI-",
    "outputId": "953667b3-2e70-45f2-9deb-988b0041ff27"
   },
   "outputs": [
    {
     "output_type": "execute_result",
     "data": {
      "text/plain": "                                      Short description  ... Assignment group\n1049  reset passwords for soldfnbq uhnbsvqd using pa...  ...           GRP_17\n1054  reset passwords for fygrwuna gomcekzi using pa...  ...           GRP_17\n1144  reset passwords for wvdxnkhf jirecvta using pa...  ...           GRP_17\n1184  reset passwords for pxvjczdt kizsjfpq using pa...  ...           GRP_17\n1292  reset passwords for cubdsrml znewqgop using pa...  ...           GRP_17\n\n[5 rows x 4 columns]",
      "text/html": "<div>\n<style scoped>\n    .dataframe tbody tr th:only-of-type {\n        vertical-align: middle;\n    }\n\n    .dataframe tbody tr th {\n        vertical-align: top;\n    }\n\n    .dataframe thead th {\n        text-align: right;\n    }\n</style>\n<table border=\"1\" class=\"dataframe\">\n  <thead>\n    <tr style=\"text-align: right;\">\n      <th></th>\n      <th>Short description</th>\n      <th>Description</th>\n      <th>Caller</th>\n      <th>Assignment group</th>\n    </tr>\n  </thead>\n  <tbody>\n    <tr>\n      <th>1049</th>\n      <td>reset passwords for soldfnbq uhnbsvqd using pa...</td>\n      <td>the</td>\n      <td>soldfnbq uhnbsvqd</td>\n      <td>GRP_17</td>\n    </tr>\n    <tr>\n      <th>1054</th>\n      <td>reset passwords for fygrwuna gomcekzi using pa...</td>\n      <td>the</td>\n      <td>fygrwuna gomcekzi</td>\n      <td>GRP_17</td>\n    </tr>\n    <tr>\n      <th>1144</th>\n      <td>reset passwords for wvdxnkhf jirecvta using pa...</td>\n      <td>the</td>\n      <td>wvdxnkhf jirecvta</td>\n      <td>GRP_17</td>\n    </tr>\n    <tr>\n      <th>1184</th>\n      <td>reset passwords for pxvjczdt kizsjfpq using pa...</td>\n      <td>the</td>\n      <td>pxvjczdt kizsjfpq</td>\n      <td>GRP_17</td>\n    </tr>\n    <tr>\n      <th>1292</th>\n      <td>reset passwords for cubdsrml znewqgop using pa...</td>\n      <td>the</td>\n      <td>cubdsrml znewqgop</td>\n      <td>GRP_17</td>\n    </tr>\n  </tbody>\n</table>\n</div>"
     },
     "metadata": {},
     "execution_count": 8
    }
   ],
   "source": [
    "# Check the Short description of tickets having Description as only 'the'\n",
    "ticket[ticket.Description == 'the'].head()"
   ]
  },
  {
   "cell_type": "code",
   "execution_count": 9,
   "metadata": {
    "colab": {
     "base_uri": "https://localhost:8080/",
     "height": 105
    },
    "colab_type": "code",
    "executionInfo": {
     "elapsed": 10564,
     "status": "ok",
     "timestamp": 1581763588236,
     "user": {
      "displayName": "Akshaya Kumar Das",
      "photoUrl": "https://lh3.googleusercontent.com/a-/AAuE7mDs6ySnlrHQHuOg_R9k9-7RhVHCirW6cJVee9fP9w=s64",
      "userId": "00274796301986976222"
     },
     "user_tz": -330
    },
    "id": "GD7r8zXgWHJA",
    "outputId": "36dc96d7-866a-422e-8dd6-b3f50a49a405"
   },
   "outputs": [
    {
     "output_type": "execute_result",
     "data": {
      "text/plain": "Short description    8\nDescription          1\nCaller               0\nAssignment group     0\ndtype: int64"
     },
     "metadata": {},
     "execution_count": 9
    }
   ],
   "source": [
    "# Find out the null value counts in each column\n",
    "ticket.isnull().sum()"
   ]
  },
  {
   "cell_type": "markdown",
   "metadata": {
    "colab_type": "text",
    "id": "8zMIhgDbWHJD"
   },
   "source": [
    "**Observations**\n",
    "- The dataset comprises of **8500 rows** and **4 columns**\n",
    "- All columns are of type object containing textual information.\n",
    "- There are **8 null/missing values** present in the Short description and **1 null/missing values** present in the description column\n",
    "- **Password reset** is one of the most occuring tickets which reflects in the Short description column.\n",
    "- The top occuring Description in the dataset is only the text **'the'**, which absolutely doesn't make any sense. hence by looking at the Short description of such rows reveals that these are also a category of Password reset."
   ]
  },
  {
   "cell_type": "code",
   "execution_count": 10,
   "metadata": {
    "colab": {
     "base_uri": "https://localhost:8080/",
     "height": 317
    },
    "colab_type": "code",
    "executionInfo": {
     "elapsed": 10557,
     "status": "ok",
     "timestamp": 1581763588237,
     "user": {
      "displayName": "Akshaya Kumar Das",
      "photoUrl": "https://lh3.googleusercontent.com/a-/AAuE7mDs6ySnlrHQHuOg_R9k9-7RhVHCirW6cJVee9fP9w=s64",
      "userId": "00274796301986976222"
     },
     "user_tz": -330
    },
    "id": "e3e7whWlWHJE",
    "outputId": "88893360-8d2d-4c35-b171-9cb1c2f8bc96"
   },
   "outputs": [
    {
     "output_type": "execute_result",
     "data": {
      "text/plain": "             Short description  ... Assignment group\n2604                       NaN  ...           GRP_34\n3383                       NaN  ...            GRP_0\n3906                       NaN  ...            GRP_0\n3910                       NaN  ...            GRP_0\n3915                       NaN  ...            GRP_0\n3921                       NaN  ...            GRP_0\n3924                       NaN  ...            GRP_0\n4341                       NaN  ...            GRP_0\n4395  i am locked out of skype  ...            GRP_0\n\n[9 rows x 4 columns]",
      "text/html": "<div>\n<style scoped>\n    .dataframe tbody tr th:only-of-type {\n        vertical-align: middle;\n    }\n\n    .dataframe tbody tr th {\n        vertical-align: top;\n    }\n\n    .dataframe thead th {\n        text-align: right;\n    }\n</style>\n<table border=\"1\" class=\"dataframe\">\n  <thead>\n    <tr style=\"text-align: right;\">\n      <th></th>\n      <th>Short description</th>\n      <th>Description</th>\n      <th>Caller</th>\n      <th>Assignment group</th>\n    </tr>\n  </thead>\n  <tbody>\n    <tr>\n      <th>2604</th>\n      <td>NaN</td>\n      <td>\\r\\n\\r\\nreceived from: ohdrnswl.rezuibdt@gmail...</td>\n      <td>ohdrnswl rezuibdt</td>\n      <td>GRP_34</td>\n    </tr>\n    <tr>\n      <th>3383</th>\n      <td>NaN</td>\n      <td>\\r\\n-connected to the user system using teamvi...</td>\n      <td>qftpazns fxpnytmk</td>\n      <td>GRP_0</td>\n    </tr>\n    <tr>\n      <th>3906</th>\n      <td>NaN</td>\n      <td>-user unable  tologin to vpn.\\r\\n-connected to...</td>\n      <td>awpcmsey ctdiuqwe</td>\n      <td>GRP_0</td>\n    </tr>\n    <tr>\n      <th>3910</th>\n      <td>NaN</td>\n      <td>-user unable  tologin to vpn.\\r\\n-connected to...</td>\n      <td>rhwsmefo tvphyura</td>\n      <td>GRP_0</td>\n    </tr>\n    <tr>\n      <th>3915</th>\n      <td>NaN</td>\n      <td>-user unable  tologin to vpn.\\r\\n-connected to...</td>\n      <td>hxripljo efzounig</td>\n      <td>GRP_0</td>\n    </tr>\n    <tr>\n      <th>3921</th>\n      <td>NaN</td>\n      <td>-user unable  tologin to vpn.\\r\\n-connected to...</td>\n      <td>cziadygo veiosxby</td>\n      <td>GRP_0</td>\n    </tr>\n    <tr>\n      <th>3924</th>\n      <td>NaN</td>\n      <td>name:wvqgbdhm fwchqjor\\nlanguage:\\nbrowser:mic...</td>\n      <td>wvqgbdhm fwchqjor</td>\n      <td>GRP_0</td>\n    </tr>\n    <tr>\n      <th>4341</th>\n      <td>NaN</td>\n      <td>\\r\\n\\r\\nreceived from: eqmuniov.ehxkcbgj@gmail...</td>\n      <td>eqmuniov ehxkcbgj</td>\n      <td>GRP_0</td>\n    </tr>\n    <tr>\n      <th>4395</th>\n      <td>i am locked out of skype</td>\n      <td>NaN</td>\n      <td>viyglzfo ajtfzpkb</td>\n      <td>GRP_0</td>\n    </tr>\n  </tbody>\n</table>\n</div>"
     },
     "metadata": {},
     "execution_count": 10
    }
   ],
   "source": [
    "# Let's look at the rows with null values\n",
    "ticket[pd.isnull(ticket).any(axis=1)]"
   ]
  },
  {
   "cell_type": "markdown",
   "metadata": {},
   "source": [
    "### NULL treatment"
   ]
  },
  {
   "cell_type": "code",
   "execution_count": 11,
   "metadata": {
    "colab": {
     "base_uri": "https://localhost:8080/",
     "height": 47
    },
    "colab_type": "code",
    "executionInfo": {
     "elapsed": 10551,
     "status": "ok",
     "timestamp": 1581763588237,
     "user": {
      "displayName": "Akshaya Kumar Das",
      "photoUrl": "https://lh3.googleusercontent.com/a-/AAuE7mDs6ySnlrHQHuOg_R9k9-7RhVHCirW6cJVee9fP9w=s64",
      "userId": "00274796301986976222"
     },
     "user_tz": -330
    },
    "id": "E9_ArfPHWHJG",
    "outputId": "99fa5b28-8553-4ce8-ea86-a85fbc6aa21c"
   },
   "outputs": [
    {
     "output_type": "execute_result",
     "data": {
      "text/plain": "Empty DataFrame\nColumns: [Short description, Description, Caller, Assignment group]\nIndex: []",
      "text/html": "<div>\n<style scoped>\n    .dataframe tbody tr th:only-of-type {\n        vertical-align: middle;\n    }\n\n    .dataframe tbody tr th {\n        vertical-align: top;\n    }\n\n    .dataframe thead th {\n        text-align: right;\n    }\n</style>\n<table border=\"1\" class=\"dataframe\">\n  <thead>\n    <tr style=\"text-align: right;\">\n      <th></th>\n      <th>Short description</th>\n      <th>Description</th>\n      <th>Caller</th>\n      <th>Assignment group</th>\n    </tr>\n  </thead>\n  <tbody>\n  </tbody>\n</table>\n</div>"
     },
     "metadata": {},
     "execution_count": 11
    }
   ],
   "source": [
    "# NULL replacement\n",
    "ticket.fillna(str(), inplace=True)\n",
    "ticket[pd.isnull(ticket).any(axis=1)]"
   ]
  },
  {
   "cell_type": "code",
   "execution_count": 12,
   "metadata": {
    "colab": {
     "base_uri": "https://localhost:8080/",
     "height": 105
    },
    "colab_type": "code",
    "executionInfo": {
     "elapsed": 10546,
     "status": "ok",
     "timestamp": 1581763588238,
     "user": {
      "displayName": "Akshaya Kumar Das",
      "photoUrl": "https://lh3.googleusercontent.com/a-/AAuE7mDs6ySnlrHQHuOg_R9k9-7RhVHCirW6cJVee9fP9w=s64",
      "userId": "00274796301986976222"
     },
     "user_tz": -330
    },
    "id": "0g6jMS-JWHJJ",
    "outputId": "a90611b9-5d55-4b39-a715-8138f1423734"
   },
   "outputs": [
    {
     "output_type": "execute_result",
     "data": {
      "text/plain": "Short description    0\nDescription          0\nCaller               0\nAssignment group     0\ndtype: int64"
     },
     "metadata": {},
     "execution_count": 12
    }
   ],
   "source": [
    "# verify the replacement\n",
    "ticket.isnull().sum()"
   ]
  },
  {
   "cell_type": "markdown",
   "metadata": {
    "colab_type": "text",
    "id": "YxoaibJiWHJM"
   },
   "source": [
    "**Comments**:\n",
    "- We have various ways of treating the NULL/Missing values in the dataset such as \n",
    "    - Replacing them with empty string \n",
    "    - Replacing them with some default values\n",
    "    - Duplicating the Short description and Description values wherever one of them is Null\n",
    "    - Dropping the records with null/missing values completely.\n",
    "- We're not choosing to drop any record as we don't want to loose any information. And as we're going to concatenate the Short description and Description columns for each record while feeding them into NLP, we neither want to pollute the data by introducing any default values nor bias it by duplicating the description colomns.\n",
    "- Hence our NULL/Missing value treatment replaces the NaN cells with just empty string."
   ]
  },
  {
   "cell_type": "code",
   "execution_count": 13,
   "metadata": {
    "colab": {
     "base_uri": "https://localhost:8080/",
     "height": 406
    },
    "colab_type": "code",
    "executionInfo": {
     "elapsed": 11343,
     "status": "ok",
     "timestamp": 1581763589043,
     "user": {
      "displayName": "Akshaya Kumar Das",
      "photoUrl": "https://lh3.googleusercontent.com/a-/AAuE7mDs6ySnlrHQHuOg_R9k9-7RhVHCirW6cJVee9fP9w=s64",
      "userId": "00274796301986976222"
     },
     "user_tz": -330
    },
    "id": "GlqmSEyKWHJN",
    "outputId": "a5b97fe4-d867-4cbf-cbe7-588248d55981"
   },
   "outputs": [
    {
     "output_type": "execute_result",
     "data": {
      "text/plain": "                                      Short description  ... Assignment group\n99                             password expiry tomorrow  ...            GRP_0\n116                                       server issues  ...            GRP_0\n124                            mobile device activation  ...            GRP_0\n164          æ’¤å›ž: ticket_no1564867 -- comments added  ...            GRP_0\n170        [urgent!!] delivery note creation request!!   ...           GRP_18\n...                                                 ...  ...              ...\n8470  please review your recent ticketing_tool ticke...  ...           GRP_16\n8471                           ç”µè„‘å¼€æœºå¼€ä¸å‡ºæ¥  ...           GRP_30\n8480                      customer group enhanced field  ...            GRP_9\n8498                     machine nÃ£o estÃ¡ funcionando  ...           GRP_62\n8499  an mehreren pc`s lassen sich verschiedene prgr...  ...           GRP_49\n\n[828 rows x 4 columns]",
      "text/html": "<div>\n<style scoped>\n    .dataframe tbody tr th:only-of-type {\n        vertical-align: middle;\n    }\n\n    .dataframe tbody tr th {\n        vertical-align: top;\n    }\n\n    .dataframe thead th {\n        text-align: right;\n    }\n</style>\n<table border=\"1\" class=\"dataframe\">\n  <thead>\n    <tr style=\"text-align: right;\">\n      <th></th>\n      <th>Short description</th>\n      <th>Description</th>\n      <th>Caller</th>\n      <th>Assignment group</th>\n    </tr>\n  </thead>\n  <tbody>\n    <tr>\n      <th>99</th>\n      <td>password expiry tomorrow</td>\n      <td>\\n\\nreceived from: ecprjbod.litmjwsy@gmail.com...</td>\n      <td>ecprjbod litmjwsy</td>\n      <td>GRP_0</td>\n    </tr>\n    <tr>\n      <th>116</th>\n      <td>server issues</td>\n      <td>\\r\\n\\r\\nreceived from: bgqpotek.cuxakvml@gmail...</td>\n      <td>bgqpotek cuxakvml</td>\n      <td>GRP_0</td>\n    </tr>\n    <tr>\n      <th>124</th>\n      <td>mobile device activation</td>\n      <td>from: tvcdfqgp nrbcqwgj \\nsent: friday, octobe...</td>\n      <td>tvcdfqgp nrbcqwgj</td>\n      <td>GRP_0</td>\n    </tr>\n    <tr>\n      <th>164</th>\n      <td>æ’¤å›ž: ticket_no1564867 -- comments added</td>\n      <td>\\n\\nreceived from: abcdri@company.com\\n\\nwindy...</td>\n      <td>tycludks cjofwigv</td>\n      <td>GRP_0</td>\n    </tr>\n    <tr>\n      <th>170</th>\n      <td>[urgent!!] delivery note creation request!!</td>\n      <td>\\n\\nreceived from: fbvpcytz.nokypgvx@gmail.com...</td>\n      <td>fbvpcytz nokypgvx</td>\n      <td>GRP_18</td>\n    </tr>\n    <tr>\n      <th>...</th>\n      <td>...</td>\n      <td>...</td>\n      <td>...</td>\n      <td>...</td>\n    </tr>\n    <tr>\n      <th>8470</th>\n      <td>please review your recent ticketing_tool ticke...</td>\n      <td>from: mikhghytr wafglhdrhjop \\nsent: thursday,...</td>\n      <td>azxhejvq fyemlavd</td>\n      <td>GRP_16</td>\n    </tr>\n    <tr>\n      <th>8471</th>\n      <td>ç”µè„‘å¼€æœºå¼€ä¸å‡ºæ¥</td>\n      <td>to å°è´ºï¼Œæ—©ä¸Šç”µè„‘å¼€æœºå¼€ä¸å‡ºæ¥</td>\n      <td>xqyjztnm onfusvlz</td>\n      <td>GRP_30</td>\n    </tr>\n    <tr>\n      <th>8480</th>\n      <td>customer group enhanced field</td>\n      <td>\\r\\n\\r\\nreceived from: nlearzwi.ukdzstwi@gmail...</td>\n      <td>nlearzwi ukdzstwi</td>\n      <td>GRP_9</td>\n    </tr>\n    <tr>\n      <th>8498</th>\n      <td>machine nÃ£o estÃ¡ funcionando</td>\n      <td>i am unable to access the machine utilities to...</td>\n      <td>ufawcgob aowhxjky</td>\n      <td>GRP_62</td>\n    </tr>\n    <tr>\n      <th>8499</th>\n      <td>an mehreren pc`s lassen sich verschiedene prgr...</td>\n      <td>an mehreren pc`s lassen sich verschiedene prgr...</td>\n      <td>kqvbrspl jyzoklfx</td>\n      <td>GRP_49</td>\n    </tr>\n  </tbody>\n</table>\n<p>828 rows × 4 columns</p>\n</div>"
     },
     "metadata": {},
     "execution_count": 13
    }
   ],
   "source": [
    "# Write a function to apply to the dataset to detect Mojibakes\n",
    "def is_mojibake_impacted(text):\n",
    "    if not badness.sequence_weirdness(text):\n",
    "        # nothing weird, should be okay\n",
    "        return True\n",
    "    try:\n",
    "        text.encode('sloppy-windows-1252')\n",
    "    except UnicodeEncodeError:\n",
    "        # Not CP-1252 encodable, probably fine\n",
    "        return True\n",
    "    else:\n",
    "        # Encodable as CP-1252, Mojibake alert level high\n",
    "        return False\n",
    "    \n",
    "# Check the dataset for mojibake impact\n",
    "ticket[~ticket.iloc[:,:-1].applymap(is_mojibake_impacted).all(1)]"
   ]
  },
  {
   "cell_type": "markdown",
   "metadata": {},
   "source": [
    "### Mojibake\n",
    "[Mojibake](https://en.wikipedia.org/wiki/Mojibake) is the garbled text that is the result of text being decoded using an unintended character encoding. The result is a systematic replacement of symbols with completely unrelated ones, often from a different writing system.<br/>\n",
    "This display may include the generic replacement character (\"�\") in places where the binary representation is considered invalid. A replacement can also involve multiple consecutive symbols, as viewed in one encoding, when the same binary code constitutes one symbol in the other encoding. This is either because of differing constant length encoding (as in Asian 16-bit encodings vs European 8-bit encodings), or the use of variable length encodings (notably UTF-8 and UTF-16). Few such Mojibakes are **¶**, **ç**, **å**, **€**, **æ**, **œ**, **º**, **‡**, **¼**, **¥** etc.\n",
    "\n",
    "As we're dealing with Natural Language and the source of the data is unknown to us, let's run the encoding check to figure out if the dataset is Mojibake impacted.\n",
    "\n",
    "The library **ftfy** (Fixes Text For You) has a greater ability to detect, fix and deal with such Mojibakes. It fixes Unicode that’s broken in various ways. The goal of ftfy is to take in bad Unicode and output good Unicode.\n",
    "\n",
    "Installation:<br/>\n",
    "using pypi: **`!pip install ftfy`**<br/>\n",
    "using conda: **`conda install -c conda-forge ftfy`**"
   ]
  },
  {
   "cell_type": "code",
   "execution_count": 14,
   "metadata": {
    "colab": {
     "base_uri": "https://localhost:8080/",
     "height": 105
    },
    "colab_type": "code",
    "executionInfo": {
     "elapsed": 11338,
     "status": "ok",
     "timestamp": 1581763589043,
     "user": {
      "displayName": "Akshaya Kumar Das",
      "photoUrl": "https://lh3.googleusercontent.com/a-/AAuE7mDs6ySnlrHQHuOg_R9k9-7RhVHCirW6cJVee9fP9w=s64",
      "userId": "00274796301986976222"
     },
     "user_tz": -330
    },
    "id": "QfbSL07CWHJQ",
    "outputId": "d79d0980-4b62-417a-a38d-afc84030535d"
   },
   "outputs": [
    {
     "output_type": "stream",
     "name": "stdout",
     "text": "Grabled text: \u001b[1mç”µè„‘å¼€æœºå¼€ä¸å‡ºæ¥\u001b[0m\nFixed text: \u001b[1m电脑开机开不出来\u001b[0m\n\nMojibake Symbol RegEx:\n [ÂÃĂ][-€ƒ‚„†‡ˆ‰‹Œ“•˜œŸ¡¢£¤¥¦§¨ª«¬¯°±²³µ¶·¸¹º¼½¾¿ˇ˘˝]|[ÂÃĂ][›»‘”´©™]\\w|[¬√][ÄÅÇÉÑÖÜáàâäãåçéèêëíìîïñúùûü†¢£§¶ß®©™≠ÆØ¥ªæø≤≥]|\\w√[±∂]\\w|[ðđ][Ÿ]|â€|вЂ[љћ¦°№™ќ“”]\n"
    }
   ],
   "source": [
    "# Take an example of row# 8471 Short Desc and fix it\n",
    "print('Grabled text: \\033[1m%s\\033[0m\\nFixed text: \\033[1m%s\\033[0m' % (ticket['Short description'][8471], \n",
    "                                                                        fix_text(ticket['Short description'][8471])))\n",
    "\n",
    "# List all mojibakes defined in ftfy library\n",
    "print('\\nMojibake Symbol RegEx:\\n', badness.MOJIBAKE_SYMBOL_RE.pattern)"
   ]
  },
  {
   "cell_type": "code",
   "execution_count": 15,
   "metadata": {
    "colab": {
     "base_uri": "https://localhost:8080/",
     "height": 105
    },
    "colab_type": "code",
    "executionInfo": {
     "elapsed": 13890,
     "status": "ok",
     "timestamp": 1581763591601,
     "user": {
      "displayName": "Akshaya Kumar Das",
      "photoUrl": "https://lh3.googleusercontent.com/a-/AAuE7mDs6ySnlrHQHuOg_R9k9-7RhVHCirW6cJVee9fP9w=s64",
      "userId": "00274796301986976222"
     },
     "user_tz": -330
    },
    "id": "-QooBMXvWHJS",
    "outputId": "1cbe7ec1-0706-49cc-e744-9696ed8d6b00"
   },
   "outputs": [
    {
     "output_type": "execute_result",
     "data": {
      "text/plain": "Short description             电脑开机开不出来\nDescription           to 小贺,早上电脑开机开不出来\nCaller               xqyjztnm onfusvlz\nAssignment group                GRP_30\nName: 8471, dtype: object"
     },
     "metadata": {},
     "execution_count": 15
    }
   ],
   "source": [
    "# Sanitize the dataset from Mojibakes\n",
    "ticket['Short description'] = ticket['Short description'].apply(fix_text)\n",
    "ticket['Description'] = ticket['Description'].apply(fix_text)\n",
    "\n",
    "# Visualize that row# 8471\n",
    "ticket.iloc[8471,:]"
   ]
  },
  {
   "cell_type": "code",
   "execution_count": 17,
   "metadata": {
    "colab": {},
    "colab_type": "code",
    "id": "1i6HOJPWWHJX"
   },
   "outputs": [],
   "source": [
    "# Serialize the mojibake treated dataset\n",
    "ticket.to_csv('Dataset/mojibake_treated.csv', index=False, encoding='utf_8_sig')\n",
    "with open('Dataset/mojibake_treated.pkl', 'wb') as handle:\n",
    "    pickle.dump(ticket, handle, protocol=pickle.HIGHEST_PROTOCOL)"
   ]
  },
  {
   "cell_type": "markdown",
   "metadata": {
    "colab_type": "text",
    "id": "VIAsgbkZWHJa"
   },
   "source": [
    "**Comments:**\n",
    "- `badness.sequence_weirdness()` determines how often a text has unexpected characters or sequences of characters. This metric is used to disambiguate when text should be re-decoded or left as is.\n",
    "- We're successfuly able to get the grabled characters back into their original form using **ftfy.fix_text()``**, however it is observed that the row# 8471 is not English but Mandarine.\n",
    "- So the data in our hand is multilingual and it is quite not possible to derive embeddings for mix of multiple languages. We're going to translate the entire dataset into a single language of English."
   ]
  },
  {
   "cell_type": "markdown",
   "metadata": {},
   "source": [
    "### Language Translation (Goslate: Free Google Translate API)\n",
    "Goslate is an open source python library that implemented Google Translate API. This uses the [Google Translate Ajax API](https://translate.google.com/) to make calls to such methods as detect and translate. It is choosen over another library Googletrans from Google as Goslate is developed to bypass the ticketing mechanism to prevent simple crawler program to access the Ajax API. Hence Goslate with multiple service urls is able to translate the entire dataset in very few iterations without blocking the user's IP address.\n",
    "\n",
    "Installation:<br/>\n",
    "using pypi: **`!pip install goslate`**<br/>\n",
    "using conda: **`conda install -c conda-forge goslate`**\n",
    "\n",
    "Servicce Urls used:\n",
    "**``translate.google.com``**, **``translate.google.com.au``**, **``translate.google.com.ar``**, **``translate.google.co.kr``**, **``translate.google.co.in``**, **``translate.google.co.jp``**, **``translate.google.at``**, **``translate.google.de``**, **``translate.google.ru``**, **``translate.google.ch``**, **``translate.google.fr``**, **``translate.google.es``**, **``translate.google.ae``**"
   ]
  },
  {
   "cell_type": "code",
   "execution_count": 17,
   "metadata": {
    "colab": {
     "base_uri": "https://localhost:8080/",
     "height": 52
    },
    "colab_type": "code",
    "executionInfo": {
     "elapsed": 14586,
     "status": "ok",
     "timestamp": 1581763592308,
     "user": {
      "displayName": "Akshaya Kumar Das",
      "photoUrl": "https://lh3.googleusercontent.com/a-/AAuE7mDs6ySnlrHQHuOg_R9k9-7RhVHCirW6cJVee9fP9w=s64",
      "userId": "00274796301986976222"
     },
     "user_tz": -330
    },
    "id": "PvitgqP1WHJa",
    "outputId": "a368f8ee-4598-442c-f3bd-3d3320647270"
   },
   "outputs": [
    {
     "output_type": "stream",
     "name": "stdout",
     "text": "Original text: \u001b[1m电脑开机开不出来\u001b[0m\nFixed text: \u001b[1mBoot the computer does not really come out\u001b[0m\n"
    }
   ],
   "source": [
    "# Define and construct the service urls\n",
    "svc_domains = ['.com','.com.au','.com.ar','.co.kr','.co.in','.co.jp','.at','.de','.ru','.ch','.fr','.es','.ae']\n",
    "svc_urls = ['http://translate.google' + domain for domain in svc_domains]\n",
    "\n",
    "# # Take an example of row# 8471 Short Desc and fix it\n",
    "gs = Goslate(service_urls=svc_urls)\n",
    "trans_8471 = gs.translate(ticket['Short description'][8471], target_language='en', source_language='auto')\n",
    "print('Original text: \\033[1m%s\\033[0m\\nFixed text: \\033[1m%s\\033[0m' % (ticket['Short description'][8471], trans_8471))"
   ]
  },
  {
   "cell_type": "code",
   "execution_count": 19,
   "metadata": {
    "colab": {},
    "colab_type": "code",
    "id": "78YfunbPWHJd"
   },
   "outputs": [
    {
     "data": {
      "text/html": [
       "<div>\n",
       "<style scoped>\n",
       "    .dataframe tbody tr th:only-of-type {\n",
       "        vertical-align: middle;\n",
       "    }\n",
       "\n",
       "    .dataframe tbody tr th {\n",
       "        vertical-align: top;\n",
       "    }\n",
       "\n",
       "    .dataframe thead th {\n",
       "        text-align: right;\n",
       "    }\n",
       "</style>\n",
       "<table border=\"1\" class=\"dataframe\">\n",
       "  <thead>\n",
       "    <tr style=\"text-align: right;\">\n",
       "      <th></th>\n",
       "      <th>Short description</th>\n",
       "      <th>Description</th>\n",
       "      <th>Language</th>\n",
       "      <th>Caller</th>\n",
       "      <th>Assignment group</th>\n",
       "    </tr>\n",
       "  </thead>\n",
       "  <tbody>\n",
       "    <tr>\n",
       "      <th>0</th>\n",
       "      <td>login issue</td>\n",
       "      <td>-verified user details.(employee# &amp; manager na...</td>\n",
       "      <td>English</td>\n",
       "      <td>spxjnwir pjlcoqds</td>\n",
       "      <td>GRP_0</td>\n",
       "    </tr>\n",
       "    <tr>\n",
       "      <th>1</th>\n",
       "      <td>outlook</td>\n",
       "      <td>received from: hmjdrvpb.komuaywn@gmail.com\\n\\n...</td>\n",
       "      <td>English</td>\n",
       "      <td>hmjdrvpb komuaywn</td>\n",
       "      <td>GRP_0</td>\n",
       "    </tr>\n",
       "    <tr>\n",
       "      <th>2</th>\n",
       "      <td>cant log in to vpn</td>\n",
       "      <td>received from: eylqgodm.ybqkwiam@gmail.com\\n\\n...</td>\n",
       "      <td>English</td>\n",
       "      <td>eylqgodm ybqkwiam</td>\n",
       "      <td>GRP_0</td>\n",
       "    </tr>\n",
       "    <tr>\n",
       "      <th>3</th>\n",
       "      <td>unable to access hr_tool page</td>\n",
       "      <td>unable to access hr_tool page</td>\n",
       "      <td>English</td>\n",
       "      <td>xbkucsvz gcpydteq</td>\n",
       "      <td>GRP_0</td>\n",
       "    </tr>\n",
       "    <tr>\n",
       "      <th>4</th>\n",
       "      <td>Error skype</td>\n",
       "      <td>Error skype</td>\n",
       "      <td>English</td>\n",
       "      <td>owlgqjme qhcozdfx</td>\n",
       "      <td>GRP_0</td>\n",
       "    </tr>\n",
       "  </tbody>\n",
       "</table>\n",
       "</div>"
      ],
      "text/plain": [
       "               Short description  \\\n",
       "0                    login issue   \n",
       "1                        outlook   \n",
       "2             cant log in to vpn   \n",
       "3  unable to access hr_tool page   \n",
       "4                    Error skype   \n",
       "\n",
       "                                         Description Language  \\\n",
       "0  -verified user details.(employee# & manager na...  English   \n",
       "1  received from: hmjdrvpb.komuaywn@gmail.com\\n\\n...  English   \n",
       "2  received from: eylqgodm.ybqkwiam@gmail.com\\n\\n...  English   \n",
       "3                      unable to access hr_tool page  English   \n",
       "4                                        Error skype  English   \n",
       "\n",
       "              Caller Assignment group  \n",
       "0  spxjnwir pjlcoqds            GRP_0  \n",
       "1  hmjdrvpb komuaywn            GRP_0  \n",
       "2  eylqgodm ybqkwiam            GRP_0  \n",
       "3  xbkucsvz gcpydteq            GRP_0  \n",
       "4  owlgqjme qhcozdfx            GRP_0  "
      ]
     },
     "execution_count": 19,
     "metadata": {},
     "output_type": "execute_result"
    }
   ],
   "source": [
    "# List of column data to consider for translation\n",
    "trans_cols = ['Short description','Description']\n",
    "\n",
    "# Add a new column to store the detected language\n",
    "ticket.insert(loc=2, column='Language', value=np.nan, allow_duplicates=True)\n",
    "\n",
    "for idx in range(ticket.shape[0]):\n",
    "    # Instantiate Goslate class in each iteration\n",
    "    gs = Goslate(service_urls=svc_urls)\n",
    "    lang = gs.detect(' '.join(ticket.loc[idx, trans_cols].tolist()))\n",
    "    row_iter = gs.translate(ticket.loc[idx, trans_cols].tolist(), \n",
    "                            target_language='en', \n",
    "                            source_language='auto')\n",
    "    ticket.loc[idx, trans_cols] = list(row_iter)\n",
    "    \n",
    "ticket.Language = lang\n",
    "ticket.head()"
   ]
  },
  {
   "cell_type": "code",
   "execution_count": 20,
   "metadata": {
    "colab": {},
    "colab_type": "code",
    "id": "jHeU63qrWHJf"
   },
   "outputs": [],
   "source": [
    "# Serialize the translated dataset\n",
    "ticket.to_csv('Dataset/translated_ticket.csv', index=False, encoding='utf_8_sig')\n",
    "with open('Dataset/translated_ticket.pkl','wb') as f:\n",
    "    pickle.dump(ticket, f, pickle.HIGHEST_PROTOCOL)"
   ]
  },
  {
   "cell_type": "code",
   "execution_count": 4,
   "metadata": {},
   "outputs": [
    {
     "output_type": "execute_result",
     "data": {
      "text/plain": "               Short description  ... Assignment group\n0                    login issue  ...                0\n1                        outlook  ...                0\n2             cant log in to vpn  ...                0\n3  unable to access hr_tool page  ...                0\n4                    skype error  ...                0\n\n[5 rows x 5 columns]",
      "text/html": "<div>\n<style scoped>\n    .dataframe tbody tr th:only-of-type {\n        vertical-align: middle;\n    }\n\n    .dataframe tbody tr th {\n        vertical-align: top;\n    }\n\n    .dataframe thead th {\n        text-align: right;\n    }\n</style>\n<table border=\"1\" class=\"dataframe\">\n  <thead>\n    <tr style=\"text-align: right;\">\n      <th></th>\n      <th>Short description</th>\n      <th>Description</th>\n      <th>Language</th>\n      <th>Caller</th>\n      <th>Assignment group</th>\n    </tr>\n  </thead>\n  <tbody>\n    <tr>\n      <th>0</th>\n      <td>login issue</td>\n      <td>-verified user details.(employee# &amp; manager na...</td>\n      <td>English</td>\n      <td>spxjnwir pjlcoqds</td>\n      <td>0</td>\n    </tr>\n    <tr>\n      <th>1</th>\n      <td>outlook</td>\n      <td>received from: hmjdrvpb.komuaywn@gmail.com\\n\\n...</td>\n      <td>English</td>\n      <td>hmjdrvpb komuaywn</td>\n      <td>0</td>\n    </tr>\n    <tr>\n      <th>2</th>\n      <td>cant log in to vpn</td>\n      <td>received from: eylqgodm.ybqkwiam@gmail.com\\n\\n...</td>\n      <td>English</td>\n      <td>eylqgodm ybqkwiam</td>\n      <td>0</td>\n    </tr>\n    <tr>\n      <th>3</th>\n      <td>unable to access hr_tool page</td>\n      <td>unable to access hr_tool page</td>\n      <td>English</td>\n      <td>xbkucsvz gcpydteq</td>\n      <td>0</td>\n    </tr>\n    <tr>\n      <th>4</th>\n      <td>skype error</td>\n      <td>skype error</td>\n      <td>English</td>\n      <td>owlgqjme qhcozdfx</td>\n      <td>0</td>\n    </tr>\n  </tbody>\n</table>\n</div>"
     },
     "metadata": {},
     "execution_count": 4
    }
   ],
   "source": [
    "# Load the translated pickle file incase the IP gets blocked\n",
    "ticket = pd.read_csv('Dataset/translated_df.csv', index_col=[0]).fillna(str())\n",
    "ticket[\"Language\"] = ticket[\"Language\"].apply(lambda x: languages.get(alpha_2=x).name if(x != \"zh-CN\") else \"Chinese\")\n",
    "ticket.head()"
   ]
  },
  {
   "cell_type": "markdown",
   "metadata": {},
   "source": [
    "**Comments**:\n",
    "- Unless paid service is used, Google blocks repetative hits to its Ajax API either via Googletrans or Goslate after certain iterations by cloagging the IP address.\n",
    "- Using these list of various domains of translation API as service urls helped the traffic being patched among themselves, in turn allowing a longer buffer before the IP gets blocked."
   ]
  },
  {
   "cell_type": "markdown",
   "metadata": {},
   "source": [
    "### Text Preprocessing\n",
    "Text preprocessing is the process of transferring text from human language to machine-readable format for further processing. After a text is obtained, we start with text normalization. Text normalization includes:\n",
    "- converting all letters to lower or upper case\n",
    "- converting numbers into words or removing numbers\n",
    "- removing punctuations, accent marks and other diacritics\n",
    "- removing white spaces\n",
    "- removing stop words, sparse terms, and particular words\n",
    "- text canonicalization"
   ]
  },
  {
   "cell_type": "code",
   "execution_count": 5,
   "metadata": {},
   "outputs": [],
   "source": [
    "# Define regex patterns\n",
    "EMAIL_PATTERN = r\"([\\w.+-]+@[a-z\\d-]+\\.[a-z\\d.-]+)\"\n",
    "PUNCT_PATTERN = r\"[,|@|\\|?|\\\\|$&*|%|\\r|\\n|.:|\\s+|/|//|\\\\|/|\\||-|<|>|;|(|)|=|+|#|-|\\\"|[-\\]]|{|}]\"\n",
    "# Negative Lookbehind for EmailId replacement- Don't match any number which follows the text \"RetainedEmailId\"\n",
    "NUMER_PATTERN = r\"(?<!RetainedEmailId)(\\d+(?:\\.\\d+)?)\"\n",
    "\n",
    "# Define a function to treat the texts\n",
    "def cleanseText(text):\n",
    "    # Make the text unicase (lower) \n",
    "    text = str(text).lower()\n",
    "    # Remove email adresses\n",
    "    # text = re.sub(EMAIL_PATTERN, '', text, flags=re.IGNORECASE)\n",
    "    # Save Email addresses and replace them with custom keyword\n",
    "    email_dict = extract_email(text)\n",
    "    for key in email_dict.keys():\n",
    "        text = text.replace(email_dict[key], key)\n",
    "    # Remove all numbers \n",
    "    text = re.sub(NUMER_PATTERN, '', text)\n",
    "    # Replace all punctuations with blank space\n",
    "    # text = re.sub(PUNCT_PATTERN, \" \", text, flags=re.MULTILINE)\n",
    "    text = text.translate(str.maketrans(\"\",\"\", string.punctuation))\n",
    "    text = re.sub(r'\\s+', ' ', text)\n",
    "    # Replace multiple spaces from prev step to single\n",
    "    text = re.sub(r' {2,}', \" \", text, flags=re.MULTILINE)\n",
    "    text = text.replace('`',\"'\")\n",
    "    # Replace the email ids back into their original position\n",
    "    for key in email_dict.keys():\n",
    "        text = text.replace(key, email_dict[key])\n",
    "    return text.strip()\n",
    "\n",
    "def extract_email(text):\n",
    "    # Replaces the email addresses with custom key word and \n",
    "    # save them into a dictionary for future use\n",
    "    unique_emailid = set(re.findall(EMAIL_PATTERN, text))\n",
    "    email_replacement = dict()\n",
    "    for idx, email in enumerate(unique_emailid):\n",
    "        email_replacement[f'RetainedEmailId{idx}'] = email\n",
    "    return email_replacement"
   ]
  },
  {
   "cell_type": "code",
   "execution_count": 6,
   "metadata": {},
   "outputs": [
    {
     "output_type": "stream",
     "name": "stdout",
     "text": "\u001b[1mOriginal text:\u001b[0m\nreceived from: kxsceyzo.naokumlb@gmail.com\n\ngentles,\n\ni have two devices that are trying to share an ip address. they are trying to share 96.26.27.9619. one is a printer with the hostname of prtjc0074, and the other is a new display for erp. the display is using dhcp to get its address assigned and the printer is hard coded.\n\nmy guess is that the address 96.26.27.9619 did not get set to a static address in dhcp. i need this corrected so the display will pick up another address.\n____________________________________________________________________________________________________\n\u001b[1mCleaned text:\u001b[0m\nreceived from kxsceyzo.naokumlb@gmail.com gentles i have two devices that are trying to share an ip address they are trying to share one is a printer with the hostname of prtjc and the other is a new display for erp the display is using dhcp to get its address assigned and the printer is hard coded my guess is that the address did not get set to a static address in dhcp i need this corrected so the display will pick up another address\n"
    }
   ],
   "source": [
    "# Take an example of row# 32 Description and fix it\n",
    "print('\\033[1mOriginal text:\\033[0m')\n",
    "print(ticket['Description'][32])\n",
    "print('_'*100)\n",
    "print('\\033[1mCleaned text:\\033[0m')\n",
    "print(cleanseText(ticket['Description'][32]))"
   ]
  },
  {
   "cell_type": "code",
   "execution_count": 7,
   "metadata": {},
   "outputs": [
    {
     "output_type": "execute_result",
     "data": {
      "text/plain": "                                      Short description  ... Assignment group\n8495                  emails not coming in from zz mail  ...               29\n8496                            telephonysoftware issue  ...                0\n8497   vip windows password reset for tifpdchb pedxruyf  ...                0\n8498                       machine não está funcionando  ...               62\n8499  various prgramdntyme can not be opened on mult...  ...               49\n\n[5 rows x 5 columns]",
      "text/html": "<div>\n<style scoped>\n    .dataframe tbody tr th:only-of-type {\n        vertical-align: middle;\n    }\n\n    .dataframe tbody tr th {\n        vertical-align: top;\n    }\n\n    .dataframe thead th {\n        text-align: right;\n    }\n</style>\n<table border=\"1\" class=\"dataframe\">\n  <thead>\n    <tr style=\"text-align: right;\">\n      <th></th>\n      <th>Short description</th>\n      <th>Description</th>\n      <th>Language</th>\n      <th>Caller</th>\n      <th>Assignment group</th>\n    </tr>\n  </thead>\n  <tbody>\n    <tr>\n      <th>8495</th>\n      <td>emails not coming in from zz mail</td>\n      <td>received from avglmrts.vhqmtiua@gmail.com good...</td>\n      <td>German</td>\n      <td>avglmrts vhqmtiua</td>\n      <td>29</td>\n    </tr>\n    <tr>\n      <th>8496</th>\n      <td>telephonysoftware issue</td>\n      <td>telephonysoftware issue</td>\n      <td>German</td>\n      <td>rbozivdq gmlhrtvp</td>\n      <td>0</td>\n    </tr>\n    <tr>\n      <th>8497</th>\n      <td>vip windows password reset for tifpdchb pedxruyf</td>\n      <td>vip windows password reset for tifpdchb pedxruyf</td>\n      <td>German</td>\n      <td>oybwdsgx oxyhwrfz</td>\n      <td>0</td>\n    </tr>\n    <tr>\n      <th>8498</th>\n      <td>machine não está funcionando</td>\n      <td>i am unable to access the machine utilities to...</td>\n      <td>German</td>\n      <td>ufawcgob aowhxjky</td>\n      <td>62</td>\n    </tr>\n    <tr>\n      <th>8499</th>\n      <td>various prgramdntyme can not be opened on mult...</td>\n      <td>various prgramdntyme can not be opened on mult...</td>\n      <td>German</td>\n      <td>kqvbrspl jyzoklfx</td>\n      <td>49</td>\n    </tr>\n  </tbody>\n</table>\n</div>"
     },
     "metadata": {},
     "execution_count": 7
    }
   ],
   "source": [
    "# Apply the cleaning function to entire dataset\n",
    "ticket['Description'] = ticket['Description'].apply(cleanseText)\n",
    "ticket['Short description'] = ticket['Short description'].apply(cleanseText)\n",
    "\n",
    "# Verify the data\n",
    "ticket.tail()"
   ]
  },
  {
   "cell_type": "markdown",
   "metadata": {},
   "source": [
    "**Comments:**\n",
    "- Entire dataset is converted into lower case\n",
    "- Users email addresses will add NO value to our analysis, despite the fact that user id is given in the caller column. So all email adresses are removed from the dataset\n",
    "- All numerals are removed because they were dominating the dataset if we were converting them into their word representation otherwise.\n",
    "- All punctuation marks are removed which used to be a hindrance in lemmatization.\n",
    "- All occurances of more than one blank spaces, horizontal tab spaces, new line breaks etc. have been replaced with single blank space.\n",
    "\n",
    "Now with a nice and cleaner data in our hand let's proceed towards Lemmatization."
   ]
  },
  {
   "cell_type": "markdown",
   "metadata": {},
   "source": [
    "### Stemming and Lemmatization\n",
    "Stemming and Lemmatization are Text Normalization (or sometimes called Word Normalization) techniques in the field of Natural Language Processing that are used to prepare text, words, and documents for further processing.<br/>\n",
    "In grammar, inflection is known as the modification of a word to express different grammatical categories such as tense, case, voice, aspect, person, number, gender, and mood. An inflection expresses one or more grammatical categories with a prefix, suffix or infix, or another internal modification such as a vowel change.\n",
    "\n",
    "**Stemming**<br/>\n",
    "Stemming is the process of reducing inflection in words to their root forms such as mapping a group of words to the same stem even if the stem itself is not a valid word in the Language.\n",
    "\n",
    "**Lemmatization**<br/>\n",
    "Lemmatization, unlike Stemming, reduces the inflected words properly ensuring that the root word belongs to the language. In Lemmatization root word is called Lemma. A lemma (plural lemmas or lemmata) is the canonical form, dictionary form, or citation form of a set of words.\n",
    "\n",
    "### spaCy\n",
    "The [spaCy](https://spacy.io/) library is one of the most popular NLP libraries along with NLTK which contains only one, but the best algorithm to solve any Natural Language problem. Once it is downloaded and installed, the next step is to download the language model, which is used to perform a variety of NLP tasks.\n",
    "\n",
    "Installation:<br/>\n",
    "using pypi: **`!pip install spacy`**<br/>\n",
    "using conda: **`conda install -c conda-forge spacy`**\n",
    "\n",
    "Language Model Download:<br/>\n",
    "**``$ python -m spacy download en_core_web_md``**"
   ]
  },
  {
   "cell_type": "code",
   "execution_count": 8,
   "metadata": {},
   "outputs": [],
   "source": [
    "# Initialize spacy 'en' medium model, keeping only tagger component needed for lemmatization\n",
    "nlp = spacy.load('en_core_web_md', disable=['parser', 'ner'])\n",
    "\n",
    "# Define a function to lemmatize the descriptions\n",
    "def lemmatizer(sentence):\n",
    "    # Parse the sentence using the loaded 'en' model object `nlp`\n",
    "    doc = nlp(sentence)\n",
    "    return \" \".join([token.lemma_ for token in doc if token.lemma_ !='-PRON-'])"
   ]
  },
  {
   "cell_type": "code",
   "execution_count": 9,
   "metadata": {},
   "outputs": [
    {
     "output_type": "stream",
     "name": "stdout",
     "text": "\u001b[1mOriginal text:\u001b[0m\nreceived from yisohglr.uvteflgb@gmail.com hi the printer printer is not working and needs a part replaced can you reroute the jobs in queue to printer printer wihuyjdo qpogfwkb has indicated that prqos needs a new part and it may not deliver for a few days so the inwarehousetools will need to print on printer for now this needs to be taken care of today since the inwarehousetools are printed and are picked up by an outside vendor at pm in usa on a daily basis please contact dkmcfreg anwmfvlgenkataramdntyana if you have questions about the jobs in queue for today\n____________________________________________________________________________________________________\n\u001b[1mLemmatized text:\u001b[0m\nreceive from yisohglr.uvteflgb@gmail.com hi the printer printer be not work and need a part replace can reroute the job in queue to printer printer wihuyjdo qpogfwkb have indicate that prqos need a new part and may not deliver for a few day so the inwarehousetool will need to print on printer for now this need to be take care of today since the inwarehousetool be print and be pick up by an outside vendor at pm in usa on a daily basis please contact dkmcfreg anwmfvlgenkataramdntyana if have question about the job in queue for today\n"
    }
   ],
   "source": [
    "# Take an example of row# 43 Description and lemmatize it\n",
    "print('\\033[1mOriginal text:\\033[0m')\n",
    "print(ticket['Description'][43])\n",
    "print('_'*100)\n",
    "print('\\033[1mLemmatized text:\\033[0m')\n",
    "print(lemmatizer(ticket['Description'][43]))"
   ]
  },
  {
   "cell_type": "code",
   "execution_count": 10,
   "metadata": {},
   "outputs": [
    {
     "output_type": "execute_result",
     "data": {
      "text/plain": "                                      Short description  ... Assignment group\n8495                     email not come in from zz mail  ...               29\n8496                            telephonysoftware issue  ...                0\n8497   vip windows password reset for tifpdchb pedxruyf  ...                0\n8498                       machine não está funcionando  ...               62\n8499  various prgramdntyme can not be open on multip...  ...               49\n\n[5 rows x 5 columns]",
      "text/html": "<div>\n<style scoped>\n    .dataframe tbody tr th:only-of-type {\n        vertical-align: middle;\n    }\n\n    .dataframe tbody tr th {\n        vertical-align: top;\n    }\n\n    .dataframe thead th {\n        text-align: right;\n    }\n</style>\n<table border=\"1\" class=\"dataframe\">\n  <thead>\n    <tr style=\"text-align: right;\">\n      <th></th>\n      <th>Short description</th>\n      <th>Description</th>\n      <th>Language</th>\n      <th>Caller</th>\n      <th>Assignment group</th>\n    </tr>\n  </thead>\n  <tbody>\n    <tr>\n      <th>8495</th>\n      <td>email not come in from zz mail</td>\n      <td>receive from avglmrts.vhqmtiua@gmail.com good ...</td>\n      <td>German</td>\n      <td>avglmrts vhqmtiua</td>\n      <td>29</td>\n    </tr>\n    <tr>\n      <th>8496</th>\n      <td>telephonysoftware issue</td>\n      <td>telephonysoftware issue</td>\n      <td>German</td>\n      <td>rbozivdq gmlhrtvp</td>\n      <td>0</td>\n    </tr>\n    <tr>\n      <th>8497</th>\n      <td>vip windows password reset for tifpdchb pedxruyf</td>\n      <td>vip windows password reset for tifpdchb pedxruyf</td>\n      <td>German</td>\n      <td>oybwdsgx oxyhwrfz</td>\n      <td>0</td>\n    </tr>\n    <tr>\n      <th>8498</th>\n      <td>machine não está funcionando</td>\n      <td>i be unable to access the machine utility to f...</td>\n      <td>German</td>\n      <td>ufawcgob aowhxjky</td>\n      <td>62</td>\n    </tr>\n    <tr>\n      <th>8499</th>\n      <td>various prgramdntyme can not be open on multip...</td>\n      <td>various prgramdntyme can not be open on multip...</td>\n      <td>German</td>\n      <td>kqvbrspl jyzoklfx</td>\n      <td>49</td>\n    </tr>\n  </tbody>\n</table>\n</div>"
     },
     "metadata": {},
     "execution_count": 10
    }
   ],
   "source": [
    "# Apply the Lemmatization to entire dataset\n",
    "ticket['Description'] = ticket['Description'].apply(lemmatizer)\n",
    "ticket['Short description'] = ticket['Short description'].apply(lemmatizer)\n",
    "\n",
    "# Verify the data\n",
    "ticket.tail()"
   ]
  },
  {
   "cell_type": "code",
   "execution_count": 13,
   "metadata": {},
   "outputs": [
    {
     "output_type": "execute_result",
     "data": {
      "text/plain": "              Short description  sd_len  ...             Caller Assignment group\n0                   login issue      11  ...  spxjnwir pjlcoqds                0\n1                       outlook       7  ...  hmjdrvpb komuaywn                0\n2         can not log in to vpn      21  ...  eylqgodm ybqkwiam                0\n3  unable to access hrtool page      28  ...  xbkucsvz gcpydteq                0\n4                   skype error      11  ...  owlgqjme qhcozdfx                0\n\n[5 rows x 9 columns]",
      "text/html": "<div>\n<style scoped>\n    .dataframe tbody tr th:only-of-type {\n        vertical-align: middle;\n    }\n\n    .dataframe tbody tr th {\n        vertical-align: top;\n    }\n\n    .dataframe thead th {\n        text-align: right;\n    }\n</style>\n<table border=\"1\" class=\"dataframe\">\n  <thead>\n    <tr style=\"text-align: right;\">\n      <th></th>\n      <th>Short description</th>\n      <th>sd_len</th>\n      <th>sd_word_count</th>\n      <th>Description</th>\n      <th>desc_len</th>\n      <th>desc_word_count</th>\n      <th>Language</th>\n      <th>Caller</th>\n      <th>Assignment group</th>\n    </tr>\n  </thead>\n  <tbody>\n    <tr>\n      <th>0</th>\n      <td>login issue</td>\n      <td>11</td>\n      <td>2</td>\n      <td>verified user detailsemployee manager name che...</td>\n      <td>177</td>\n      <td>31</td>\n      <td>English</td>\n      <td>spxjnwir pjlcoqds</td>\n      <td>0</td>\n    </tr>\n    <tr>\n      <th>1</th>\n      <td>outlook</td>\n      <td>7</td>\n      <td>1</td>\n      <td>receive from hmjdrvpb.komuaywn@gmail.com hello...</td>\n      <td>163</td>\n      <td>23</td>\n      <td>English</td>\n      <td>hmjdrvpb komuaywn</td>\n      <td>0</td>\n    </tr>\n    <tr>\n      <th>2</th>\n      <td>can not log in to vpn</td>\n      <td>21</td>\n      <td>6</td>\n      <td>receive from eylqgodm.ybqkwiam@gmail.com hi i ...</td>\n      <td>72</td>\n      <td>12</td>\n      <td>English</td>\n      <td>eylqgodm ybqkwiam</td>\n      <td>0</td>\n    </tr>\n    <tr>\n      <th>3</th>\n      <td>unable to access hrtool page</td>\n      <td>28</td>\n      <td>5</td>\n      <td>unable to access hrtool page</td>\n      <td>28</td>\n      <td>5</td>\n      <td>English</td>\n      <td>xbkucsvz gcpydteq</td>\n      <td>0</td>\n    </tr>\n    <tr>\n      <th>4</th>\n      <td>skype error</td>\n      <td>11</td>\n      <td>2</td>\n      <td>skype error</td>\n      <td>11</td>\n      <td>2</td>\n      <td>English</td>\n      <td>owlgqjme qhcozdfx</td>\n      <td>0</td>\n    </tr>\n  </tbody>\n</table>\n</div>"
     },
     "metadata": {},
     "execution_count": 13
    }
   ],
   "source": [
    "# Create new features of length and word count for both of the description columns\n",
    "ticket.insert(1, 'sd_len', ticket['Short description'].astype(str).apply(len))\n",
    "ticket.insert(2, 'sd_word_count', ticket['Short description'].apply(lambda x: len(str(x).split())))\n",
    "ticket.insert(4, 'desc_len', ticket['Description'].astype(str).apply(len))\n",
    "ticket.insert(5, 'desc_word_count', ticket['Description'].apply(lambda x: len(str(x).split())))\n",
    "ticket.head()"
   ]
  },
  {
   "cell_type": "code",
   "execution_count": 15,
   "metadata": {},
   "outputs": [
    {
     "output_type": "execute_result",
     "data": {
      "text/plain": "                   count        mean         std  ...   50%    75%     max\nsd_len            8500.0   39.335882   22.444755  ...  33.0   50.0   147.0\nsd_word_count     8500.0    6.452235    3.699941  ...   6.0    8.0    26.0\ndesc_len          8500.0  156.313294  324.752030  ...  76.0  173.0  7110.0\ndesc_word_count   8500.0   24.273294   51.277937  ...  10.0   26.0  1091.0\nAssignment group  8500.0    9.061647   12.979750  ...   3.0   13.0    73.0\n\n[5 rows x 8 columns]",
      "text/html": "<div>\n<style scoped>\n    .dataframe tbody tr th:only-of-type {\n        vertical-align: middle;\n    }\n\n    .dataframe tbody tr th {\n        vertical-align: top;\n    }\n\n    .dataframe thead th {\n        text-align: right;\n    }\n</style>\n<table border=\"1\" class=\"dataframe\">\n  <thead>\n    <tr style=\"text-align: right;\">\n      <th></th>\n      <th>count</th>\n      <th>mean</th>\n      <th>std</th>\n      <th>min</th>\n      <th>25%</th>\n      <th>50%</th>\n      <th>75%</th>\n      <th>max</th>\n    </tr>\n  </thead>\n  <tbody>\n    <tr>\n      <th>sd_len</th>\n      <td>8500.0</td>\n      <td>39.335882</td>\n      <td>22.444755</td>\n      <td>0.0</td>\n      <td>23.0</td>\n      <td>33.0</td>\n      <td>50.0</td>\n      <td>147.0</td>\n    </tr>\n    <tr>\n      <th>sd_word_count</th>\n      <td>8500.0</td>\n      <td>6.452235</td>\n      <td>3.699941</td>\n      <td>0.0</td>\n      <td>4.0</td>\n      <td>6.0</td>\n      <td>8.0</td>\n      <td>26.0</td>\n    </tr>\n    <tr>\n      <th>desc_len</th>\n      <td>8500.0</td>\n      <td>156.313294</td>\n      <td>324.752030</td>\n      <td>0.0</td>\n      <td>37.0</td>\n      <td>76.0</td>\n      <td>173.0</td>\n      <td>7110.0</td>\n    </tr>\n    <tr>\n      <th>desc_word_count</th>\n      <td>8500.0</td>\n      <td>24.273294</td>\n      <td>51.277937</td>\n      <td>0.0</td>\n      <td>6.0</td>\n      <td>10.0</td>\n      <td>26.0</td>\n      <td>1091.0</td>\n    </tr>\n    <tr>\n      <th>Assignment group</th>\n      <td>8500.0</td>\n      <td>9.061647</td>\n      <td>12.979750</td>\n      <td>0.0</td>\n      <td>0.0</td>\n      <td>3.0</td>\n      <td>13.0</td>\n      <td>73.0</td>\n    </tr>\n  </tbody>\n</table>\n</div>"
     },
     "metadata": {},
     "execution_count": 15
    }
   ],
   "source": [
    "ticket.describe().T"
   ]
  },
  {
   "cell_type": "code",
   "execution_count": 16,
   "metadata": {},
   "outputs": [],
   "source": [
    "# Serialize the preprocessed dataset\n",
    "ticket.to_csv('Dataset/preprocessed_ticket.csv', index=False, encoding='utf_8_sig')\n",
    "with open('Dataset/preprocessed_ticket.pkl','wb') as f:\n",
    "    pickle.dump(ticket, f, pickle.HIGHEST_PROTOCOL)"
   ]
  },
  {
   "cell_type": "code",
   "execution_count": null,
   "metadata": {},
   "outputs": [],
   "source": []
  }
 ],
 "metadata": {
  "accelerator": "TPU",
  "colab": {
   "collapsed_sections": [],
   "name": "Automatic_Ticket_neptune.ipynb",
   "provenance": []
  },
  "kernelspec": {
   "display_name": "Python 3",
   "language": "python",
   "name": "python3"
  },
  "language_info": {
   "codemirror_mode": {
    "name": "ipython",
    "version": 3
   },
   "file_extension": ".py",
   "mimetype": "text/x-python",
   "name": "python",
   "nbconvert_exporter": "python",
   "pygments_lexer": "ipython3",
   "version": "3.6.9-final"
  }
 },
 "nbformat": 4,
 "nbformat_minor": 4
}
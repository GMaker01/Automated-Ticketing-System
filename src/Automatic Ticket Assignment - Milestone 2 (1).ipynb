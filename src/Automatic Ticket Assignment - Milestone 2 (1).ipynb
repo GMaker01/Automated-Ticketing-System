{
 "cells": [
  {
   "cell_type": "markdown",
   "metadata": {},
   "source": [
    "### Objective:\n",
    "\n",
    "Build Multi-Class classifier that can classify the tickets by analysing text.\n",
    "Guided by powerful AI techniques that can classify incidents to right functional groups can help organizations to reduce the resolving time of the issue and can focus on more productive tasks. In the previous milestone we've already covered Data cleaning, preprocessing, Exploratory Data Analysis\n",
    "\n",
    "Milestone 2: Test the Model, Fine-tuning and Repeat\n",
    "\n",
    "Test the model and report as per evaluation metrics\n",
    "Try different models\n",
    "Try different evaluation metrics\n",
    "Set different hyper parameters, by trying different optimizers, loss functions, epochs, learning rate, batch size, checkpointing, early stopping etc..for these models to fine-tune them\n",
    "Report evaluation metrics for these models along with your observation on how changing different hyper parameters leads to change in the final evaluation metric.\n",
    "\n",
    "### Imports and Configurations\n",
    "Section to import all necessary packages. Install the libraries which are not included in Anaconda distribution by default using pypi channel or conda forge \n",
    "```\n",
    "    pip install ftfy wordcloud goslate spacy plotly cufflinks gensim pyLDAvis\n",
    "```\n",
    "\n",
    "```\n",
    "    conda install -c conda-forge ftfy wordcloud goslate spacy plotly cufflinks gensim pyLDAvis\n",
    "```\n",
    "​"
   ]
  },
  {
   "cell_type": "code",
   "execution_count": 2,
   "metadata": {},
   "outputs": [
    {
     "name": "stderr",
     "output_type": "stream",
     "text": [
      "/Users/gnommer/.virtualenvs/capstone/lib/python3.7/site-packages/psycopg2/__init__.py:144: UserWarning: The psycopg2 wheel package will be renamed from release 2.8; in order to keep installing from binary please use \"pip install psycopg2-binary\" instead. For details see: <http://initd.org/psycopg/docs/install.html#binary-install-from-pypi>.\n",
      "  \"\"\")\n",
      "/Users/gnommer/.virtualenvs/capstone/lib/python3.7/site-packages/statsmodels/tools/_testing.py:19: FutureWarning: pandas.util.testing is deprecated. Use the functions in the public API at pandas.testing instead.\n",
      "  import pandas.util.testing as tm\n",
      "/Users/gnommer/.virtualenvs/capstone/lib/python3.7/site-packages/IPython/utils/traitlets.py:5: UserWarning:\n",
      "\n",
      "IPython.utils.traitlets has moved to a top-level traitlets package.\n",
      "\n",
      "/Users/gnommer/.virtualenvs/capstone/lib/python3.7/site-packages/past/types/oldstr.py:5: DeprecationWarning:\n",
      "\n",
      "Using or importing the ABCs from 'collections' instead of from 'collections.abc' is deprecated since Python 3.3,and in 3.9 it will stop working\n",
      "\n",
      "/Users/gnommer/.virtualenvs/capstone/lib/python3.7/site-packages/past/builtins/misc.py:4: DeprecationWarning:\n",
      "\n",
      "Using or importing the ABCs from 'collections' instead of from 'collections.abc' is deprecated since Python 3.3,and in 3.9 it will stop working\n",
      "\n",
      "Using TensorFlow backend.\n",
      "/Users/gnommer/.virtualenvs/capstone/lib/python3.7/site-packages/google/protobuf/descriptor.py:47: DeprecationWarning:\n",
      "\n",
      "Using or importing the ABCs from 'collections' instead of from 'collections.abc' is deprecated since Python 3.3,and in 3.9 it will stop working\n",
      "\n",
      "/Users/gnommer/.virtualenvs/capstone/lib/python3.7/site-packages/scipy/sparse/sparsetools.py:21: DeprecationWarning:\n",
      "\n",
      "`scipy.sparse.sparsetools` is deprecated!\n",
      "scipy.sparse.sparsetools is a private module for scipy.sparse, and should not be used.\n",
      "\n",
      "/Users/gnommer/.virtualenvs/capstone/lib/python3.7/site-packages/sklearn/externals/six.py:31: FutureWarning:\n",
      "\n",
      "The module is deprecated in version 0.21 and will be removed in version 0.23 since we've dropped support for Python 2.7. Please rely on the official version of six (https://pypi.org/project/six/).\n",
      "\n",
      "/Users/gnommer/.virtualenvs/capstone/lib/python3.7/site-packages/sklearn/utils/deprecation.py:144: FutureWarning:\n",
      "\n",
      "The sklearn.neighbors.base module is  deprecated in version 0.22 and will be removed in version 0.24. The corresponding classes / functions should instead be imported from sklearn.neighbors. Anything that cannot be imported from sklearn.neighbors is now part of the private API.\n",
      "\n",
      "/Users/gnommer/.virtualenvs/capstone/lib/python3.7/site-packages/nltk/decorators.py:68: DeprecationWarning:\n",
      "\n",
      "`formatargspec` is deprecated since Python 3.5. Use `signature` and the `Signature` object directly\n",
      "\n",
      "/Users/gnommer/.virtualenvs/capstone/lib/python3.7/site-packages/nltk/lm/counter.py:15: DeprecationWarning:\n",
      "\n",
      "Using or importing the ABCs from 'collections' instead of from 'collections.abc' is deprecated since Python 3.3,and in 3.9 it will stop working\n",
      "\n"
     ]
    }
   ],
   "source": [
    "# Utilities\n",
    "from time import time\n",
    "from PIL import Image\n",
    "from pprint import pprint\n",
    "from zipfile import ZipFile\n",
    "import os, sys, itertools, re, calendar\n",
    "import warnings, pickle, string, timestring\n",
    "from IPython.display import IFrame\n",
    "from ftfy import fix_encoding, fix_text, badness\n",
    "\n",
    "# Translation APIs\n",
    "from goslate import Goslate # Provided by Google\n",
    "\n",
    "# Numerical calculation\n",
    "import numpy as np\n",
    "\n",
    "# Data Handling\n",
    "import pandas as pd\n",
    "\n",
    "# Data Visualization\n",
    "import matplotlib.pyplot as plt\n",
    "import seaborn as sns\n",
    "import cufflinks as cf\n",
    "import plotly as py\n",
    "import plotly.graph_objs as go\n",
    "from plotly.offline import download_plotlyjs,init_notebook_mode,plot,iplot\n",
    "import pyLDAvis\n",
    "import pyLDAvis.gensim\n",
    "\n",
    "# Sequential Modeling\n",
    "import keras.backend as K\n",
    "from keras.datasets import imdb\n",
    "from keras.models import Sequential, Model\n",
    "from keras.layers.merge import Concatenate\n",
    "from keras.layers import Input, Dropout, Flatten, Dense, Embedding, LSTM, GRU, SpatialDropout1D\n",
    "from keras.layers import BatchNormalization, TimeDistributed, Conv1D, MaxPooling1D\n",
    "from keras.constraints import max_norm, unit_norm\n",
    "from keras.preprocessing.text import Tokenizer, text_to_word_sequence\n",
    "from keras.preprocessing.sequence import pad_sequences\n",
    "from keras.callbacks import EarlyStopping, ModelCheckpoint\n",
    "\n",
    "# Traditional Modeling\n",
    "from sklearn.naive_bayes import MultinomialNB\n",
    "from sklearn.neighbors import KNeighborsClassifier\n",
    "from sklearn.pipeline import Pipeline\n",
    "from sklearn.feature_extraction.text import CountVectorizer, TfidfVectorizer, TfidfTransformer\n",
    "from sklearn.svm import SVC, LinearSVC\n",
    "from sklearn.tree import DecisionTreeClassifier\n",
    "from sklearn.ensemble import RandomForestClassifier\n",
    "\n",
    "# Topic Modeling\n",
    "import gensim\n",
    "import gensim.corpora as corpora\n",
    "from gensim.utils import simple_preprocess\n",
    "from gensim.parsing import preprocessing\n",
    "from gensim.test.utils import common_texts\n",
    "from gensim.models.doc2vec import Doc2Vec, TaggedDocument\n",
    "from gensim.models.phrases import Phraser\n",
    "from gensim.models import Phrases, CoherenceModel\n",
    "\n",
    "# Tools & Evaluation metrics\n",
    "from sklearn.metrics import confusion_matrix, classification_report, auc\n",
    "from sklearn.metrics import roc_curve, accuracy_score, precision_recall_curve\n",
    "from sklearn.feature_extraction.text import CountVectorizer\n",
    "from sklearn.model_selection import train_test_split, GridSearchCV\n",
    "from collections import Counter\n",
    "from imblearn.under_sampling import RandomUnderSampler\n",
    "\n",
    "# NLP toolkits\n",
    "import spacy\n",
    "import nltk\n",
    "from nltk import tokenize\n",
    "from nltk.corpus import stopwords"
   ]
  },
  {
   "cell_type": "code",
   "execution_count": 3,
   "metadata": {},
   "outputs": [
    {
     "name": "stderr",
     "output_type": "stream",
     "text": [
      "[nltk_data] Downloading package stopwords to\n",
      "[nltk_data]     /Users/gnommer/nltk_data...\n",
      "[nltk_data]   Package stopwords is already up-to-date!\n"
     ]
    },
    {
     "data": {
      "text/html": [
       "        <script type=\"text/javascript\">\n",
       "        window.PlotlyConfig = {MathJaxConfig: 'local'};\n",
       "        if (window.MathJax) {MathJax.Hub.Config({SVG: {font: \"STIX-Web\"}});}\n",
       "        if (typeof require !== 'undefined') {\n",
       "        require.undef(\"plotly\");\n",
       "        requirejs.config({\n",
       "            paths: {\n",
       "                'plotly': ['https://cdn.plot.ly/plotly-latest.min']\n",
       "            }\n",
       "        });\n",
       "        require(['plotly'], function(Plotly) {\n",
       "            window._Plotly = Plotly;\n",
       "        });\n",
       "        }\n",
       "        </script>\n",
       "        "
      ]
     },
     "metadata": {},
     "output_type": "display_data"
    },
    {
     "data": {
      "text/html": [
       "        <script type=\"text/javascript\">\n",
       "        window.PlotlyConfig = {MathJaxConfig: 'local'};\n",
       "        if (window.MathJax) {MathJax.Hub.Config({SVG: {font: \"STIX-Web\"}});}\n",
       "        if (typeof require !== 'undefined') {\n",
       "        require.undef(\"plotly\");\n",
       "        requirejs.config({\n",
       "            paths: {\n",
       "                'plotly': ['https://cdn.plot.ly/plotly-latest.min']\n",
       "            }\n",
       "        });\n",
       "        require(['plotly'], function(Plotly) {\n",
       "            window._Plotly = Plotly;\n",
       "        });\n",
       "        }\n",
       "        </script>\n",
       "        "
      ]
     },
     "metadata": {},
     "output_type": "display_data"
    }
   ],
   "source": [
    "# Configure for any default setting of any library\n",
    "nltk.download('stopwords')\n",
    "warnings.filterwarnings('ignore')\n",
    "get_ipython().magic(u'matplotlib inline')\n",
    "plt.style.use('ggplot')\n",
    "pyLDAvis.enable_notebook()\n",
    "init_notebook_mode(connected=True)\n",
    "cf.go_offline()\n",
    "%matplotlib inline"
   ]
  },
  {
   "attachments": {
    "image.png": {
     "image/png": "[encoded data removed]"
    }
   },
   "cell_type": "markdown",
   "metadata": {},
   "source": [
    "### <u>Create Word Embbeddings</u>\n",
    "We've observed poor performance in the 1st milestone, which enables us to create our own word embbeddings. Let's load the preprocessed dataset and use Gensim model to create Word2Vec embbeddings.\n",
    "\n",
    "Word embedding is one of the most important techniques in natural language processing(NLP), where words are mapped to vectors of real numbers. Word embedding is capable of capturing the meaning of a word in a document, semantic and syntactic similarity, relation with other words.\n",
    "\n",
    "The word2vec algorithms include skip-gram and CBOW models, using either hierarchical softmax or negative sampling.\n",
    "\n",
    "![image.png](attachment:image.png)"
   ]
  },
  {
   "cell_type": "code",
   "execution_count": 30,
   "metadata": {
    "colab": {},
    "colab_type": "code",
    "id": "0HL5-4rpn3q8"
   },
   "outputs": [],
   "source": [
    "# Load the preprocessed pickle dataset\n",
    "with open('pickles/preprocessed_ticket.pkl','rb') as handle:\n",
    "    ticket = pickle.load(handle)\n",
    "ticket['Summary'] = ticket['Short description'] + ticket['Description']\n",
    "nlp = spacy.load('en_core_web_md', disable=['parser', 'ner'])\n",
    "\n",
    "# Function to create the tokenized sentence\n",
    "def tokenize_sentences(sentence):\n",
    "    doc = nlp(sentence)\n",
    "    return [token.lemma_ for token in doc if token.lemma_ !='-PRON-' and not token.is_stop]\n",
    "\n",
    "sentence_stream=[]\n",
    "for sent in ticket.Summary.values.tolist():\n",
    "    sentence_stream.append(tokenize_sentences(sent))"
   ]
  },
  {
   "cell_type": "code",
   "execution_count": 4,
   "metadata": {
    "colab": {
     "base_uri": "https://localhost:8080/",
     "height": 51
    },
    "colab_type": "code",
    "executionInfo": {
     "elapsed": 322304,
     "status": "ok",
     "timestamp": 1584199603133,
     "user": {
      "displayName": "Ramna R",
      "photoUrl": "",
      "userId": "00476941969343265254"
     },
     "user_tz": -330
    },
    "id": "BXWeViomooPH",
    "outputId": "6644296d-fb4a-4cd3-da45-11a6dd69195a"
   },
   "outputs": [],
   "source": [
    "# Create the Bigram and Trigram models\n",
    "bigram = Phrases(sentence_stream, min_count=2, threshold=2)\n",
    "trigram = Phrases(bigram[sentence_stream], min_count=2, threshold=1)\n",
    "bigram_phraser = Phraser(bigram)\n",
    "trigram_phraser = Phraser(trigram)\n",
    "ngram_sentences=[]\n",
    "for sent in sentence_stream:\n",
    "    tokens_ = bigram_phraser[sent]\n",
    "    #print(\"Bigrams Tokens:\\t\", tokens_)\n",
    "    tokens_ = trigram_phraser[tokens_]\n",
    "    ngram_sentences.append(tokens_)\n",
    "    \n",
    "#Serialize bigram and trigram for future\n",
    "bigram_phraser.save('Models/bigram_mdl_14_03_2020.pkl')\n",
    "trigram_phraser.save('Models/trigram_mdl_14_03_2020.pkl')"
   ]
  },
  {
   "cell_type": "code",
   "execution_count": 5,
   "metadata": {
    "colab": {
     "base_uri": "https://localhost:8080/",
     "height": 71
    },
    "colab_type": "code",
    "executionInfo": {
     "elapsed": 1348,
     "status": "ok",
     "timestamp": 1584199605785,
     "user": {
      "displayName": "Ramna R",
      "photoUrl": "",
      "userId": "00476941969343265254"
     },
     "user_tz": -330
    },
    "id": "IywDqAF4o6UT",
    "outputId": "bd880ae4-a12b-4a96-e82f-03755a6a56e9"
   },
   "outputs": [
    {
     "name": "stdout",
     "output_type": "stream",
     "text": [
      "Length of Tagged Documents: 8500\n",
      "Tagged Documents[345]: TaggedDocument(['urgent', 'access', 'rtnzvplq', 'erhmuncq', 'disconnectedreceive', 'email_hi_help', 'error_message', 'server_disconnect', 'edit', 'trgdyyufs', 'calendar', 'invitation', 'calendar', 'calendar_entry', 'possible', 'urgent'], [345])\n"
     ]
    }
   ],
   "source": [
    "# Create the tagged documents\n",
    "documents = [TaggedDocument(words=doc, tags=[i]) for i, doc in enumerate(ngram_sentences)]\n",
    "print(\"Length of Tagged Documents:\",len(documents))\n",
    "print(\"Tagged Documents[345]:\",documents[345])"
   ]
  },
  {
   "cell_type": "code",
   "execution_count": 6,
   "metadata": {
    "colab": {},
    "colab_type": "code",
    "id": "tMPtm96Co80R"
   },
   "outputs": [
    {
     "name": "stdout",
     "output_type": "stream",
     "text": [
      "Model Saved\n"
     ]
    }
   ],
   "source": [
    "# Build the Word2Vec model\n",
    "max_epochs = 100\n",
    "vec_size = 300\n",
    "alpha = 0.025\n",
    "model = Doc2Vec(vector_size=vec_size,window=2,\n",
    "                alpha=alpha, \n",
    "                min_alpha=0.00025,\n",
    "                min_count=2,\n",
    "                dm =1)\n",
    "model.build_vocab(documents)\n",
    "\n",
    "for epoch in range(max_epochs):\n",
    "    model.train(documents, \n",
    "                total_examples=model.corpus_count,\n",
    "                epochs=model.iter)\n",
    "    # decrease the learning rate\n",
    "    model.alpha -= 0.0002\n",
    "    # fix the learning rate, no decay\n",
    "    model.min_alpha = model.alpha\n",
    "\n",
    "model.save(\"Models/d2v_inc_model.mdl\")\n",
    "print(\"Model Saved\")"
   ]
  },
  {
   "cell_type": "markdown",
   "metadata": {
    "colab": {},
    "colab_type": "code",
    "id": "ahJfWug52eTG"
   },
   "source": [
    "**Comments**:\n",
    "Word Embbeddings are generated from the corpus of our tickets dataset and serialized for further use.\n",
    "\n",
    "### <u>Load the dataset</u>\n",
    "We've observed poor performance in the 1st milestone, which enables us to introduce 2 more attributes, such as:\n",
    "\n",
    "- **Shift**: Working shift of the support associate in which the ticket was recieved OR failure occured\n",
    "- **Lines**: Lines of text present in the ticket description column\n",
    "Load the searialized dataset stored after 1st milestone's EDA and append the above attributes to them. Also drop sd_len, sd_word_count, desc_len, desc_word_count columns"
   ]
  },
  {
   "cell_type": "code",
   "execution_count": 6,
   "metadata": {},
   "outputs": [],
   "source": [
    "# Function to determine the Part of the Day (POD)\n",
    "def get_POD(tkt):\n",
    "    dt1 = r\"(?:\\d{1,2}[\\/-]){2}\\d{4} (?:\\d{2}:?){3}\"\n",
    "    dt2 = r\"\\d{4}(?:[\\/-]\\d{1,2}){2} (?:\\d{2}:?){3}\"\n",
    "    months = '|'.join(calendar.month_name[1:])\n",
    "    dt3 = fr'[a-zA-Z]+day, (?i:{months}) \\d{{1,2}}, \\d{{4}} \\d{{1,2}}:\\d{{1,2}} (?i:am|pm)'\n",
    "    matches = set(re.findall('|'.join([dt1,dt2,dt3]), tkt))\n",
    "    if len(matches):\n",
    "        try:\n",
    "            hr = timestring.Date(list(matches)[0]).hour\n",
    "            return 'Morning' if (hr >= 6) and (hr < 18) else 'Night'\n",
    "        except:\n",
    "            pass\n",
    "    return 'General'"
   ]
  },
  {
   "cell_type": "code",
   "execution_count": 7,
   "metadata": {},
   "outputs": [
    {
     "data": {
      "text/plain": [
       "General    7508\n",
       "Night       569\n",
       "Morning     423\n",
       "dtype: int64"
      ]
     },
     "execution_count": 7,
     "metadata": {},
     "output_type": "execute_result"
    }
   ],
   "source": [
    "# Get POD and lines of Desc from the unprocessed pickle\n",
    "with open('pickles/translated_ticket.pkl','rb') as handle:\n",
    "    ticket = pickle.load(handle)\n",
    "\n",
    "lines = ticket.Description.apply(lambda x: len(str(x).split('\\n')))\n",
    "shifts = ticket[['Short description', 'Description']].agg(lambda x: get_POD(str(x[0]) + str(x[1])), axis=1)\n",
    "shifts.value_counts()"
   ]
  },
  {
   "cell_type": "code",
   "execution_count": 8,
   "metadata": {},
   "outputs": [
    {
     "data": {
      "text/html": [
       "<div>\n",
       "<style scoped>\n",
       "    .dataframe tbody tr th:only-of-type {\n",
       "        vertical-align: middle;\n",
       "    }\n",
       "\n",
       "    .dataframe tbody tr th {\n",
       "        vertical-align: top;\n",
       "    }\n",
       "\n",
       "    .dataframe thead th {\n",
       "        text-align: right;\n",
       "    }\n",
       "</style>\n",
       "<table border=\"1\" class=\"dataframe\">\n",
       "  <thead>\n",
       "    <tr style=\"text-align: right;\">\n",
       "      <th></th>\n",
       "      <th>Short description</th>\n",
       "      <th>Description</th>\n",
       "      <th>Language</th>\n",
       "      <th>Summary</th>\n",
       "      <th>Shift</th>\n",
       "      <th>Lines</th>\n",
       "      <th>Assignment group</th>\n",
       "    </tr>\n",
       "  </thead>\n",
       "  <tbody>\n",
       "    <tr>\n",
       "      <th>0</th>\n",
       "      <td>login issue</td>\n",
       "      <td>verified user detailsemployee manager name che...</td>\n",
       "      <td>English</td>\n",
       "      <td>login issue verified user detailsemployee mana...</td>\n",
       "      <td>General</td>\n",
       "      <td>5</td>\n",
       "      <td>GRP_0</td>\n",
       "    </tr>\n",
       "    <tr>\n",
       "      <th>1</th>\n",
       "      <td>outlook</td>\n",
       "      <td>receive from hmjdrvpb.komuaywn@gmail.com hello...</td>\n",
       "      <td>English</td>\n",
       "      <td>outlook receive from hmjdrvpb.komuaywn@gmail.c...</td>\n",
       "      <td>General</td>\n",
       "      <td>7</td>\n",
       "      <td>GRP_0</td>\n",
       "    </tr>\n",
       "    <tr>\n",
       "      <th>2</th>\n",
       "      <td>can not log in to vpn</td>\n",
       "      <td>receive from eylqgodm.ybqkwiam@gmail.com hi i ...</td>\n",
       "      <td>English</td>\n",
       "      <td>can not log in to vpn receive from eylqgodm.yb...</td>\n",
       "      <td>General</td>\n",
       "      <td>7</td>\n",
       "      <td>GRP_0</td>\n",
       "    </tr>\n",
       "    <tr>\n",
       "      <th>3</th>\n",
       "      <td>unable to access hrtool page</td>\n",
       "      <td>unable to access hrtool page</td>\n",
       "      <td>English</td>\n",
       "      <td>unable to access hrtool page unable to access ...</td>\n",
       "      <td>General</td>\n",
       "      <td>1</td>\n",
       "      <td>GRP_0</td>\n",
       "    </tr>\n",
       "    <tr>\n",
       "      <th>4</th>\n",
       "      <td>error skype</td>\n",
       "      <td>error skype</td>\n",
       "      <td>English</td>\n",
       "      <td>error skype error skype</td>\n",
       "      <td>General</td>\n",
       "      <td>1</td>\n",
       "      <td>GRP_0</td>\n",
       "    </tr>\n",
       "  </tbody>\n",
       "</table>\n",
       "</div>"
      ],
      "text/plain": [
       "              Short description  \\\n",
       "0                   login issue   \n",
       "1                       outlook   \n",
       "2         can not log in to vpn   \n",
       "3  unable to access hrtool page   \n",
       "4                   error skype   \n",
       "\n",
       "                                         Description Language  \\\n",
       "0  verified user detailsemployee manager name che...  English   \n",
       "1  receive from hmjdrvpb.komuaywn@gmail.com hello...  English   \n",
       "2  receive from eylqgodm.ybqkwiam@gmail.com hi i ...  English   \n",
       "3                       unable to access hrtool page  English   \n",
       "4                                        error skype  English   \n",
       "\n",
       "                                             Summary    Shift  Lines  \\\n",
       "0  login issue verified user detailsemployee mana...  General      5   \n",
       "1  outlook receive from hmjdrvpb.komuaywn@gmail.c...  General      7   \n",
       "2  can not log in to vpn receive from eylqgodm.yb...  General      7   \n",
       "3  unable to access hrtool page unable to access ...  General      1   \n",
       "4                            error skype error skype  General      1   \n",
       "\n",
       "  Assignment group  \n",
       "0            GRP_0  \n",
       "1            GRP_0  \n",
       "2            GRP_0  \n",
       "3            GRP_0  \n",
       "4            GRP_0  "
      ]
     },
     "execution_count": 8,
     "metadata": {},
     "output_type": "execute_result"
    }
   ],
   "source": [
    "# Load the serialized dataset after milestone-1\n",
    "with open('pickles/model_ready.pkl','rb') as handle:\n",
    "    ticket = pickle.load(handle)\n",
    "\n",
    "# Drop the unwanted columns\n",
    "ticket.drop(['sd_len','sd_word_count','desc_len','desc_word_count','Caller'], axis=1, inplace=True)\n",
    "# Insert the new attributes\n",
    "ticket.insert(loc=ticket.shape[1]-1, column='Shift', value=shifts)\n",
    "ticket.insert(loc=ticket.shape[1]-1, column='Lines', value=lines)\n",
    "\n",
    "# Check the head of the dataset\n",
    "ticket.head()"
   ]
  },
  {
   "attachments": {
    "image.png": {
     "image/png": "[encoded data removed]"
    }
   },
   "cell_type": "markdown",
   "metadata": {},
   "source": [
    "#### Observation from Milestone-1\n",
    "Out of all the models we've tried in Milestone-1, Support Vector Machine (SVM) under statistical ML algorithms and Neural Networks are performing better than all others. The models were highly overfitted and one of the obvious reason was the dataset was highly imbalanced. Ratio of GRP_0 to all others is 47:53 and there are 40 groups having less than or equal to 30 tickets assigned each.\n",
    "\n",
    "Let's address this problem to fine tune the model accuracy by implementing\n",
    "- Dealing with imbalanced dataset. \n",
    "    - Creating distinctive clusters under GRP_0 and downsampling top clusters\n",
    "    - Clubbing together all those groups into one which has 30 or less tickets assigned\n",
    "- Replacing TF-IDF vectorizer technique with word embeddings for statistical ML algorithms.\n",
    "\n",
    "### <u>Resampling the Imbalanced dataset</u>\n",
    "A widely adopted technique for dealing with highly unbalanced datasets is called resampling. It consists of removing samples from the majority class (under-sampling) and / or adding more examples from the minority class (over-sampling).\n",
    "![image.png](attachment:image.png)\n",
    "\n",
    "\n",
    "### Topic Modeling\n",
    "Topic Modeling is a technique to extract the hidden topics from large volumes of text. **Latent Dirichlet Allocation(LDA)** is a popular algorithm for topic modeling with excellent implementations in the Python’s Gensim package.\n",
    "\n",
    "Let's first use gensim to implement LDA and find out any distinctive topics among GRP_0, followed by down-sampling the top 3 topics to contain maximum number of tickets created for.\n",
    "\n",
    "Installation:<br/>\n",
    "using pypi: **`!pip install gensim`**<br/>\n",
    "using conda: **`conda install -c conda-forge gensim`**\n",
    "\n",
    "#### 1. Prepare Stopwords\n",
    "Used english stopwords from NLTK and extended it to include domain specific frequent words"
   ]
  },
  {
   "cell_type": "code",
   "execution_count": 9,
   "metadata": {},
   "outputs": [],
   "source": [
    "# Records assigned to only GRP_0\n",
    "grp0_tickets = ticket[ticket['Assignment group'] == 'GRP_0']\n",
    "\n",
    "# Prepare NLTK STOPWORDS\n",
    "STOP_WORDS = stopwords.words('english')\n",
    "STOP_WORDS.extend(['yes','na','hi','receive','hello','regards','thanks','see','help',\n",
    "                  'from','greeting','forward','reply','will','please','able'])"
   ]
  },
  {
   "cell_type": "markdown",
   "metadata": {},
   "source": [
    "#### 2. Tokenize words and Clean-up text\n",
    "Tokenize each sentence into a list of words, removing punctuations and unnecessary characters altogether."
   ]
  },
  {
   "cell_type": "code",
   "execution_count": 10,
   "metadata": {},
   "outputs": [],
   "source": [
    "# Vectorizations\n",
    "def sent_to_words(sentences):\n",
    "    for sentence in sentences:\n",
    "        yield(gensim.utils.simple_preprocess(str(sentence), deacc=True))  # deacc=True removes punctuations\n",
    "\n",
    "# Tokenize the Summary attribute of GRP_0 records\n",
    "data_words = list(sent_to_words(grp0_tickets['Summary'].values.tolist()))\n",
    "data_words_nostops = [[word for word in simple_preprocess(str(doc)) if word not in STOP_WORDS] for doc in data_words]"
   ]
  },
  {
   "cell_type": "markdown",
   "metadata": {},
   "source": [
    "#### 3. Bigram and Trigram Models\n",
    "Bigrams and Trigrams are two and three words frequently occurring together respectively in a document."
   ]
  },
  {
   "cell_type": "code",
   "execution_count": 11,
   "metadata": {},
   "outputs": [],
   "source": [
    "# Build the bigram and trigram models\n",
    "bigram = gensim.models.Phrases(data_words, min_count=5, threshold=100) # higher threshold fewer phrases.\n",
    "trigram = gensim.models.Phrases(bigram[data_words], threshold=100)  \n",
    "\n",
    "# Faster way to get a sentence clubbed as a trigram/bigram\n",
    "bigram_mod = gensim.models.phrases.Phraser(bigram)\n",
    "data_words_bigrams = [bigram_mod[doc] for doc in data_words_nostops]\n",
    "\n",
    "trigram_mod = gensim.models.phrases.Phraser(trigram)\n",
    "data_words_trigrams = [trigram_mod[doc] for doc in data_words_nostops]"
   ]
  },
  {
   "cell_type": "markdown",
   "metadata": {},
   "source": [
    "#### 4. Dictionary and Corpus needed for Topic Modeling\n",
    "Creare the two main inputs to the LDA topic model are the dictionary(id2word) and the corpus."
   ]
  },
  {
   "cell_type": "code",
   "execution_count": 12,
   "metadata": {},
   "outputs": [],
   "source": [
    "# Create Dictionary\n",
    "id2word = corpora.Dictionary(data_words_bigrams)\n",
    "\n",
    "# Term Document Frequency\n",
    "corpus = [id2word.doc2bow(text) for text in data_words_bigrams]"
   ]
  },
  {
   "cell_type": "markdown",
   "metadata": {},
   "source": [
    "#### 5. Building the Topic Model\n",
    "Build a Topic Model with top 3 different topics where each topic is a combination of keywords and each keyword contributes a certain weightage to the topic."
   ]
  },
  {
   "cell_type": "code",
   "execution_count": 13,
   "metadata": {},
   "outputs": [
    {
     "name": "stdout",
     "output_type": "stream",
     "text": [
      "Topic: 1 \n",
      "Words: 0.050*\"unable\" + 0.033*\"outlook\" + 0.031*\"issue\" + 0.022*\"work\" + 0.020*\"error\" + 0.019*\"connect\" + 0.017*\"open\" + 0.016*\"get\" + 0.016*\"skype\" + 0.011*\"vpn\"\n",
      "\n",
      "Topic: 2 \n",
      "Words: 0.098*\"password\" + 0.066*\"erp\" + 0.060*\"reset\" + 0.054*\"account\" + 0.048*\"user\" + 0.037*\"login\" + 0.037*\"sid\" + 0.034*\"lock\" + 0.017*\"unlock\" + 0.015*\"request\"\n",
      "\n",
      "Topic: 3 \n",
      "Words: 0.043*\"gmail\" + 0.042*\"com\" + 0.026*\"access\" + 0.020*\"company\" + 0.019*\"update\" + 0.015*\"email\" + 0.013*\"ticket\" + 0.011*\"device\" + 0.009*\"mobile\" + 0.008*\"send\"\n",
      "\n"
     ]
    }
   ],
   "source": [
    "# Build LDA model\n",
    "lda_model = gensim.models.ldamodel.LdaModel(corpus=corpus,\n",
    "                                           id2word=id2word,\n",
    "                                           num_topics=3, \n",
    "                                           random_state=100,\n",
    "                                           update_every=1,\n",
    "                                           chunksize=100,\n",
    "                                           passes=10,\n",
    "                                           alpha='auto',\n",
    "                                           per_word_topics=True)\n",
    "\n",
    "for idx, topic in lda_model.print_topics():\n",
    "    print('Topic: {} \\nWords: {}'.format(idx+1, topic))\n",
    "    print()"
   ]
  },
  {
   "attachments": {
    "image.png": {
     "image/png": "[encoded data removed]"
    }
   },
   "cell_type": "markdown",
   "metadata": {},
   "source": [
    "**How to interpret this?**\n",
    "\n",
    "Topic 1 is a represented as `0.060*\"company\" + 0.028*\"windows\" + 0.026*\"device\" + 0.021*\"vpn\" + 0.021*\"connect\" + 0.018*\"message\" + 0.014*\"link\" + 0.013*\"window\" + 0.011*\"follow\" + 0.011*\"use\"`\n",
    "\n",
    "It means the top 10 keywords that contribute to this topic are: ‘company’, ‘windows’, ‘device’.. and so on and the weight of ‘windows’ on topic 1 is 0.028.\n",
    "\n",
    "The weights reflect how important a keyword is to that topic.\n",
    "\n",
    "![image.png](attachment:image.png)\n",
    "\n",
    "#### 6. Model Perplexity and Coherence Score\n",
    "Model perplexity and topic coherence provide a convenient measure to judge how good a given topic model is."
   ]
  },
  {
   "cell_type": "code",
   "execution_count": 14,
   "metadata": {},
   "outputs": [
    {
     "name": "stdout",
     "output_type": "stream",
     "text": [
      "\n",
      "Perplexity:  -6.80158853743008\n",
      "\n",
      "Coherence Score:  0.45234512954400746\n"
     ]
    }
   ],
   "source": [
    "# Compute Perplexity\n",
    "print('\\nPerplexity: ', lda_model.log_perplexity(corpus))  # a measure of how good the model is. lower the better.\n",
    "\n",
    "# Compute Coherence Score\n",
    "coherence_model_lda = CoherenceModel(model=lda_model, texts=data_words_bigrams, dictionary=id2word, coherence='c_v')\n",
    "coherence_lda = coherence_model_lda.get_coherence()\n",
    "print('\\nCoherence Score: ', coherence_lda)"
   ]
  },
  {
   "cell_type": "markdown",
   "metadata": {},
   "source": [
    "#### 7. Visualize the topics-keywords\n",
    "Examine the produced topics and the associated keywords using pyLDAvis."
   ]
  },
  {
   "cell_type": "code",
   "execution_count": 15,
   "metadata": {},
   "outputs": [
    {
     "data": {
      "text/html": [
       "\n",
       "        <iframe\n",
       "            width=\"1220\"\n",
       "            height=\"858\"\n",
       "            src=\"./lda.html\"\n",
       "            frameborder=\"0\"\n",
       "            allowfullscreen\n",
       "        ></iframe>\n",
       "        "
      ],
      "text/plain": [
       "<IPython.lib.display.IFrame at 0x15d538490>"
      ]
     },
     "execution_count": 15,
     "metadata": {},
     "output_type": "execute_result"
    }
   ],
   "source": [
    "# Visualize the topics\n",
    "pyLDAvis.save_html(pyLDAvis.gensim.prepare(lda_model, corpus, id2word), 'lda.html')\n",
    "IFrame(src='./lda.html', width=1220, height=858)"
   ]
  },
  {
   "cell_type": "markdown",
   "metadata": {},
   "source": [
    "#### 8. Topic assignment for GRP_0 tickets\n",
    "Run LDA for each record of GRP_0 to find the associated topic based on the LDA score. As the topic modeling has been trained to accomodate only top 3 topics for entire GRP_0 data, any record scoring less than 50%, we categorize them into 4th(other) topic and such tickets are not the candidates for resampling."
   ]
  },
  {
   "cell_type": "code",
   "execution_count": 16,
   "metadata": {},
   "outputs": [
    {
     "name": "stdout",
     "output_type": "stream",
     "text": [
      "\u001b[1mText:\u001b[0m unable to access hrtool page unable to access hrtool page\n",
      "\u001b[1mTopic:\u001b[0m Access Issue\n",
      "\u001b[1mScore:\u001b[0m 0.5299999713897705\n"
     ]
    }
   ],
   "source": [
    "# Function to Determine topic\n",
    "TOPICS = {1:\"Communication Issue\", 2:\"Account/Password Reset\", 3:\"Access Issue\", 4:\"Other Issues\"}\n",
    "def get_groups(text):\n",
    "    bow_vector = id2word.doc2bow([word for word in simple_preprocess(text) if word not in STOP_WORDS])\n",
    "    index, score = sorted(lda_model[bow_vector][0], key=lambda tup: tup[1], reverse=True)[0]\n",
    "    return TOPICS[index+1 if score > 0.5 else 4], round(score, 2)\n",
    "\n",
    "# Check for a Random record\n",
    "text = grp0_tickets.reset_index().loc[np.random.randint(0, grp0_tickets.shape[1]),'Summary']\n",
    "topic, score = get_groups(text)\n",
    "print(\"\\033[1mText:\\033[0m {}\\n\\033[1mTopic:\\033[0m {}\\n\\033[1mScore:\\033[0m {}\".format(text, topic, score))"
   ]
  },
  {
   "cell_type": "code",
   "execution_count": 17,
   "metadata": {},
   "outputs": [
    {
     "data": {
      "text/html": [
       "<div>\n",
       "<style scoped>\n",
       "    .dataframe tbody tr th:only-of-type {\n",
       "        vertical-align: middle;\n",
       "    }\n",
       "\n",
       "    .dataframe tbody tr th {\n",
       "        vertical-align: top;\n",
       "    }\n",
       "\n",
       "    .dataframe thead th {\n",
       "        text-align: right;\n",
       "    }\n",
       "</style>\n",
       "<table border=\"1\" class=\"dataframe\">\n",
       "  <thead>\n",
       "    <tr style=\"text-align: right;\">\n",
       "      <th></th>\n",
       "      <th>Short description</th>\n",
       "      <th>Description</th>\n",
       "      <th>Language</th>\n",
       "      <th>Summary</th>\n",
       "      <th>Shift</th>\n",
       "      <th>Lines</th>\n",
       "      <th>Topic</th>\n",
       "      <th>Assignment group</th>\n",
       "    </tr>\n",
       "  </thead>\n",
       "  <tbody>\n",
       "    <tr>\n",
       "      <th>0</th>\n",
       "      <td>login issue</td>\n",
       "      <td>verified user detailsemployee manager name che...</td>\n",
       "      <td>English</td>\n",
       "      <td>login issue verified user detailsemployee mana...</td>\n",
       "      <td>General</td>\n",
       "      <td>5</td>\n",
       "      <td>Account/Password Reset</td>\n",
       "      <td>GRP_0</td>\n",
       "    </tr>\n",
       "    <tr>\n",
       "      <th>1</th>\n",
       "      <td>outlook</td>\n",
       "      <td>receive from hmjdrvpb.komuaywn@gmail.com hello...</td>\n",
       "      <td>English</td>\n",
       "      <td>outlook receive from hmjdrvpb.komuaywn@gmail.c...</td>\n",
       "      <td>General</td>\n",
       "      <td>7</td>\n",
       "      <td>Communication Issue</td>\n",
       "      <td>GRP_0</td>\n",
       "    </tr>\n",
       "    <tr>\n",
       "      <th>2</th>\n",
       "      <td>can not log in to vpn</td>\n",
       "      <td>receive from eylqgodm.ybqkwiam@gmail.com hi i ...</td>\n",
       "      <td>English</td>\n",
       "      <td>can not log in to vpn receive from eylqgodm.yb...</td>\n",
       "      <td>General</td>\n",
       "      <td>7</td>\n",
       "      <td>Access Issue</td>\n",
       "      <td>GRP_0</td>\n",
       "    </tr>\n",
       "    <tr>\n",
       "      <th>3</th>\n",
       "      <td>unable to access hrtool page</td>\n",
       "      <td>unable to access hrtool page</td>\n",
       "      <td>English</td>\n",
       "      <td>unable to access hrtool page unable to access ...</td>\n",
       "      <td>General</td>\n",
       "      <td>1</td>\n",
       "      <td>Access Issue</td>\n",
       "      <td>GRP_0</td>\n",
       "    </tr>\n",
       "    <tr>\n",
       "      <th>4</th>\n",
       "      <td>error skype</td>\n",
       "      <td>error skype</td>\n",
       "      <td>English</td>\n",
       "      <td>error skype error skype</td>\n",
       "      <td>General</td>\n",
       "      <td>1</td>\n",
       "      <td>Communication Issue</td>\n",
       "      <td>GRP_0</td>\n",
       "    </tr>\n",
       "  </tbody>\n",
       "</table>\n",
       "</div>"
      ],
      "text/plain": [
       "              Short description  \\\n",
       "0                   login issue   \n",
       "1                       outlook   \n",
       "2         can not log in to vpn   \n",
       "3  unable to access hrtool page   \n",
       "4                   error skype   \n",
       "\n",
       "                                         Description Language  \\\n",
       "0  verified user detailsemployee manager name che...  English   \n",
       "1  receive from hmjdrvpb.komuaywn@gmail.com hello...  English   \n",
       "2  receive from eylqgodm.ybqkwiam@gmail.com hi i ...  English   \n",
       "3                       unable to access hrtool page  English   \n",
       "4                                        error skype  English   \n",
       "\n",
       "                                             Summary    Shift  Lines  \\\n",
       "0  login issue verified user detailsemployee mana...  General      5   \n",
       "1  outlook receive from hmjdrvpb.komuaywn@gmail.c...  General      7   \n",
       "2  can not log in to vpn receive from eylqgodm.yb...  General      7   \n",
       "3  unable to access hrtool page unable to access ...  General      1   \n",
       "4                            error skype error skype  General      1   \n",
       "\n",
       "                    Topic Assignment group  \n",
       "0  Account/Password Reset            GRP_0  \n",
       "1     Communication Issue            GRP_0  \n",
       "2            Access Issue            GRP_0  \n",
       "3            Access Issue            GRP_0  \n",
       "4     Communication Issue            GRP_0  "
      ]
     },
     "execution_count": 17,
     "metadata": {},
     "output_type": "execute_result"
    }
   ],
   "source": [
    "# Apply the function to the dataset\n",
    "grp0_tickets.insert(loc=grp0_tickets.shape[1]-1, \n",
    "                   column='Topic', \n",
    "                   value=[get_groups(text)[0] for text in grp0_tickets.Summary])\n",
    "grp0_tickets.head()"
   ]
  },
  {
   "cell_type": "code",
   "execution_count": 18,
   "metadata": {},
   "outputs": [
    {
     "data": {
      "text/plain": [
       "Communication Issue       1312\n",
       "Account/Password Reset    1309\n",
       "Access Issue              1017\n",
       "Other Issues               338\n",
       "Name: Topic, dtype: int64"
      ]
     },
     "execution_count": 18,
     "metadata": {},
     "output_type": "execute_result"
    }
   ],
   "source": [
    "# Count the records based on Topics\n",
    "grp0_tickets.Topic.value_counts()"
   ]
  },
  {
   "cell_type": "markdown",
   "metadata": {},
   "source": [
    "**Observations**:\n",
    "- From the above analysis, it's evident that the tope 3 topics are present in maximum numbers. The ratio of top 3 topics and other topic is $33:33:26:8$\n",
    "- Except for the Other Issues, rest 3 categories of records can be down sampled to balance the dataset\n",
    "\n",
    "#### 9. Down-sampling the majority topics under GRP_0\n",
    "Under-sample the majority class(es) by randomly picking samples with or without replacement. We're using RandomUnderSampler class from imblearn."
   ]
  },
  {
   "cell_type": "code",
   "execution_count": 19,
   "metadata": {},
   "outputs": [
    {
     "data": {
      "text/plain": [
       "Other Issues              338\n",
       "Access Issue              338\n",
       "Account/Password Reset    338\n",
       "Communication Issue       338\n",
       "Name: Topic, dtype: int64"
      ]
     },
     "execution_count": 19,
     "metadata": {},
     "output_type": "execute_result"
    }
   ],
   "source": [
    "# Instantiate the UnderSampler class\n",
    "sampler = RandomUnderSampler(sampling_strategy='auto', random_state=0)\n",
    "# Fit the data\n",
    "X_res, y_res = sampler.fit_resample(grp0_tickets.drop(['Assignment group','Topic'], axis=1), grp0_tickets.Topic.values)\n",
    "# Check the ratio of output topics\n",
    "X_res = pd.DataFrame(X_res, columns=grp0_tickets.drop(['Assignment group','Topic'], axis=1).columns)\n",
    "y_res = pd.Series(y_res, name=\"Topic\")\n",
    "y_res.value_counts()"
   ]
  },
  {
   "cell_type": "markdown",
   "metadata": {},
   "source": [
    "**Observation:**<br/>\n",
    "The output of the UnderSampling technique shows that all the 4 distinct topics are resampled to exactly match the records in each topic making them a perfectly balanced distribution under GRP_0.\n",
    "\n",
    "Let's combine the Topic and Assignment group columns to maintain a single target attribute."
   ]
  },
  {
   "cell_type": "code",
   "execution_count": 20,
   "metadata": {},
   "outputs": [
    {
     "name": "stdout",
     "output_type": "stream",
     "text": [
      "\u001b[1mNew size of GRP_0 tickets:\u001b[0m (1352, 7)\n"
     ]
    },
    {
     "data": {
      "text/html": [
       "<div>\n",
       "<style scoped>\n",
       "    .dataframe tbody tr th:only-of-type {\n",
       "        vertical-align: middle;\n",
       "    }\n",
       "\n",
       "    .dataframe tbody tr th {\n",
       "        vertical-align: top;\n",
       "    }\n",
       "\n",
       "    .dataframe thead th {\n",
       "        text-align: right;\n",
       "    }\n",
       "</style>\n",
       "<table border=\"1\" class=\"dataframe\">\n",
       "  <thead>\n",
       "    <tr style=\"text-align: right;\">\n",
       "      <th></th>\n",
       "      <th>Short description</th>\n",
       "      <th>Description</th>\n",
       "      <th>Language</th>\n",
       "      <th>Summary</th>\n",
       "      <th>Shift</th>\n",
       "      <th>Lines</th>\n",
       "      <th>Assignment group</th>\n",
       "    </tr>\n",
       "  </thead>\n",
       "  <tbody>\n",
       "    <tr>\n",
       "      <th>0</th>\n",
       "      <td>purchase online catalog detechnical commercial...</td>\n",
       "      <td>purchase online catalog detechnical commercial...</td>\n",
       "      <td>German</td>\n",
       "      <td>purchase online catalog detechnical commercial...</td>\n",
       "      <td>General</td>\n",
       "      <td>1</td>\n",
       "      <td>GRP_0 (Access Issue)</td>\n",
       "    </tr>\n",
       "    <tr>\n",
       "      <th>1</th>\n",
       "      <td>uacyltoe hxgaycze ticket</td>\n",
       "      <td>uacyltoe hxgaycze ticket</td>\n",
       "      <td>English</td>\n",
       "      <td>uacyltoe hxgaycze ticket uacyltoe hxgaycze ticket</td>\n",
       "      <td>General</td>\n",
       "      <td>1</td>\n",
       "      <td>GRP_0 (Access Issue)</td>\n",
       "    </tr>\n",
       "    <tr>\n",
       "      <th>2</th>\n",
       "      <td>business card request</td>\n",
       "      <td>receive from zqbmxdgy.stuwbacm@gmail.com hello...</td>\n",
       "      <td>English</td>\n",
       "      <td>business card request receive from zqbmxdgy.st...</td>\n",
       "      <td>General</td>\n",
       "      <td>12</td>\n",
       "      <td>GRP_0 (Access Issue)</td>\n",
       "    </tr>\n",
       "    <tr>\n",
       "      <th>3</th>\n",
       "      <td>lean event</td>\n",
       "      <td>receive from ikerxqwz.prkyuitl@gmail.com hello...</td>\n",
       "      <td>English</td>\n",
       "      <td>lean event receive from ikerxqwz.prkyuitl@gmai...</td>\n",
       "      <td>General</td>\n",
       "      <td>10</td>\n",
       "      <td>GRP_0 (Access Issue)</td>\n",
       "    </tr>\n",
       "    <tr>\n",
       "      <th>4</th>\n",
       "      <td>ticket update on inplant</td>\n",
       "      <td>ticket update on inplant</td>\n",
       "      <td>English</td>\n",
       "      <td>ticket update on inplant ticket update on inplant</td>\n",
       "      <td>General</td>\n",
       "      <td>1</td>\n",
       "      <td>GRP_0 (Access Issue)</td>\n",
       "    </tr>\n",
       "  </tbody>\n",
       "</table>\n",
       "</div>"
      ],
      "text/plain": [
       "                                   Short description  \\\n",
       "0  purchase online catalog detechnical commercial...   \n",
       "1                           uacyltoe hxgaycze ticket   \n",
       "2                              business card request   \n",
       "3                                         lean event   \n",
       "4                           ticket update on inplant   \n",
       "\n",
       "                                         Description Language  \\\n",
       "0  purchase online catalog detechnical commercial...   German   \n",
       "1                           uacyltoe hxgaycze ticket  English   \n",
       "2  receive from zqbmxdgy.stuwbacm@gmail.com hello...  English   \n",
       "3  receive from ikerxqwz.prkyuitl@gmail.com hello...  English   \n",
       "4                           ticket update on inplant  English   \n",
       "\n",
       "                                             Summary    Shift Lines  \\\n",
       "0  purchase online catalog detechnical commercial...  General     1   \n",
       "1  uacyltoe hxgaycze ticket uacyltoe hxgaycze ticket  General     1   \n",
       "2  business card request receive from zqbmxdgy.st...  General    12   \n",
       "3  lean event receive from ikerxqwz.prkyuitl@gmai...  General    10   \n",
       "4  ticket update on inplant ticket update on inplant  General     1   \n",
       "\n",
       "       Assignment group  \n",
       "0  GRP_0 (Access Issue)  \n",
       "1  GRP_0 (Access Issue)  \n",
       "2  GRP_0 (Access Issue)  \n",
       "3  GRP_0 (Access Issue)  \n",
       "4  GRP_0 (Access Issue)  "
      ]
     },
     "execution_count": 20,
     "metadata": {},
     "output_type": "execute_result"
    }
   ],
   "source": [
    "# Combine Topic and Assignment Group columns\n",
    "grp0_tickets = pd.concat([X_res, y_res], axis=1)\n",
    "grp0_tickets['Assignment group'] = grp0_tickets['Topic'].apply(lambda x: f'GRP_0 ({x})')\n",
    "# Drop the Topic column\n",
    "grp0_tickets.drop(['Topic'], axis=1, inplace=True)\n",
    "print(f\"\\033[1mNew size of GRP_0 tickets:\\033[0m {grp0_tickets.shape}\")\n",
    "grp0_tickets.head()"
   ]
  },
  {
   "cell_type": "markdown",
   "metadata": {},
   "source": [
    "#### 10. Club groups with lesser tickets assigned\n",
    "Combine all groups with less than 25 tickets assigned into one separate group named ***Miscellaneous***"
   ]
  },
  {
   "cell_type": "code",
   "execution_count": 21,
   "metadata": {},
   "outputs": [
    {
     "name": "stdout",
     "output_type": "stream",
     "text": [
      "\u001b[1m#Groups with less than equal to 25 tickets assigned:\u001b[0m 37\n"
     ]
    },
    {
     "data": {
      "application/vnd.plotly.v1+json": {
       "config": {
        "linkText": "Export to plot.ly",
        "plotlyServerURL": "https://plot.ly",
        "showLink": true
       },
       "data": [
        {
         "histfunc": "count",
         "histnorm": "",
         "marker": {
          "color": "rgba(227, 74, 51, 1.0)",
          "line": {
           "color": "#4D5663",
           "width": 1.3
          }
         },
         "name": "Assignment group",
         "opacity": 0.8,
         "orientation": "v",
         "type": "histogram",
         "x": [
          "GRP_23",
          "GRP_27",
          "GRP_27",
          "GRP_35",
          "GRP_36",
          "GRP_37",
          "GRP_38",
          "GRP_39",
          "GRP_27",
          "GRP_36",
          "GRP_36",
          "GRP_36",
          "GRP_36",
          "GRP_43",
          "GRP_44",
          "GRP_27",
          "GRP_23",
          "GRP_46",
          "GRP_44",
          "GRP_23",
          "GRP_27",
          "GRP_48",
          "GRP_27",
          "GRP_44",
          "GRP_49",
          "GRP_46",
          "GRP_50",
          "GRP_44",
          "GRP_27",
          "GRP_23",
          "GRP_23",
          "GRP_51",
          "GRP_23",
          "GRP_52",
          "GRP_53",
          "GRP_23",
          "GRP_50",
          "GRP_39",
          "GRP_54",
          "GRP_55",
          "GRP_37",
          "GRP_44",
          "GRP_23",
          "GRP_48",
          "GRP_48",
          "GRP_48",
          "GRP_48",
          "GRP_48",
          "GRP_48",
          "GRP_55",
          "GRP_37",
          "GRP_56",
          "GRP_37",
          "GRP_57",
          "GRP_37",
          "GRP_36",
          "GRP_58",
          "GRP_55",
          "GRP_44",
          "GRP_36",
          "GRP_59",
          "GRP_37",
          "GRP_44",
          "GRP_39",
          "GRP_37",
          "GRP_53",
          "GRP_23",
          "GRP_23",
          "GRP_36",
          "GRP_23",
          "GRP_23",
          "GRP_23",
          "GRP_39",
          "GRP_46",
          "GRP_54",
          "GRP_60",
          "GRP_48",
          "GRP_61",
          "GRP_32",
          "GRP_53",
          "GRP_37",
          "GRP_56",
          "GRP_55",
          "GRP_62",
          "GRP_36",
          "GRP_36",
          "GRP_53",
          "GRP_44",
          "GRP_39",
          "GRP_39",
          "GRP_44",
          "GRP_51",
          "GRP_27",
          "GRP_63",
          "GRP_64",
          "GRP_62",
          "GRP_48",
          "GRP_53",
          "GRP_48",
          "GRP_48",
          "GRP_39",
          "GRP_65",
          "GRP_51",
          "GRP_39",
          "GRP_53",
          "GRP_53",
          "GRP_50",
          "GRP_39",
          "GRP_55",
          "GRP_36",
          "GRP_39",
          "GRP_39",
          "GRP_62",
          "GRP_23",
          "GRP_62",
          "GRP_62",
          "GRP_43",
          "GRP_46",
          "GRP_59",
          "GRP_23",
          "GRP_37",
          "GRP_36",
          "GRP_62",
          "GRP_59",
          "GRP_38",
          "GRP_51",
          "GRP_49",
          "GRP_63",
          "GRP_43",
          "GRP_50",
          "GRP_36",
          "GRP_48",
          "GRP_48",
          "GRP_48",
          "GRP_36",
          "GRP_44",
          "GRP_52",
          "GRP_23",
          "GRP_39",
          "GRP_53",
          "GRP_62",
          "GRP_49",
          "GRP_66",
          "GRP_39",
          "GRP_55",
          "GRP_62",
          "GRP_37",
          "GRP_65",
          "GRP_23",
          "GRP_59",
          "GRP_39",
          "GRP_65",
          "GRP_48",
          "GRP_48",
          "GRP_67",
          "GRP_60",
          "GRP_52",
          "GRP_58",
          "GRP_50",
          "GRP_50",
          "GRP_44",
          "GRP_37",
          "GRP_51",
          "GRP_53",
          "GRP_62",
          "GRP_37",
          "GRP_37",
          "GRP_23",
          "GRP_62",
          "GRP_53",
          "GRP_65",
          "GRP_59",
          "GRP_48",
          "GRP_48",
          "GRP_68",
          "GRP_39",
          "GRP_62",
          "GRP_52",
          "GRP_69",
          "GRP_68",
          "GRP_50",
          "GRP_44",
          "GRP_37",
          "GRP_50",
          "GRP_60",
          "GRP_60",
          "GRP_27",
          "GRP_44",
          "GRP_63",
          "GRP_27",
          "GRP_60",
          "GRP_60",
          "GRP_60",
          "GRP_60",
          "GRP_52",
          "GRP_70",
          "GRP_62",
          "GRP_60",
          "GRP_60",
          "GRP_60",
          "GRP_60",
          "GRP_60",
          "GRP_60",
          "GRP_60",
          "GRP_60",
          "GRP_60",
          "GRP_62",
          "GRP_66",
          "GRP_48",
          "GRP_48",
          "GRP_65",
          "GRP_51",
          "GRP_37",
          "GRP_51",
          "GRP_52",
          "GRP_62",
          "GRP_32",
          "GRP_38",
          "GRP_57",
          "GRP_65",
          "GRP_65",
          "GRP_60",
          "GRP_27",
          "GRP_39",
          "GRP_46",
          "GRP_59",
          "GRP_51",
          "GRP_39",
          "GRP_62",
          "GRP_50",
          "GRP_49",
          "GRP_27",
          "GRP_60",
          "GRP_50",
          "GRP_65",
          "GRP_52",
          "GRP_69",
          "GRP_23",
          "GRP_23",
          "GRP_46",
          "GRP_53",
          "GRP_48",
          "GRP_48",
          "GRP_48",
          "GRP_48",
          "GRP_39",
          "GRP_39",
          "GRP_65",
          "GRP_44",
          "GRP_27",
          "GRP_65",
          "GRP_44",
          "GRP_65",
          "GRP_50",
          "GRP_68",
          "GRP_52",
          "GRP_27",
          "GRP_49",
          "GRP_43",
          "GRP_62",
          "GRP_71",
          "GRP_37",
          "GRP_60",
          "GRP_62",
          "GRP_66",
          "GRP_66",
          "GRP_55",
          "GRP_27",
          "GRP_62",
          "GRP_72",
          "GRP_23",
          "GRP_50",
          "GRP_43",
          "GRP_48",
          "GRP_55",
          "GRP_56",
          "GRP_62",
          "GRP_62",
          "GRP_62",
          "GRP_36",
          "GRP_62",
          "GRP_62",
          "GRP_50",
          "GRP_50",
          "GRP_32",
          "GRP_71",
          "GRP_32",
          "GRP_27",
          "GRP_27",
          "GRP_58",
          "GRP_27",
          "GRP_73",
          "GRP_23",
          "GRP_23",
          "GRP_52",
          "GRP_23",
          "GRP_23",
          "GRP_72",
          "GRP_62",
          "GRP_62",
          "GRP_49"
         ]
        }
       ],
       "layout": {
        "autosize": true,
        "barmode": "overlay",
        "legend": {
         "bgcolor": "#F5F6F9",
         "font": {
          "color": "#4D5663"
         }
        },
        "paper_bgcolor": "#F5F6F9",
        "plot_bgcolor": "#F5F6F9",
        "template": {
         "data": {
          "bar": [
           {
            "error_x": {
             "color": "#2a3f5f"
            },
            "error_y": {
             "color": "#2a3f5f"
            },
            "marker": {
             "line": {
              "color": "#E5ECF6",
              "width": 0.5
             }
            },
            "type": "bar"
           }
          ],
          "barpolar": [
           {
            "marker": {
             "line": {
              "color": "#E5ECF6",
              "width": 0.5
             }
            },
            "type": "barpolar"
           }
          ],
          "carpet": [
           {
            "aaxis": {
             "endlinecolor": "#2a3f5f",
             "gridcolor": "white",
             "linecolor": "white",
             "minorgridcolor": "white",
             "startlinecolor": "#2a3f5f"
            },
            "baxis": {
             "endlinecolor": "#2a3f5f",
             "gridcolor": "white",
             "linecolor": "white",
             "minorgridcolor": "white",
             "startlinecolor": "#2a3f5f"
            },
            "type": "carpet"
           }
          ],
          "choropleth": [
           {
            "colorbar": {
             "outlinewidth": 0,
             "ticks": ""
            },
            "type": "choropleth"
           }
          ],
          "contour": [
           {
            "colorbar": {
             "outlinewidth": 0,
             "ticks": ""
            },
            "colorscale": [
             [
              0,
              "#0d0887"
             ],
             [
              0.1111111111111111,
              "#46039f"
             ],
             [
              0.2222222222222222,
              "#7201a8"
             ],
             [
              0.3333333333333333,
              "#9c179e"
             ],
             [
              0.4444444444444444,
              "#bd3786"
             ],
             [
              0.5555555555555556,
              "#d8576b"
             ],
             [
              0.6666666666666666,
              "#ed7953"
             ],
             [
              0.7777777777777778,
              "#fb9f3a"
             ],
             [
              0.8888888888888888,
              "#fdca26"
             ],
             [
              1,
              "#f0f921"
             ]
            ],
            "type": "contour"
           }
          ],
          "contourcarpet": [
           {
            "colorbar": {
             "outlinewidth": 0,
             "ticks": ""
            },
            "type": "contourcarpet"
           }
          ],
          "heatmap": [
           {
            "colorbar": {
             "outlinewidth": 0,
             "ticks": ""
            },
            "colorscale": [
             [
              0,
              "#0d0887"
             ],
             [
              0.1111111111111111,
              "#46039f"
             ],
             [
              0.2222222222222222,
              "#7201a8"
             ],
             [
              0.3333333333333333,
              "#9c179e"
             ],
             [
              0.4444444444444444,
              "#bd3786"
             ],
             [
              0.5555555555555556,
              "#d8576b"
             ],
             [
              0.6666666666666666,
              "#ed7953"
             ],
             [
              0.7777777777777778,
              "#fb9f3a"
             ],
             [
              0.8888888888888888,
              "#fdca26"
             ],
             [
              1,
              "#f0f921"
             ]
            ],
            "type": "heatmap"
           }
          ],
          "heatmapgl": [
           {
            "colorbar": {
             "outlinewidth": 0,
             "ticks": ""
            },
            "colorscale": [
             [
              0,
              "#0d0887"
             ],
             [
              0.1111111111111111,
              "#46039f"
             ],
             [
              0.2222222222222222,
              "#7201a8"
             ],
             [
              0.3333333333333333,
              "#9c179e"
             ],
             [
              0.4444444444444444,
              "#bd3786"
             ],
             [
              0.5555555555555556,
              "#d8576b"
             ],
             [
              0.6666666666666666,
              "#ed7953"
             ],
             [
              0.7777777777777778,
              "#fb9f3a"
             ],
             [
              0.8888888888888888,
              "#fdca26"
             ],
             [
              1,
              "#f0f921"
             ]
            ],
            "type": "heatmapgl"
           }
          ],
          "histogram": [
           {
            "marker": {
             "colorbar": {
              "outlinewidth": 0,
              "ticks": ""
             }
            },
            "type": "histogram"
           }
          ],
          "histogram2d": [
           {
            "colorbar": {
             "outlinewidth": 0,
             "ticks": ""
            },
            "colorscale": [
             [
              0,
              "#0d0887"
             ],
             [
              0.1111111111111111,
              "#46039f"
             ],
             [
              0.2222222222222222,
              "#7201a8"
             ],
             [
              0.3333333333333333,
              "#9c179e"
             ],
             [
              0.4444444444444444,
              "#bd3786"
             ],
             [
              0.5555555555555556,
              "#d8576b"
             ],
             [
              0.6666666666666666,
              "#ed7953"
             ],
             [
              0.7777777777777778,
              "#fb9f3a"
             ],
             [
              0.8888888888888888,
              "#fdca26"
             ],
             [
              1,
              "#f0f921"
             ]
            ],
            "type": "histogram2d"
           }
          ],
          "histogram2dcontour": [
           {
            "colorbar": {
             "outlinewidth": 0,
             "ticks": ""
            },
            "colorscale": [
             [
              0,
              "#0d0887"
             ],
             [
              0.1111111111111111,
              "#46039f"
             ],
             [
              0.2222222222222222,
              "#7201a8"
             ],
             [
              0.3333333333333333,
              "#9c179e"
             ],
             [
              0.4444444444444444,
              "#bd3786"
             ],
             [
              0.5555555555555556,
              "#d8576b"
             ],
             [
              0.6666666666666666,
              "#ed7953"
             ],
             [
              0.7777777777777778,
              "#fb9f3a"
             ],
             [
              0.8888888888888888,
              "#fdca26"
             ],
             [
              1,
              "#f0f921"
             ]
            ],
            "type": "histogram2dcontour"
           }
          ],
          "mesh3d": [
           {
            "colorbar": {
             "outlinewidth": 0,
             "ticks": ""
            },
            "type": "mesh3d"
           }
          ],
          "parcoords": [
           {
            "line": {
             "colorbar": {
              "outlinewidth": 0,
              "ticks": ""
             }
            },
            "type": "parcoords"
           }
          ],
          "pie": [
           {
            "automargin": true,
            "type": "pie"
           }
          ],
          "scatter": [
           {
            "marker": {
             "colorbar": {
              "outlinewidth": 0,
              "ticks": ""
             }
            },
            "type": "scatter"
           }
          ],
          "scatter3d": [
           {
            "line": {
             "colorbar": {
              "outlinewidth": 0,
              "ticks": ""
             }
            },
            "marker": {
             "colorbar": {
              "outlinewidth": 0,
              "ticks": ""
             }
            },
            "type": "scatter3d"
           }
          ],
          "scattercarpet": [
           {
            "marker": {
             "colorbar": {
              "outlinewidth": 0,
              "ticks": ""
             }
            },
            "type": "scattercarpet"
           }
          ],
          "scattergeo": [
           {
            "marker": {
             "colorbar": {
              "outlinewidth": 0,
              "ticks": ""
             }
            },
            "type": "scattergeo"
           }
          ],
          "scattergl": [
           {
            "marker": {
             "colorbar": {
              "outlinewidth": 0,
              "ticks": ""
             }
            },
            "type": "scattergl"
           }
          ],
          "scattermapbox": [
           {
            "marker": {
             "colorbar": {
              "outlinewidth": 0,
              "ticks": ""
             }
            },
            "type": "scattermapbox"
           }
          ],
          "scatterpolar": [
           {
            "marker": {
             "colorbar": {
              "outlinewidth": 0,
              "ticks": ""
             }
            },
            "type": "scatterpolar"
           }
          ],
          "scatterpolargl": [
           {
            "marker": {
             "colorbar": {
              "outlinewidth": 0,
              "ticks": ""
             }
            },
            "type": "scatterpolargl"
           }
          ],
          "scatterternary": [
           {
            "marker": {
             "colorbar": {
              "outlinewidth": 0,
              "ticks": ""
             }
            },
            "type": "scatterternary"
           }
          ],
          "surface": [
           {
            "colorbar": {
             "outlinewidth": 0,
             "ticks": ""
            },
            "colorscale": [
             [
              0,
              "#0d0887"
             ],
             [
              0.1111111111111111,
              "#46039f"
             ],
             [
              0.2222222222222222,
              "#7201a8"
             ],
             [
              0.3333333333333333,
              "#9c179e"
             ],
             [
              0.4444444444444444,
              "#bd3786"
             ],
             [
              0.5555555555555556,
              "#d8576b"
             ],
             [
              0.6666666666666666,
              "#ed7953"
             ],
             [
              0.7777777777777778,
              "#fb9f3a"
             ],
             [
              0.8888888888888888,
              "#fdca26"
             ],
             [
              1,
              "#f0f921"
             ]
            ],
            "type": "surface"
           }
          ],
          "table": [
           {
            "cells": {
             "fill": {
              "color": "#EBF0F8"
             },
             "line": {
              "color": "white"
             }
            },
            "header": {
             "fill": {
              "color": "#C8D4E3"
             },
             "line": {
              "color": "white"
             }
            },
            "type": "table"
           }
          ]
         },
         "layout": {
          "annotationdefaults": {
           "arrowcolor": "#2a3f5f",
           "arrowhead": 0,
           "arrowwidth": 1
          },
          "coloraxis": {
           "colorbar": {
            "outlinewidth": 0,
            "ticks": ""
           }
          },
          "colorscale": {
           "diverging": [
            [
             0,
             "#8e0152"
            ],
            [
             0.1,
             "#c51b7d"
            ],
            [
             0.2,
             "#de77ae"
            ],
            [
             0.3,
             "#f1b6da"
            ],
            [
             0.4,
             "#fde0ef"
            ],
            [
             0.5,
             "#f7f7f7"
            ],
            [
             0.6,
             "#e6f5d0"
            ],
            [
             0.7,
             "#b8e186"
            ],
            [
             0.8,
             "#7fbc41"
            ],
            [
             0.9,
             "#4d9221"
            ],
            [
             1,
             "#276419"
            ]
           ],
           "sequential": [
            [
             0,
             "#0d0887"
            ],
            [
             0.1111111111111111,
             "#46039f"
            ],
            [
             0.2222222222222222,
             "#7201a8"
            ],
            [
             0.3333333333333333,
             "#9c179e"
            ],
            [
             0.4444444444444444,
             "#bd3786"
            ],
            [
             0.5555555555555556,
             "#d8576b"
            ],
            [
             0.6666666666666666,
             "#ed7953"
            ],
            [
             0.7777777777777778,
             "#fb9f3a"
            ],
            [
             0.8888888888888888,
             "#fdca26"
            ],
            [
             1,
             "#f0f921"
            ]
           ],
           "sequentialminus": [
            [
             0,
             "#0d0887"
            ],
            [
             0.1111111111111111,
             "#46039f"
            ],
            [
             0.2222222222222222,
             "#7201a8"
            ],
            [
             0.3333333333333333,
             "#9c179e"
            ],
            [
             0.4444444444444444,
             "#bd3786"
            ],
            [
             0.5555555555555556,
             "#d8576b"
            ],
            [
             0.6666666666666666,
             "#ed7953"
            ],
            [
             0.7777777777777778,
             "#fb9f3a"
            ],
            [
             0.8888888888888888,
             "#fdca26"
            ],
            [
             1,
             "#f0f921"
            ]
           ]
          },
          "colorway": [
           "#636efa",
           "#EF553B",
           "#00cc96",
           "#ab63fa",
           "#FFA15A",
           "#19d3f3",
           "#FF6692",
           "#B6E880",
           "#FF97FF",
           "#FECB52"
          ],
          "font": {
           "color": "#2a3f5f"
          },
          "geo": {
           "bgcolor": "white",
           "lakecolor": "white",
           "landcolor": "#E5ECF6",
           "showlakes": true,
           "showland": true,
           "subunitcolor": "white"
          },
          "hoverlabel": {
           "align": "left"
          },
          "hovermode": "closest",
          "mapbox": {
           "style": "light"
          },
          "paper_bgcolor": "white",
          "plot_bgcolor": "#E5ECF6",
          "polar": {
           "angularaxis": {
            "gridcolor": "white",
            "linecolor": "white",
            "ticks": ""
           },
           "bgcolor": "#E5ECF6",
           "radialaxis": {
            "gridcolor": "white",
            "linecolor": "white",
            "ticks": ""
           }
          },
          "scene": {
           "xaxis": {
            "backgroundcolor": "#E5ECF6",
            "gridcolor": "white",
            "gridwidth": 2,
            "linecolor": "white",
            "showbackground": true,
            "ticks": "",
            "zerolinecolor": "white"
           },
           "yaxis": {
            "backgroundcolor": "#E5ECF6",
            "gridcolor": "white",
            "gridwidth": 2,
            "linecolor": "white",
            "showbackground": true,
            "ticks": "",
            "zerolinecolor": "white"
           },
           "zaxis": {
            "backgroundcolor": "#E5ECF6",
            "gridcolor": "white",
            "gridwidth": 2,
            "linecolor": "white",
            "showbackground": true,
            "ticks": "",
            "zerolinecolor": "white"
           }
          },
          "shapedefaults": {
           "line": {
            "color": "#2a3f5f"
           }
          },
          "ternary": {
           "aaxis": {
            "gridcolor": "white",
            "linecolor": "white",
            "ticks": ""
           },
           "baxis": {
            "gridcolor": "white",
            "linecolor": "white",
            "ticks": ""
           },
           "bgcolor": "#E5ECF6",
           "caxis": {
            "gridcolor": "white",
            "linecolor": "white",
            "ticks": ""
           }
          },
          "title": {
           "x": 0.05
          },
          "xaxis": {
           "automargin": true,
           "gridcolor": "white",
           "linecolor": "white",
           "ticks": "",
           "title": {
            "standoff": 15
           },
           "zerolinecolor": "white",
           "zerolinewidth": 2
          },
          "yaxis": {
           "automargin": true,
           "gridcolor": "white",
           "linecolor": "white",
           "ticks": "",
           "title": {
            "standoff": 15
           },
           "zerolinecolor": "white",
           "zerolinewidth": 2
          }
         }
        },
        "title": {
         "font": {
          "color": "#4D5663"
         },
         "text": "#Records by rare Assignment Groups- Histogram"
        },
        "xaxis": {
         "autorange": true,
         "gridcolor": "#E1E5ED",
         "range": [
          -0.5,
          36.5
         ],
         "showgrid": true,
         "tickfont": {
          "color": "#4D5663"
         },
         "title": {
          "font": {
           "color": "#4D5663"
          },
          "text": "Assignment Group"
         },
         "type": "category",
         "zerolinecolor": "#E1E5ED"
        },
        "yaxis": {
         "autorange": true,
         "gridcolor": "#E1E5ED",
         "range": [
          0,
          26.315789473684212
         ],
         "showgrid": true,
         "tickfont": {
          "color": "#4D5663"
         },
         "title": {
          "font": {
           "color": "#4D5663"
          },
          "text": "count"
         },
         "zerolinecolor": "#E1E5ED"
        }
       }
      },
      "image/png": "[encoded data removed]",
      "text/html": [
       "<div>\n",
       "        \n",
       "        \n",
       "            <div id=\"f552a14c-fddf-4135-819f-dcc277efd1ba\" class=\"plotly-graph-div\" style=\"height:525px; width:100%;\"></div>\n",
       "            <script type=\"text/javascript\">\n",
       "                require([\"plotly\"], function(Plotly) {\n",
       "                    window.PLOTLYENV=window.PLOTLYENV || {};\n",
       "                    window.PLOTLYENV.BASE_URL='https://plot.ly';\n",
       "                    \n",
       "                if (document.getElementById(\"f552a14c-fddf-4135-819f-dcc277efd1ba\")) {\n",
       "                    Plotly.newPlot(\n",
       "                        'f552a14c-fddf-4135-819f-dcc277efd1ba',\n",
       "                        [{\"histfunc\": \"count\", \"histnorm\": \"\", \"marker\": {\"color\": \"rgba(227, 74, 51, 1.0)\", \"line\": {\"color\": \"#4D5663\", \"width\": 1.3}}, \"name\": \"Assignment group\", \"opacity\": 0.8, \"orientation\": \"v\", \"type\": \"histogram\", \"x\": [\"GRP_23\", \"GRP_27\", \"GRP_27\", \"GRP_35\", \"GRP_36\", \"GRP_37\", \"GRP_38\", \"GRP_39\", \"GRP_27\", \"GRP_36\", \"GRP_36\", \"GRP_36\", \"GRP_36\", \"GRP_43\", \"GRP_44\", \"GRP_27\", \"GRP_23\", \"GRP_46\", \"GRP_44\", \"GRP_23\", \"GRP_27\", \"GRP_48\", \"GRP_27\", \"GRP_44\", \"GRP_49\", \"GRP_46\", \"GRP_50\", \"GRP_44\", \"GRP_27\", \"GRP_23\", \"GRP_23\", \"GRP_51\", \"GRP_23\", \"GRP_52\", \"GRP_53\", \"GRP_23\", \"GRP_50\", \"GRP_39\", \"GRP_54\", \"GRP_55\", \"GRP_37\", \"GRP_44\", \"GRP_23\", \"GRP_48\", \"GRP_48\", \"GRP_48\", \"GRP_48\", \"GRP_48\", \"GRP_48\", \"GRP_55\", \"GRP_37\", \"GRP_56\", \"GRP_37\", \"GRP_57\", \"GRP_37\", \"GRP_36\", \"GRP_58\", \"GRP_55\", \"GRP_44\", \"GRP_36\", \"GRP_59\", \"GRP_37\", \"GRP_44\", \"GRP_39\", \"GRP_37\", \"GRP_53\", \"GRP_23\", \"GRP_23\", \"GRP_36\", \"GRP_23\", \"GRP_23\", \"GRP_23\", \"GRP_39\", \"GRP_46\", \"GRP_54\", \"GRP_60\", \"GRP_48\", \"GRP_61\", \"GRP_32\", \"GRP_53\", \"GRP_37\", \"GRP_56\", \"GRP_55\", \"GRP_62\", \"GRP_36\", \"GRP_36\", \"GRP_53\", \"GRP_44\", \"GRP_39\", \"GRP_39\", \"GRP_44\", \"GRP_51\", \"GRP_27\", \"GRP_63\", \"GRP_64\", \"GRP_62\", \"GRP_48\", \"GRP_53\", \"GRP_48\", \"GRP_48\", \"GRP_39\", \"GRP_65\", \"GRP_51\", \"GRP_39\", \"GRP_53\", \"GRP_53\", \"GRP_50\", \"GRP_39\", \"GRP_55\", \"GRP_36\", \"GRP_39\", \"GRP_39\", \"GRP_62\", \"GRP_23\", \"GRP_62\", \"GRP_62\", \"GRP_43\", \"GRP_46\", \"GRP_59\", \"GRP_23\", \"GRP_37\", \"GRP_36\", \"GRP_62\", \"GRP_59\", \"GRP_38\", \"GRP_51\", \"GRP_49\", \"GRP_63\", \"GRP_43\", \"GRP_50\", \"GRP_36\", \"GRP_48\", \"GRP_48\", \"GRP_48\", \"GRP_36\", \"GRP_44\", \"GRP_52\", \"GRP_23\", \"GRP_39\", \"GRP_53\", \"GRP_62\", \"GRP_49\", \"GRP_66\", \"GRP_39\", \"GRP_55\", \"GRP_62\", \"GRP_37\", \"GRP_65\", \"GRP_23\", \"GRP_59\", \"GRP_39\", \"GRP_65\", \"GRP_48\", \"GRP_48\", \"GRP_67\", \"GRP_60\", \"GRP_52\", \"GRP_58\", \"GRP_50\", \"GRP_50\", \"GRP_44\", \"GRP_37\", \"GRP_51\", \"GRP_53\", \"GRP_62\", \"GRP_37\", \"GRP_37\", \"GRP_23\", \"GRP_62\", \"GRP_53\", \"GRP_65\", \"GRP_59\", \"GRP_48\", \"GRP_48\", \"GRP_68\", \"GRP_39\", \"GRP_62\", \"GRP_52\", \"GRP_69\", \"GRP_68\", \"GRP_50\", \"GRP_44\", \"GRP_37\", \"GRP_50\", \"GRP_60\", \"GRP_60\", \"GRP_27\", \"GRP_44\", \"GRP_63\", \"GRP_27\", \"GRP_60\", \"GRP_60\", \"GRP_60\", \"GRP_60\", \"GRP_52\", \"GRP_70\", \"GRP_62\", \"GRP_60\", \"GRP_60\", \"GRP_60\", \"GRP_60\", \"GRP_60\", \"GRP_60\", \"GRP_60\", \"GRP_60\", \"GRP_60\", \"GRP_62\", \"GRP_66\", \"GRP_48\", \"GRP_48\", \"GRP_65\", \"GRP_51\", \"GRP_37\", \"GRP_51\", \"GRP_52\", \"GRP_62\", \"GRP_32\", \"GRP_38\", \"GRP_57\", \"GRP_65\", \"GRP_65\", \"GRP_60\", \"GRP_27\", \"GRP_39\", \"GRP_46\", \"GRP_59\", \"GRP_51\", \"GRP_39\", \"GRP_62\", \"GRP_50\", \"GRP_49\", \"GRP_27\", \"GRP_60\", \"GRP_50\", \"GRP_65\", \"GRP_52\", \"GRP_69\", \"GRP_23\", \"GRP_23\", \"GRP_46\", \"GRP_53\", \"GRP_48\", \"GRP_48\", \"GRP_48\", \"GRP_48\", \"GRP_39\", \"GRP_39\", \"GRP_65\", \"GRP_44\", \"GRP_27\", \"GRP_65\", \"GRP_44\", \"GRP_65\", \"GRP_50\", \"GRP_68\", \"GRP_52\", \"GRP_27\", \"GRP_49\", \"GRP_43\", \"GRP_62\", \"GRP_71\", \"GRP_37\", \"GRP_60\", \"GRP_62\", \"GRP_66\", \"GRP_66\", \"GRP_55\", \"GRP_27\", \"GRP_62\", \"GRP_72\", \"GRP_23\", \"GRP_50\", \"GRP_43\", \"GRP_48\", \"GRP_55\", \"GRP_56\", \"GRP_62\", \"GRP_62\", \"GRP_62\", \"GRP_36\", \"GRP_62\", \"GRP_62\", \"GRP_50\", \"GRP_50\", \"GRP_32\", \"GRP_71\", \"GRP_32\", \"GRP_27\", \"GRP_27\", \"GRP_58\", \"GRP_27\", \"GRP_73\", \"GRP_23\", \"GRP_23\", \"GRP_52\", \"GRP_23\", \"GRP_23\", \"GRP_72\", \"GRP_62\", \"GRP_62\", \"GRP_49\"]}],\n",
       "                        {\"barmode\": \"overlay\", \"legend\": {\"bgcolor\": \"#F5F6F9\", \"font\": {\"color\": \"#4D5663\"}}, \"paper_bgcolor\": \"#F5F6F9\", \"plot_bgcolor\": \"#F5F6F9\", \"template\": {\"data\": {\"bar\": [{\"error_x\": {\"color\": \"#2a3f5f\"}, \"error_y\": {\"color\": \"#2a3f5f\"}, \"marker\": {\"line\": {\"color\": \"#E5ECF6\", \"width\": 0.5}}, \"type\": \"bar\"}], \"barpolar\": [{\"marker\": {\"line\": {\"color\": \"#E5ECF6\", \"width\": 0.5}}, \"type\": \"barpolar\"}], \"carpet\": [{\"aaxis\": {\"endlinecolor\": \"#2a3f5f\", \"gridcolor\": \"white\", \"linecolor\": \"white\", \"minorgridcolor\": \"white\", \"startlinecolor\": \"#2a3f5f\"}, \"baxis\": {\"endlinecolor\": \"#2a3f5f\", \"gridcolor\": \"white\", \"linecolor\": \"white\", \"minorgridcolor\": \"white\", \"startlinecolor\": \"#2a3f5f\"}, \"type\": \"carpet\"}], \"choropleth\": [{\"colorbar\": {\"outlinewidth\": 0, \"ticks\": \"\"}, \"type\": \"choropleth\"}], \"contour\": [{\"colorbar\": {\"outlinewidth\": 0, \"ticks\": \"\"}, \"colorscale\": [[0.0, \"#0d0887\"], [0.1111111111111111, \"#46039f\"], [0.2222222222222222, \"#7201a8\"], [0.3333333333333333, \"#9c179e\"], [0.4444444444444444, \"#bd3786\"], [0.5555555555555556, \"#d8576b\"], [0.6666666666666666, \"#ed7953\"], [0.7777777777777778, \"#fb9f3a\"], [0.8888888888888888, \"#fdca26\"], [1.0, \"#f0f921\"]], \"type\": \"contour\"}], \"contourcarpet\": [{\"colorbar\": {\"outlinewidth\": 0, \"ticks\": \"\"}, \"type\": \"contourcarpet\"}], \"heatmap\": [{\"colorbar\": {\"outlinewidth\": 0, \"ticks\": \"\"}, \"colorscale\": [[0.0, \"#0d0887\"], [0.1111111111111111, \"#46039f\"], [0.2222222222222222, \"#7201a8\"], [0.3333333333333333, \"#9c179e\"], [0.4444444444444444, \"#bd3786\"], [0.5555555555555556, \"#d8576b\"], [0.6666666666666666, \"#ed7953\"], [0.7777777777777778, \"#fb9f3a\"], [0.8888888888888888, \"#fdca26\"], [1.0, \"#f0f921\"]], \"type\": \"heatmap\"}], \"heatmapgl\": [{\"colorbar\": {\"outlinewidth\": 0, \"ticks\": \"\"}, \"colorscale\": [[0.0, \"#0d0887\"], [0.1111111111111111, \"#46039f\"], [0.2222222222222222, \"#7201a8\"], [0.3333333333333333, \"#9c179e\"], [0.4444444444444444, \"#bd3786\"], [0.5555555555555556, \"#d8576b\"], [0.6666666666666666, \"#ed7953\"], [0.7777777777777778, \"#fb9f3a\"], [0.8888888888888888, \"#fdca26\"], [1.0, \"#f0f921\"]], \"type\": \"heatmapgl\"}], \"histogram\": [{\"marker\": {\"colorbar\": {\"outlinewidth\": 0, \"ticks\": \"\"}}, \"type\": \"histogram\"}], \"histogram2d\": [{\"colorbar\": {\"outlinewidth\": 0, \"ticks\": \"\"}, \"colorscale\": [[0.0, \"#0d0887\"], [0.1111111111111111, \"#46039f\"], [0.2222222222222222, \"#7201a8\"], [0.3333333333333333, \"#9c179e\"], [0.4444444444444444, \"#bd3786\"], [0.5555555555555556, \"#d8576b\"], [0.6666666666666666, \"#ed7953\"], [0.7777777777777778, \"#fb9f3a\"], [0.8888888888888888, \"#fdca26\"], [1.0, \"#f0f921\"]], \"type\": \"histogram2d\"}], \"histogram2dcontour\": [{\"colorbar\": {\"outlinewidth\": 0, \"ticks\": \"\"}, \"colorscale\": [[0.0, \"#0d0887\"], [0.1111111111111111, \"#46039f\"], [0.2222222222222222, \"#7201a8\"], [0.3333333333333333, \"#9c179e\"], [0.4444444444444444, \"#bd3786\"], [0.5555555555555556, \"#d8576b\"], [0.6666666666666666, \"#ed7953\"], [0.7777777777777778, \"#fb9f3a\"], [0.8888888888888888, \"#fdca26\"], [1.0, \"#f0f921\"]], \"type\": \"histogram2dcontour\"}], \"mesh3d\": [{\"colorbar\": {\"outlinewidth\": 0, \"ticks\": \"\"}, \"type\": \"mesh3d\"}], \"parcoords\": [{\"line\": {\"colorbar\": {\"outlinewidth\": 0, \"ticks\": \"\"}}, \"type\": \"parcoords\"}], \"pie\": [{\"automargin\": true, \"type\": \"pie\"}], \"scatter\": [{\"marker\": {\"colorbar\": {\"outlinewidth\": 0, \"ticks\": \"\"}}, \"type\": \"scatter\"}], \"scatter3d\": [{\"line\": {\"colorbar\": {\"outlinewidth\": 0, \"ticks\": \"\"}}, \"marker\": {\"colorbar\": {\"outlinewidth\": 0, \"ticks\": \"\"}}, \"type\": \"scatter3d\"}], \"scattercarpet\": [{\"marker\": {\"colorbar\": {\"outlinewidth\": 0, \"ticks\": \"\"}}, \"type\": \"scattercarpet\"}], \"scattergeo\": [{\"marker\": {\"colorbar\": {\"outlinewidth\": 0, \"ticks\": \"\"}}, \"type\": \"scattergeo\"}], \"scattergl\": [{\"marker\": {\"colorbar\": {\"outlinewidth\": 0, \"ticks\": \"\"}}, \"type\": \"scattergl\"}], \"scattermapbox\": [{\"marker\": {\"colorbar\": {\"outlinewidth\": 0, \"ticks\": \"\"}}, \"type\": \"scattermapbox\"}], \"scatterpolar\": [{\"marker\": {\"colorbar\": {\"outlinewidth\": 0, \"ticks\": \"\"}}, \"type\": \"scatterpolar\"}], \"scatterpolargl\": [{\"marker\": {\"colorbar\": {\"outlinewidth\": 0, \"ticks\": \"\"}}, \"type\": \"scatterpolargl\"}], \"scatterternary\": [{\"marker\": {\"colorbar\": {\"outlinewidth\": 0, \"ticks\": \"\"}}, \"type\": \"scatterternary\"}], \"surface\": [{\"colorbar\": {\"outlinewidth\": 0, \"ticks\": \"\"}, \"colorscale\": [[0.0, \"#0d0887\"], [0.1111111111111111, \"#46039f\"], [0.2222222222222222, \"#7201a8\"], [0.3333333333333333, \"#9c179e\"], [0.4444444444444444, \"#bd3786\"], [0.5555555555555556, \"#d8576b\"], [0.6666666666666666, \"#ed7953\"], [0.7777777777777778, \"#fb9f3a\"], [0.8888888888888888, \"#fdca26\"], [1.0, \"#f0f921\"]], \"type\": \"surface\"}], \"table\": [{\"cells\": {\"fill\": {\"color\": \"#EBF0F8\"}, \"line\": {\"color\": \"white\"}}, \"header\": {\"fill\": {\"color\": \"#C8D4E3\"}, \"line\": {\"color\": \"white\"}}, \"type\": \"table\"}]}, \"layout\": {\"annotationdefaults\": {\"arrowcolor\": \"#2a3f5f\", \"arrowhead\": 0, \"arrowwidth\": 1}, \"coloraxis\": {\"colorbar\": {\"outlinewidth\": 0, \"ticks\": \"\"}}, \"colorscale\": {\"diverging\": [[0, \"#8e0152\"], [0.1, \"#c51b7d\"], [0.2, \"#de77ae\"], [0.3, \"#f1b6da\"], [0.4, \"#fde0ef\"], [0.5, \"#f7f7f7\"], [0.6, \"#e6f5d0\"], [0.7, \"#b8e186\"], [0.8, \"#7fbc41\"], [0.9, \"#4d9221\"], [1, \"#276419\"]], \"sequential\": [[0.0, \"#0d0887\"], [0.1111111111111111, \"#46039f\"], [0.2222222222222222, \"#7201a8\"], [0.3333333333333333, \"#9c179e\"], [0.4444444444444444, \"#bd3786\"], [0.5555555555555556, \"#d8576b\"], [0.6666666666666666, \"#ed7953\"], [0.7777777777777778, \"#fb9f3a\"], [0.8888888888888888, \"#fdca26\"], [1.0, \"#f0f921\"]], \"sequentialminus\": [[0.0, \"#0d0887\"], [0.1111111111111111, \"#46039f\"], [0.2222222222222222, \"#7201a8\"], [0.3333333333333333, \"#9c179e\"], [0.4444444444444444, \"#bd3786\"], [0.5555555555555556, \"#d8576b\"], [0.6666666666666666, \"#ed7953\"], [0.7777777777777778, \"#fb9f3a\"], [0.8888888888888888, \"#fdca26\"], [1.0, \"#f0f921\"]]}, \"colorway\": [\"#636efa\", \"#EF553B\", \"#00cc96\", \"#ab63fa\", \"#FFA15A\", \"#19d3f3\", \"#FF6692\", \"#B6E880\", \"#FF97FF\", \"#FECB52\"], \"font\": {\"color\": \"#2a3f5f\"}, \"geo\": {\"bgcolor\": \"white\", \"lakecolor\": \"white\", \"landcolor\": \"#E5ECF6\", \"showlakes\": true, \"showland\": true, \"subunitcolor\": \"white\"}, \"hoverlabel\": {\"align\": \"left\"}, \"hovermode\": \"closest\", \"mapbox\": {\"style\": \"light\"}, \"paper_bgcolor\": \"white\", \"plot_bgcolor\": \"#E5ECF6\", \"polar\": {\"angularaxis\": {\"gridcolor\": \"white\", \"linecolor\": \"white\", \"ticks\": \"\"}, \"bgcolor\": \"#E5ECF6\", \"radialaxis\": {\"gridcolor\": \"white\", \"linecolor\": \"white\", \"ticks\": \"\"}}, \"scene\": {\"xaxis\": {\"backgroundcolor\": \"#E5ECF6\", \"gridcolor\": \"white\", \"gridwidth\": 2, \"linecolor\": \"white\", \"showbackground\": true, \"ticks\": \"\", \"zerolinecolor\": \"white\"}, \"yaxis\": {\"backgroundcolor\": \"#E5ECF6\", \"gridcolor\": \"white\", \"gridwidth\": 2, \"linecolor\": \"white\", \"showbackground\": true, \"ticks\": \"\", \"zerolinecolor\": \"white\"}, \"zaxis\": {\"backgroundcolor\": \"#E5ECF6\", \"gridcolor\": \"white\", \"gridwidth\": 2, \"linecolor\": \"white\", \"showbackground\": true, \"ticks\": \"\", \"zerolinecolor\": \"white\"}}, \"shapedefaults\": {\"line\": {\"color\": \"#2a3f5f\"}}, \"ternary\": {\"aaxis\": {\"gridcolor\": \"white\", \"linecolor\": \"white\", \"ticks\": \"\"}, \"baxis\": {\"gridcolor\": \"white\", \"linecolor\": \"white\", \"ticks\": \"\"}, \"bgcolor\": \"#E5ECF6\", \"caxis\": {\"gridcolor\": \"white\", \"linecolor\": \"white\", \"ticks\": \"\"}}, \"title\": {\"x\": 0.05}, \"xaxis\": {\"automargin\": true, \"gridcolor\": \"white\", \"linecolor\": \"white\", \"ticks\": \"\", \"title\": {\"standoff\": 15}, \"zerolinecolor\": \"white\", \"zerolinewidth\": 2}, \"yaxis\": {\"automargin\": true, \"gridcolor\": \"white\", \"linecolor\": \"white\", \"ticks\": \"\", \"title\": {\"standoff\": 15}, \"zerolinecolor\": \"white\", \"zerolinewidth\": 2}}}, \"title\": {\"font\": {\"color\": \"#4D5663\"}, \"text\": \"#Records by rare Assignment Groups- Histogram\"}, \"xaxis\": {\"gridcolor\": \"#E1E5ED\", \"showgrid\": true, \"tickfont\": {\"color\": \"#4D5663\"}, \"title\": {\"font\": {\"color\": \"#4D5663\"}, \"text\": \"Assignment Group\"}, \"zerolinecolor\": \"#E1E5ED\"}, \"yaxis\": {\"gridcolor\": \"#E1E5ED\", \"showgrid\": true, \"tickfont\": {\"color\": \"#4D5663\"}, \"title\": {\"font\": {\"color\": \"#4D5663\"}, \"text\": \"count\"}, \"zerolinecolor\": \"#E1E5ED\"}},\n",
       "                        {\"showLink\": true, \"linkText\": \"Export to plot.ly\", \"plotlyServerURL\": \"https://plot.ly\", \"responsive\": true}\n",
       "                    ).then(function(){\n",
       "                            \n",
       "var gd = document.getElementById('f552a14c-fddf-4135-819f-dcc277efd1ba');\n",
       "var x = new MutationObserver(function (mutations, observer) {{\n",
       "        var display = window.getComputedStyle(gd).display;\n",
       "        if (!display || display === 'none') {{\n",
       "            console.log([gd, 'removed!']);\n",
       "            Plotly.purge(gd);\n",
       "            observer.disconnect();\n",
       "        }}\n",
       "}});\n",
       "\n",
       "// Listen for the removal of the full notebook cells\n",
       "var notebookContainer = gd.closest('#notebook-container');\n",
       "if (notebookContainer) {{\n",
       "    x.observe(notebookContainer, {childList: true});\n",
       "}}\n",
       "\n",
       "// Listen for the clearing of the current output cell\n",
       "var outputEl = gd.closest('.output');\n",
       "if (outputEl) {{\n",
       "    x.observe(outputEl, {childList: true});\n",
       "}}\n",
       "\n",
       "                        })\n",
       "                };\n",
       "                });\n",
       "            </script>\n",
       "        </div>"
      ]
     },
     "metadata": {},
     "output_type": "display_data"
    }
   ],
   "source": [
    "# Find out the Assignment Groups with less than equal to 25 tickets assigned\n",
    "rare_tickets = ticket.groupby(['Assignment group']).filter(lambda x: len(x) <= 25)\n",
    "print('\\033[1m#Groups with less than equal to 25 tickets assigned:\\033[0m', rare_tickets['Assignment group'].nunique())\n",
    "\n",
    "# Visualize the distribution\n",
    "rare_tickets['Assignment group'].iplot(\n",
    "    kind='hist',\n",
    "    xTitle='Assignment Group',\n",
    "    yTitle='count',\n",
    "    colorscale='-orrd',\n",
    "    title='#Records by rare Assignment Groups- Histogram')\n",
    "\n",
    "# Rename the Assignment group attribute\n",
    "rare_tickets['Assignment group'] = 'Miscellaneous'"
   ]
  },
  {
   "cell_type": "markdown",
   "metadata": {},
   "source": [
    "#### 11. Join and prepare the balanced dataset\n",
    "Let's club together resampled topics under GRP_0 with Miscellaneous group with less than 25 tickets with all others"
   ]
  },
  {
   "cell_type": "code",
   "execution_count": 22,
   "metadata": {},
   "outputs": [
    {
     "data": {
      "text/html": [
       "<div>\n",
       "<style scoped>\n",
       "    .dataframe tbody tr th:only-of-type {\n",
       "        vertical-align: middle;\n",
       "    }\n",
       "\n",
       "    .dataframe tbody tr th {\n",
       "        vertical-align: top;\n",
       "    }\n",
       "\n",
       "    .dataframe thead th {\n",
       "        text-align: right;\n",
       "    }\n",
       "</style>\n",
       "<table border=\"1\" class=\"dataframe\">\n",
       "  <thead>\n",
       "    <tr style=\"text-align: right;\">\n",
       "      <th></th>\n",
       "      <th>Short description</th>\n",
       "      <th>Description</th>\n",
       "      <th>Language</th>\n",
       "      <th>Summary</th>\n",
       "      <th>Shift</th>\n",
       "      <th>Lines</th>\n",
       "      <th>Assignment group</th>\n",
       "    </tr>\n",
       "  </thead>\n",
       "  <tbody>\n",
       "    <tr>\n",
       "      <th>0</th>\n",
       "      <td>purchase online catalog detechnical commercial...</td>\n",
       "      <td>purchase online catalog detechnical commercial...</td>\n",
       "      <td>German</td>\n",
       "      <td>purchase online catalog detechnical commercial...</td>\n",
       "      <td>General</td>\n",
       "      <td>1</td>\n",
       "      <td>GRP_0 (Access Issue)</td>\n",
       "    </tr>\n",
       "    <tr>\n",
       "      <th>1</th>\n",
       "      <td>uacyltoe hxgaycze ticket</td>\n",
       "      <td>uacyltoe hxgaycze ticket</td>\n",
       "      <td>English</td>\n",
       "      <td>uacyltoe hxgaycze ticket uacyltoe hxgaycze ticket</td>\n",
       "      <td>General</td>\n",
       "      <td>1</td>\n",
       "      <td>GRP_0 (Access Issue)</td>\n",
       "    </tr>\n",
       "    <tr>\n",
       "      <th>2</th>\n",
       "      <td>business card request</td>\n",
       "      <td>receive from zqbmxdgy.stuwbacm@gmail.com hello...</td>\n",
       "      <td>English</td>\n",
       "      <td>business card request receive from zqbmxdgy.st...</td>\n",
       "      <td>General</td>\n",
       "      <td>12</td>\n",
       "      <td>GRP_0 (Access Issue)</td>\n",
       "    </tr>\n",
       "    <tr>\n",
       "      <th>3</th>\n",
       "      <td>lean event</td>\n",
       "      <td>receive from ikerxqwz.prkyuitl@gmail.com hello...</td>\n",
       "      <td>English</td>\n",
       "      <td>lean event receive from ikerxqwz.prkyuitl@gmai...</td>\n",
       "      <td>General</td>\n",
       "      <td>10</td>\n",
       "      <td>GRP_0 (Access Issue)</td>\n",
       "    </tr>\n",
       "    <tr>\n",
       "      <th>4</th>\n",
       "      <td>ticket update on inplant</td>\n",
       "      <td>ticket update on inplant</td>\n",
       "      <td>English</td>\n",
       "      <td>ticket update on inplant ticket update on inplant</td>\n",
       "      <td>General</td>\n",
       "      <td>1</td>\n",
       "      <td>GRP_0 (Access Issue)</td>\n",
       "    </tr>\n",
       "  </tbody>\n",
       "</table>\n",
       "</div>"
      ],
      "text/plain": [
       "                                   Short description  \\\n",
       "0  purchase online catalog detechnical commercial...   \n",
       "1                           uacyltoe hxgaycze ticket   \n",
       "2                              business card request   \n",
       "3                                         lean event   \n",
       "4                           ticket update on inplant   \n",
       "\n",
       "                                         Description Language  \\\n",
       "0  purchase online catalog detechnical commercial...   German   \n",
       "1                           uacyltoe hxgaycze ticket  English   \n",
       "2  receive from zqbmxdgy.stuwbacm@gmail.com hello...  English   \n",
       "3  receive from ikerxqwz.prkyuitl@gmail.com hello...  English   \n",
       "4                           ticket update on inplant  English   \n",
       "\n",
       "                                             Summary    Shift Lines  \\\n",
       "0  purchase online catalog detechnical commercial...  General     1   \n",
       "1  uacyltoe hxgaycze ticket uacyltoe hxgaycze ticket  General     1   \n",
       "2  business card request receive from zqbmxdgy.st...  General    12   \n",
       "3  lean event receive from ikerxqwz.prkyuitl@gmai...  General    10   \n",
       "4  ticket update on inplant ticket update on inplant  General     1   \n",
       "\n",
       "       Assignment group  \n",
       "0  GRP_0 (Access Issue)  \n",
       "1  GRP_0 (Access Issue)  \n",
       "2  GRP_0 (Access Issue)  \n",
       "3  GRP_0 (Access Issue)  \n",
       "4  GRP_0 (Access Issue)  "
      ]
     },
     "execution_count": 22,
     "metadata": {},
     "output_type": "execute_result"
    }
   ],
   "source": [
    "# Find tickets with good number of tickets assigned\n",
    "good_tickets = ticket.iloc[[idx for idx in ticket.index if idx not in rare_tickets.index]]\n",
    "good_tickets = good_tickets[good_tickets['Assignment group'] != 'GRP_0']\n",
    "\n",
    "# Join all the 3 datasets\n",
    "ticket = pd.concat([grp0_tickets, good_tickets, rare_tickets]).reset_index(drop=True)\n",
    "\n",
    "# Serialize the balanced dataset\n",
    "with open('Dataset/balanced_ticket.pkl','wb') as f:\n",
    "    pickle.dump(ticket[['Summary','Assignment group']], f, pickle.HIGHEST_PROTOCOL)\n",
    "\n",
    "ticket.head()"
   ]
  },
  {
   "cell_type": "code",
   "execution_count": 54,
   "metadata": {},
   "outputs": [
    {
     "data": {
      "text/html": [
       "<div>\n",
       "<style scoped>\n",
       "    .dataframe tbody tr th:only-of-type {\n",
       "        vertical-align: middle;\n",
       "    }\n",
       "\n",
       "    .dataframe tbody tr th {\n",
       "        vertical-align: top;\n",
       "    }\n",
       "\n",
       "    .dataframe thead th {\n",
       "        text-align: right;\n",
       "    }\n",
       "</style>\n",
       "<table border=\"1\" class=\"dataframe\">\n",
       "  <thead>\n",
       "    <tr style=\"text-align: right;\">\n",
       "      <th></th>\n",
       "      <th>Short description</th>\n",
       "      <th>Description</th>\n",
       "      <th>Language</th>\n",
       "      <th>Summary</th>\n",
       "      <th>Shift</th>\n",
       "      <th>Lines</th>\n",
       "      <th>Assignment group</th>\n",
       "    </tr>\n",
       "  </thead>\n",
       "  <tbody>\n",
       "    <tr>\n",
       "      <th>0</th>\n",
       "      <td>ticket update on ticket no</td>\n",
       "      <td>ticket update on ticket no</td>\n",
       "      <td>English</td>\n",
       "      <td>ticket update on ticket no ticket update on ti...</td>\n",
       "      <td>General</td>\n",
       "      <td>1</td>\n",
       "      <td>GRP_0 (Access Issue)</td>\n",
       "    </tr>\n",
       "    <tr>\n",
       "      <th>1</th>\n",
       "      <td>delete print job on prtqc</td>\n",
       "      <td>delete print job on prtqc</td>\n",
       "      <td>English</td>\n",
       "      <td>delete print job on prtqc delete print job on ...</td>\n",
       "      <td>General</td>\n",
       "      <td>1</td>\n",
       "      <td>GRP_0 (Access Issue)</td>\n",
       "    </tr>\n",
       "    <tr>\n",
       "      <th>2</th>\n",
       "      <td>unable to print from tc ps printer</td>\n",
       "      <td>unable to print from tc ps printer</td>\n",
       "      <td>Chinese</td>\n",
       "      <td>unable to print from tc ps printer unable to p...</td>\n",
       "      <td>General</td>\n",
       "      <td>1</td>\n",
       "      <td>GRP_0 (Access Issue)</td>\n",
       "    </tr>\n",
       "    <tr>\n",
       "      <th>3</th>\n",
       "      <td>file shatryung help require</td>\n",
       "      <td>receive from email hi i need to send a video o...</td>\n",
       "      <td>English</td>\n",
       "      <td>file shatryung help require receive from email...</td>\n",
       "      <td>General</td>\n",
       "      <td>5</td>\n",
       "      <td>GRP_0 (Access Issue)</td>\n",
       "    </tr>\n",
       "    <tr>\n",
       "      <th>4</th>\n",
       "      <td>problem with start in outlook</td>\n",
       "      <td>receive from email hi can not start on compute...</td>\n",
       "      <td>German</td>\n",
       "      <td>problem with start in outlook receive from ema...</td>\n",
       "      <td>General</td>\n",
       "      <td>29</td>\n",
       "      <td>GRP_0 (Access Issue)</td>\n",
       "    </tr>\n",
       "    <tr>\n",
       "      <th>...</th>\n",
       "      <td>...</td>\n",
       "      <td>...</td>\n",
       "      <td>...</td>\n",
       "      <td>...</td>\n",
       "      <td>...</td>\n",
       "      <td>...</td>\n",
       "      <td>...</td>\n",
       "    </tr>\n",
       "    <tr>\n",
       "      <th>6585</th>\n",
       "      <td>please turn off eligibility for ethic for user...</td>\n",
       "      <td>please turn off eligibility for ethic for user...</td>\n",
       "      <td>English</td>\n",
       "      <td>please turn off eligibility for ethic for user...</td>\n",
       "      <td>General</td>\n",
       "      <td>1</td>\n",
       "      <td>Miscellaneous</td>\n",
       "    </tr>\n",
       "    <tr>\n",
       "      <th>6586</th>\n",
       "      <td>ticket ticket no update to anftgup nftgyair</td>\n",
       "      <td>ticket ticket no update to anftgup nftgyair</td>\n",
       "      <td>English</td>\n",
       "      <td>ticket ticket no update to anftgup nftgyair ti...</td>\n",
       "      <td>General</td>\n",
       "      <td>1</td>\n",
       "      <td>Miscellaneous</td>\n",
       "    </tr>\n",
       "    <tr>\n",
       "      <th>6587</th>\n",
       "      <td>micro format</td>\n",
       "      <td>micro format</td>\n",
       "      <td>English</td>\n",
       "      <td>micro format micro format</td>\n",
       "      <td>General</td>\n",
       "      <td>1</td>\n",
       "      <td>Miscellaneous</td>\n",
       "    </tr>\n",
       "    <tr>\n",
       "      <th>6588</th>\n",
       "      <td>machine não está funcionando</td>\n",
       "      <td>i be unable to access the machine utility to f...</td>\n",
       "      <td>German</td>\n",
       "      <td>machine não está funcionando i be unable to ac...</td>\n",
       "      <td>General</td>\n",
       "      <td>2</td>\n",
       "      <td>Miscellaneous</td>\n",
       "    </tr>\n",
       "    <tr>\n",
       "      <th>6589</th>\n",
       "      <td>various prgramdntyme can not be open on multip...</td>\n",
       "      <td>various prgramdntyme can not be open on multip...</td>\n",
       "      <td>German</td>\n",
       "      <td>various prgramdntyme can not be open on multip...</td>\n",
       "      <td>General</td>\n",
       "      <td>1</td>\n",
       "      <td>Miscellaneous</td>\n",
       "    </tr>\n",
       "  </tbody>\n",
       "</table>\n",
       "<p>6590 rows × 7 columns</p>\n",
       "</div>"
      ],
      "text/plain": [
       "                                      Short description  \\\n",
       "0                            ticket update on ticket no   \n",
       "1                             delete print job on prtqc   \n",
       "2                    unable to print from tc ps printer   \n",
       "3                           file shatryung help require   \n",
       "4                         problem with start in outlook   \n",
       "...                                                 ...   \n",
       "6585  please turn off eligibility for ethic for user...   \n",
       "6586        ticket ticket no update to anftgup nftgyair   \n",
       "6587                                       micro format   \n",
       "6588                       machine não está funcionando   \n",
       "6589  various prgramdntyme can not be open on multip...   \n",
       "\n",
       "                                            Description Language  \\\n",
       "0                            ticket update on ticket no  English   \n",
       "1                             delete print job on prtqc  English   \n",
       "2                    unable to print from tc ps printer  Chinese   \n",
       "3     receive from email hi i need to send a video o...  English   \n",
       "4     receive from email hi can not start on compute...   German   \n",
       "...                                                 ...      ...   \n",
       "6585  please turn off eligibility for ethic for user...  English   \n",
       "6586        ticket ticket no update to anftgup nftgyair  English   \n",
       "6587                                       micro format  English   \n",
       "6588  i be unable to access the machine utility to f...   German   \n",
       "6589  various prgramdntyme can not be open on multip...   German   \n",
       "\n",
       "                                                Summary    Shift Lines  \\\n",
       "0     ticket update on ticket no ticket update on ti...  General     1   \n",
       "1     delete print job on prtqc delete print job on ...  General     1   \n",
       "2     unable to print from tc ps printer unable to p...  General     1   \n",
       "3     file shatryung help require receive from email...  General     5   \n",
       "4     problem with start in outlook receive from ema...  General    29   \n",
       "...                                                 ...      ...   ...   \n",
       "6585  please turn off eligibility for ethic for user...  General     1   \n",
       "6586  ticket ticket no update to anftgup nftgyair ti...  General     1   \n",
       "6587                          micro format micro format  General     1   \n",
       "6588  machine não está funcionando i be unable to ac...  General     2   \n",
       "6589  various prgramdntyme can not be open on multip...  General     1   \n",
       "\n",
       "          Assignment group  \n",
       "0     GRP_0 (Access Issue)  \n",
       "1     GRP_0 (Access Issue)  \n",
       "2     GRP_0 (Access Issue)  \n",
       "3     GRP_0 (Access Issue)  \n",
       "4     GRP_0 (Access Issue)  \n",
       "...                    ...  \n",
       "6585         Miscellaneous  \n",
       "6586         Miscellaneous  \n",
       "6587         Miscellaneous  \n",
       "6588         Miscellaneous  \n",
       "6589         Miscellaneous  \n",
       "\n",
       "[6590 rows x 7 columns]"
      ]
     },
     "execution_count": 54,
     "metadata": {},
     "output_type": "execute_result"
    }
   ],
   "source": [
    "ticket"
   ]
  },
  {
   "cell_type": "code",
   "execution_count": 23,
   "metadata": {},
   "outputs": [
    {
     "name": "stdout",
     "output_type": "stream",
     "text": [
      "\u001b[1m#Unique groups remaining:\u001b[0m 41\n"
     ]
    },
    {
     "data": {
      "application/vnd.plotly.v1+json": {
       "config": {
        "linkText": "Export to plot.ly",
        "plotlyServerURL": "https://plot.ly",
        "showLink": true
       },
       "data": [
        {
         "labels": [
          "GRP_0 (Access Issue)",
          "GRP_0 (Account/Password Reset)",
          "GRP_0 (Communication Issue)",
          "GRP_0 (Other Issues)",
          "GRP_1",
          "GRP_10",
          "GRP_11",
          "GRP_12",
          "GRP_13",
          "GRP_14",
          "GRP_15",
          "GRP_16",
          "GRP_17",
          "GRP_18",
          "GRP_19",
          "GRP_2",
          "GRP_20",
          "GRP_21",
          "GRP_22",
          "GRP_24",
          "GRP_25",
          "GRP_26",
          "GRP_28",
          "GRP_29",
          "GRP_3",
          "GRP_30",
          "GRP_31",
          "GRP_33",
          "GRP_34",
          "GRP_4",
          "GRP_40",
          "GRP_41",
          "GRP_42",
          "GRP_45",
          "GRP_47",
          "GRP_5",
          "GRP_6",
          "GRP_7",
          "GRP_8",
          "GRP_9",
          "Miscellaneous"
         ],
         "marker": {
          "colors": [
           "rgba(255, 153, 51, 1.0)",
           "rgba(55, 128, 191, 1.0)",
           "rgba(50, 171, 96, 1.0)",
           "rgba(128, 0, 128, 1.0)",
           "rgba(219, 64, 82, 1.0)",
           "rgba(0, 128, 128, 1.0)",
           "rgba(255, 255, 51, 1.0)",
           "rgba(128, 128, 0, 1.0)",
           "rgba(251, 128, 114, 1.0)",
           "rgba(128, 177, 211, 1.0)",
           "rgba(128, 177, 211, 0.8999999999999999)",
           "rgba(255, 153, 51, 0.8999999999999999)",
           "rgba(55, 128, 191, 0.8999999999999999)",
           "rgba(50, 171, 96, 0.8999999999999999)",
           "rgba(128, 0, 128, 0.8999999999999999)",
           "rgba(219, 64, 82, 0.8999999999999999)",
           "rgba(0, 128, 128, 0.8999999999999999)",
           "rgba(255, 255, 51, 0.8999999999999999)",
           "rgba(128, 128, 0, 0.8999999999999999)",
           "rgba(251, 128, 114, 0.8999999999999999)",
           "rgba(251, 128, 114, 0.7999999999999998)",
           "rgba(128, 177, 211, 0.7999999999999998)",
           "rgba(255, 153, 51, 0.7999999999999998)",
           "rgba(55, 128, 191, 0.7999999999999998)",
           "rgba(50, 171, 96, 0.7999999999999998)",
           "rgba(128, 0, 128, 0.7999999999999998)",
           "rgba(219, 64, 82, 0.7999999999999998)",
           "rgba(0, 128, 128, 0.7999999999999998)",
           "rgba(255, 255, 51, 0.7999999999999998)",
           "rgba(128, 128, 0, 0.7999999999999998)",
           "rgba(128, 128, 0, 0.7)",
           "rgba(251, 128, 114, 0.7)",
           "rgba(128, 177, 211, 0.7)",
           "rgba(255, 153, 51, 0.7)",
           "rgba(55, 128, 191, 0.7)",
           "rgba(50, 171, 96, 0.7)",
           "rgba(128, 0, 128, 0.7)",
           "rgba(219, 64, 82, 0.7)",
           "rgba(0, 128, 128, 0.7)",
           "rgba(255, 255, 51, 0.7)",
           "rgba(255, 255, 51, 0.5999999999999999)"
          ]
         },
         "name": "",
         "pull": [
          0,
          0.0075,
          0.015,
          0.0225,
          0.03,
          0.0375,
          0.045,
          0.0525,
          0.06,
          0.0675,
          0.075,
          0.08249999999999999,
          0.09,
          0.0975,
          0.105,
          0.11249999999999999,
          0.12,
          0.1275,
          0.135,
          0.1425,
          0.15,
          0.1575,
          0.16499999999999998,
          0.1725,
          0.18,
          0.1875,
          0.195,
          0.20249999999999999,
          0.21,
          0.2175,
          0.22499999999999998,
          0.23249999999999998,
          0.24,
          0.2475,
          0.255,
          0.2625,
          0.27,
          0.27749999999999997,
          0.285,
          0.2925,
          0.3
         ],
         "type": "pie",
         "values": [
          338,
          338,
          338,
          338,
          31,
          140,
          30,
          257,
          145,
          118,
          39,
          85,
          81,
          88,
          215,
          241,
          36,
          29,
          31,
          289,
          116,
          56,
          44,
          97,
          200,
          39,
          69,
          107,
          62,
          100,
          45,
          40,
          37,
          35,
          27,
          129,
          184,
          68,
          661,
          252,
          301
         ]
        }
       ],
       "layout": {
        "autosize": true,
        "legend": {
         "bgcolor": "#F5F6F9",
         "font": {
          "color": "#4D5663"
         }
        },
        "paper_bgcolor": "#F5F6F9",
        "plot_bgcolor": "#F5F6F9",
        "title": {
         "font": {
          "color": "#4D5663"
         },
         "text": "#Records by Assignment groups"
        }
       }
      },
      "image/png": "[encoded data removed]",
      "text/html": [
       "<div>\n",
       "        \n",
       "        \n",
       "            <div id=\"85c248a6-42c0-4b7d-a4e8-90c13c8c934b\" class=\"plotly-graph-div\" style=\"height:525px; width:100%;\"></div>\n",
       "            <script type=\"text/javascript\">\n",
       "                require([\"plotly\"], function(Plotly) {\n",
       "                    window.PLOTLYENV=window.PLOTLYENV || {};\n",
       "                    window.PLOTLYENV.BASE_URL='https://plot.ly';\n",
       "                    \n",
       "                if (document.getElementById(\"85c248a6-42c0-4b7d-a4e8-90c13c8c934b\")) {\n",
       "                    Plotly.newPlot(\n",
       "                        '85c248a6-42c0-4b7d-a4e8-90c13c8c934b',\n",
       "                        [{\"labels\": [\"GRP_0 (Access Issue)\", \"GRP_0 (Account/Password Reset)\", \"GRP_0 (Communication Issue)\", \"GRP_0 (Other Issues)\", \"GRP_1\", \"GRP_10\", \"GRP_11\", \"GRP_12\", \"GRP_13\", \"GRP_14\", \"GRP_15\", \"GRP_16\", \"GRP_17\", \"GRP_18\", \"GRP_19\", \"GRP_2\", \"GRP_20\", \"GRP_21\", \"GRP_22\", \"GRP_24\", \"GRP_25\", \"GRP_26\", \"GRP_28\", \"GRP_29\", \"GRP_3\", \"GRP_30\", \"GRP_31\", \"GRP_33\", \"GRP_34\", \"GRP_4\", \"GRP_40\", \"GRP_41\", \"GRP_42\", \"GRP_45\", \"GRP_47\", \"GRP_5\", \"GRP_6\", \"GRP_7\", \"GRP_8\", \"GRP_9\", \"Miscellaneous\"], \"marker\": {\"colors\": [\"rgba(255, 153, 51, 1.0)\", \"rgba(55, 128, 191, 1.0)\", \"rgba(50, 171, 96, 1.0)\", \"rgba(128, 0, 128, 1.0)\", \"rgba(219, 64, 82, 1.0)\", \"rgba(0, 128, 128, 1.0)\", \"rgba(255, 255, 51, 1.0)\", \"rgba(128, 128, 0, 1.0)\", \"rgba(251, 128, 114, 1.0)\", \"rgba(128, 177, 211, 1.0)\", \"rgba(128, 177, 211, 0.8999999999999999)\", \"rgba(255, 153, 51, 0.8999999999999999)\", \"rgba(55, 128, 191, 0.8999999999999999)\", \"rgba(50, 171, 96, 0.8999999999999999)\", \"rgba(128, 0, 128, 0.8999999999999999)\", \"rgba(219, 64, 82, 0.8999999999999999)\", \"rgba(0, 128, 128, 0.8999999999999999)\", \"rgba(255, 255, 51, 0.8999999999999999)\", \"rgba(128, 128, 0, 0.8999999999999999)\", \"rgba(251, 128, 114, 0.8999999999999999)\", \"rgba(251, 128, 114, 0.7999999999999998)\", \"rgba(128, 177, 211, 0.7999999999999998)\", \"rgba(255, 153, 51, 0.7999999999999998)\", \"rgba(55, 128, 191, 0.7999999999999998)\", \"rgba(50, 171, 96, 0.7999999999999998)\", \"rgba(128, 0, 128, 0.7999999999999998)\", \"rgba(219, 64, 82, 0.7999999999999998)\", \"rgba(0, 128, 128, 0.7999999999999998)\", \"rgba(255, 255, 51, 0.7999999999999998)\", \"rgba(128, 128, 0, 0.7999999999999998)\", \"rgba(128, 128, 0, 0.7)\", \"rgba(251, 128, 114, 0.7)\", \"rgba(128, 177, 211, 0.7)\", \"rgba(255, 153, 51, 0.7)\", \"rgba(55, 128, 191, 0.7)\", \"rgba(50, 171, 96, 0.7)\", \"rgba(128, 0, 128, 0.7)\", \"rgba(219, 64, 82, 0.7)\", \"rgba(0, 128, 128, 0.7)\", \"rgba(255, 255, 51, 0.7)\", \"rgba(255, 255, 51, 0.5999999999999999)\"]}, \"name\": \"\", \"pull\": [0.0, 0.0075, 0.015, 0.0225, 0.03, 0.0375, 0.045, 0.0525, 0.06, 0.0675, 0.075, 0.08249999999999999, 0.09, 0.0975, 0.105, 0.11249999999999999, 0.12, 0.1275, 0.135, 0.1425, 0.15, 0.1575, 0.16499999999999998, 0.1725, 0.18, 0.1875, 0.195, 0.20249999999999999, 0.21, 0.2175, 0.22499999999999998, 0.23249999999999998, 0.24, 0.2475, 0.255, 0.2625, 0.27, 0.27749999999999997, 0.285, 0.2925, 0.3], \"type\": \"pie\", \"values\": [338, 338, 338, 338, 31, 140, 30, 257, 145, 118, 39, 85, 81, 88, 215, 241, 36, 29, 31, 289, 116, 56, 44, 97, 200, 39, 69, 107, 62, 100, 45, 40, 37, 35, 27, 129, 184, 68, 661, 252, 301]}],\n",
       "                        {\"legend\": {\"bgcolor\": \"#F5F6F9\", \"font\": {\"color\": \"#4D5663\"}}, \"paper_bgcolor\": \"#F5F6F9\", \"plot_bgcolor\": \"#F5F6F9\", \"title\": \"#Records by Assignment groups\", \"titlefont\": {\"color\": \"#4D5663\"}},\n",
       "                        {\"showLink\": true, \"linkText\": \"Export to plot.ly\", \"plotlyServerURL\": \"https://plot.ly\", \"responsive\": true}\n",
       "                    ).then(function(){\n",
       "                            \n",
       "var gd = document.getElementById('85c248a6-42c0-4b7d-a4e8-90c13c8c934b');\n",
       "var x = new MutationObserver(function (mutations, observer) {{\n",
       "        var display = window.getComputedStyle(gd).display;\n",
       "        if (!display || display === 'none') {{\n",
       "            console.log([gd, 'removed!']);\n",
       "            Plotly.purge(gd);\n",
       "            observer.disconnect();\n",
       "        }}\n",
       "}});\n",
       "\n",
       "// Listen for the removal of the full notebook cells\n",
       "var notebookContainer = gd.closest('#notebook-container');\n",
       "if (notebookContainer) {{\n",
       "    x.observe(notebookContainer, {childList: true});\n",
       "}}\n",
       "\n",
       "// Listen for the clearing of the current output cell\n",
       "var outputEl = gd.closest('.output');\n",
       "if (outputEl) {{\n",
       "    x.observe(outputEl, {childList: true});\n",
       "}}\n",
       "\n",
       "                        })\n",
       "                };\n",
       "                });\n",
       "            </script>\n",
       "        </div>"
      ]
     },
     "metadata": {},
     "output_type": "display_data"
    }
   ],
   "source": [
    "# Visualize the assignment groups distribution\n",
    "print('\\033[1m#Unique groups remaining:\\033[0m', ticket['Assignment group'].nunique())\n",
    "pd.DataFrame(ticket.groupby('Assignment group').size(),columns = ['Count']).reset_index().iplot(\n",
    "    kind='pie', \n",
    "    labels='Assignment group', \n",
    "    values='Count', \n",
    "    title='#Records by Assignment groups',\n",
    "    pull=np.linspace(0,0.3,ticket['Assignment group'].nunique()))"
   ]
  },
  {
   "cell_type": "markdown",
   "metadata": {},
   "source": [
    "**Comments:**\n",
    "- It's evident from the pie chart above the dataset is nearly balanced which can be considered for model building.\n",
    "\n",
    "## <u>Model Building</u>\n",
    "Let's load the balanced dataset and Word2Vec model to generate word embbeddings and feed it into LSTM.\n",
    "\n",
    "### <u>RNN with LSTM networks</u>\n",
    "Long Short-Term Memory~(LSTM) was introduced by S. Hochreiter and J. Schmidhuber and developed by many research scientists.\n",
    "\n",
    "To deal with these problems Long Short-Term Memory (LSTM) is a special type of RNN that preserves long term dependency in a more effective way compared to the basic RNNs. This is particularly useful to overcome vanishing gradient problem as LSTM uses multiple gates to carefully regulate the amount of information that will be allowed into each node state. The figure shows the basic cell of a LSTM model.\n",
    "\n",
    "![image.png](data:image/png;base64,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)\n",
    "\n",
    "Let's create another column of categorical datatype from Assignment groups. Let's write some generic methods for utilities and to plot evaluation metrics."
   ]
  },
  {
   "cell_type": "code",
   "execution_count": 24,
   "metadata": {},
   "outputs": [],
   "source": [
    "# A class that logs the time\n",
    "class Timer():\n",
    "    '''\n",
    "    A generic class to log the time\n",
    "    '''\n",
    "    def __init__(self):\n",
    "        self.start_ts = None\n",
    "    def start(self):\n",
    "        self.start_ts = time()\n",
    "    def stop(self):\n",
    "        return 'Time taken: %2fs' % (time()-self.start_ts)\n",
    "    \n",
    "timer = Timer()\n",
    "\n",
    "# A method that plots the Precision-Recall curve\n",
    "def plot_prec_recall_vs_thresh(precisions, recalls, thresholds):\n",
    "    plt.figure(figsize=(10,5))\n",
    "    plt.plot(thresholds, precisions[:-1], 'b--', label='precision')\n",
    "    plt.plot(thresholds, recalls[:-1], 'g--', label = 'recall')\n",
    "    plt.xlabel('Threshold')\n",
    "    plt.legend()\n",
    "\n",
    "# A method to train and test the model\n",
    "def run_classification(estimator, X_train, X_test, y_train, y_test, arch_name=None, pipelineRequired=True, isDeepModel=False):\n",
    "    timer.start()\n",
    "    # train the model\n",
    "    clf = estimator\n",
    "\n",
    "    if pipelineRequired :\n",
    "        clf = Pipeline([('vect', CountVectorizer()),\n",
    "                     ('tfidf', TfidfTransformer()),\n",
    "                     ('clf', estimator),\n",
    "                     ])\n",
    "      \n",
    "    if isDeepModel :\n",
    "        clf.fit(X_train, y_train, validation_data=(X_test, y_test),epochs=10, batch_size=128,verbose=1,callbacks=call_backs(arch_name))\n",
    "        # predict from the claffier\n",
    "        y_pred = clf.predict(X_test)\n",
    "        y_pred = np.argmax(y_pred, axis=1)\n",
    "        y_train_pred = clf.predict(X_train)\n",
    "        y_train_pred = np.argmax(y_train_pred, axis=1)\n",
    "    else :\n",
    "        clf.fit(X_train, y_train)\n",
    "        # predict from the claffier\n",
    "        y_pred = clf.predict(X_test)\n",
    "        y_train_pred = clf.predict(X_train)\n",
    "    \n",
    "    print('Estimator:', clf)\n",
    "    print('='*80)\n",
    "    print('Training accuracy: %.2f%%' % (accuracy_score(y_train,y_train_pred) * 100))\n",
    "    print('Testing accuracy: %.2f%%' % (accuracy_score(y_test, y_pred) * 100))\n",
    "    print('='*80)\n",
    "    print('Confusion matrix:\\n %s' % (confusion_matrix(y_test, y_pred)))\n",
    "    print('='*80)\n",
    "    print('Classification report:\\n %s' % (classification_report(y_test, y_pred)))\n",
    "    print(timer.stop(), 'to run the model')"
   ]
  },
  {
   "cell_type": "code",
   "execution_count": 42,
   "metadata": {},
   "outputs": [],
   "source": [
    "# Load the balanced dataset\n",
    "with open('pickles/balanced_ticket.pkl','rb') as f:\n",
    "    ticket = pickle.load(f)\n",
    "# Load the Word2Vec model\n",
    "wmodel = Doc2Vec.load('Models/d2v_inc_model.mdl')"
   ]
  },
  {
   "cell_type": "code",
   "execution_count": 43,
   "metadata": {
    "colab": {
     "base_uri": "https://localhost:8080/",
     "height": 34
    },
    "colab_type": "code",
    "id": "r0uev5PK-YXw",
    "outputId": "a51d08d3-ee98-4532-e648-6e84f5d5c003"
   },
   "outputs": [
    {
     "name": "stdout",
     "output_type": "stream",
     "text": [
      "Vocabulary Size: 12466 - Embedding Dim: 300\n"
     ]
    }
   ],
   "source": [
    "w2v_weights = wmodel.wv.vectors\n",
    "vocab_size, embedding_size = w2v_weights.shape\n",
    "print(\"Vocabulary Size: {} - Embedding Dim: {}\".format(vocab_size, embedding_size))"
   ]
  },
  {
   "cell_type": "code",
   "execution_count": 44,
   "metadata": {},
   "outputs": [],
   "source": [
    "def word2token(word):\n",
    "    try:\n",
    "        return wmodel.wv.vocab[word].index\n",
    "    except:\n",
    "        return 0"
   ]
  },
  {
   "cell_type": "code",
   "execution_count": 48,
   "metadata": {
    "colab": {},
    "colab_type": "code",
    "id": "T9xmS6tY9-m9"
   },
   "outputs": [
    {
     "name": "stdout",
     "output_type": "stream",
     "text": [
      "Shape of label X: (27470, 100)\n",
      "Shape of label y: (27470, 41)\n"
     ]
    }
   ],
   "source": [
    "# Sequences will be padded or truncated to this length\n",
    "MAX_SEQUENCE_LENGTH = 100\n",
    "\n",
    "# Prepare the embbedings with 0's padding to max sequence length\n",
    "X = ticket.Summary.values.tolist()\n",
    "set_X=[]\n",
    "for sent in X:\n",
    "      set_X.append(np.array([word2token(w) for w in tokenize_sentences(sent[0])[:MAX_SEQUENCE_LENGTH] if w != '']))\n",
    "\n",
    "set_X = pad_sequences(set_X, maxlen=MAX_SEQUENCE_LENGTH, padding='pre', value=0)\n",
    "y = pd.get_dummies(ticket['Assignment group']).values\n",
    "print('Shape of label X:', set_X.shape)\n",
    "print('Shape of label y:', y.shape)"
   ]
  },
  {
   "cell_type": "code",
   "execution_count": 49,
   "metadata": {},
   "outputs": [
    {
     "data": {
      "text/plain": [
       "array([1, 0, 0, 0, 0, 0, 0, 0, 0, 0, 0, 0, 0, 0, 0, 0, 0, 0, 0, 0, 0, 0,\n",
       "       0, 0, 0, 0, 0, 0, 0, 0, 0, 0, 0, 0, 0, 0, 0, 0, 0, 0, 0],\n",
       "      dtype=uint8)"
      ]
     },
     "execution_count": 49,
     "metadata": {},
     "output_type": "execute_result"
    }
   ],
   "source": [
    "y[0]"
   ]
  },
  {
   "cell_type": "code",
   "execution_count": 50,
   "metadata": {},
   "outputs": [],
   "source": [
    "from imblearn.over_sampling import SMOTE\n",
    "\n",
    "sampler = SMOTE()\n",
    "X, _y = sampler.fit_resample(set_X, y)"
   ]
  },
  {
   "cell_type": "code",
   "execution_count": 51,
   "metadata": {
    "colab": {
     "base_uri": "https://localhost:8080/",
     "height": 85
    },
    "colab_type": "code",
    "id": "kL4Xv8Fr-REh",
    "outputId": "f3a569da-8201-4041-fcd9-948f125ec7be"
   },
   "outputs": [
    {
     "data": {
      "text/plain": [
       "((19229, 100), (8241, 100), (19229, 41), (8241, 41))"
      ]
     },
     "execution_count": 51,
     "metadata": {},
     "output_type": "execute_result"
    }
   ],
   "source": [
    "# Divide the original dataset into train and test split\n",
    "X_train, X_test, y_train, y_test = train_test_split(X, _y, test_size=0.3, random_state=47)\n",
    "X_train.shape, X_test.shape, y_train.shape, y_test.shape"
   ]
  },
  {
   "cell_type": "code",
   "execution_count": 52,
   "metadata": {
    "colab": {
     "base_uri": "https://localhost:8080/",
     "height": 170
    },
    "colab_type": "code",
    "id": "EwoD3gb4_HQS",
    "outputId": "4f1bfb75-b969-4096-afb5-d392b42a881a"
   },
   "outputs": [
    {
     "data": {
      "text/plain": [
       "array([   0,    0,    0,    0,    0,    0,    0,    0,    0,    0,    0,\n",
       "          0,    0,    0,    0,    0,    0,    0,    0,    0,    0,    0,\n",
       "          0,    0,    0,    0,    0,    0,    0,    0,    0,    0,    0,\n",
       "          0,    0,    0,    0,    0,    0,    0,    0,    0,    0,    0,\n",
       "          0,    0,    0,    0,    0,    0,    0,    0,    0,    0,    0,\n",
       "          0,  326,    0,  942,   78,    0,    0,    0,  326,    0,  942,\n",
       "         78,    8,    0,    1,   33, 1583, 4688,  881,  261,    0,    0,\n",
       "          0,   14,    0,    0,  119,    0,    0,    0,    0, 1440,    0,\n",
       "          0, 1018,    0,  645,    0,    0,    0,  115,    0,  186,    0,\n",
       "          0], dtype=int32)"
      ]
     },
     "execution_count": 52,
     "metadata": {},
     "output_type": "execute_result"
    }
   ],
   "source": [
    "# Visualize a random training sample\n",
    "X_train[0]"
   ]
  },
  {
   "cell_type": "code",
   "execution_count": 53,
   "metadata": {
    "colab": {
     "base_uri": "https://localhost:8080/",
     "height": 1000
    },
    "colab_type": "code",
    "id": "ezhlGc0K-gif",
    "outputId": "c0475ea1-bdc7-437f-cda0-1cdb0b740536"
   },
   "outputs": [
    {
     "name": "stdout",
     "output_type": "stream",
     "text": [
      "Train on 17306 samples, validate on 1923 samples\n",
      "Epoch 1/20\n",
      "17306/17306 [==============================] - 26s 1ms/step - loss: 2.5079 - accuracy: 0.3479 - val_loss: 1.4905 - val_accuracy: 0.5991\n",
      "Epoch 2/20\n",
      "17306/17306 [==============================] - 25s 1ms/step - loss: 1.4242 - accuracy: 0.6140 - val_loss: 0.9954 - val_accuracy: 0.7369\n",
      "Epoch 3/20\n",
      "17306/17306 [==============================] - 25s 1ms/step - loss: 1.0731 - accuracy: 0.7079 - val_loss: 0.7677 - val_accuracy: 0.7910\n",
      "Epoch 4/20\n",
      "17306/17306 [==============================] - 25s 1ms/step - loss: 0.8559 - accuracy: 0.7641 - val_loss: 0.6312 - val_accuracy: 0.8242\n",
      "Epoch 5/20\n",
      "17306/17306 [==============================] - 25s 1ms/step - loss: 0.7293 - accuracy: 0.7968 - val_loss: 0.5446 - val_accuracy: 0.8435\n",
      "Epoch 6/20\n",
      "17306/17306 [==============================] - 26s 2ms/step - loss: 0.6361 - accuracy: 0.8209 - val_loss: 0.4743 - val_accuracy: 0.8679\n",
      "Epoch 7/20\n",
      "17306/17306 [==============================] - 26s 1ms/step - loss: 0.5607 - accuracy: 0.8431 - val_loss: 0.4271 - val_accuracy: 0.8762\n",
      "Epoch 8/20\n",
      "17306/17306 [==============================] - 25s 1ms/step - loss: 0.5131 - accuracy: 0.8557 - val_loss: 0.3938 - val_accuracy: 0.8882\n",
      "Epoch 9/20\n",
      "17306/17306 [==============================] - 26s 1ms/step - loss: 0.4655 - accuracy: 0.8676 - val_loss: 0.3626 - val_accuracy: 0.8970\n",
      "Epoch 10/20\n",
      "17306/17306 [==============================] - 25s 1ms/step - loss: 0.4248 - accuracy: 0.8803 - val_loss: 0.3402 - val_accuracy: 0.9028\n",
      "Epoch 11/20\n",
      "17306/17306 [==============================] - 25s 1ms/step - loss: 0.4007 - accuracy: 0.8866 - val_loss: 0.3308 - val_accuracy: 0.9100\n",
      "Epoch 12/20\n",
      "17306/17306 [==============================] - 26s 1ms/step - loss: 0.3730 - accuracy: 0.8917 - val_loss: 0.3116 - val_accuracy: 0.9147\n",
      "Epoch 13/20\n",
      "17306/17306 [==============================] - 25s 1ms/step - loss: 0.3473 - accuracy: 0.8990 - val_loss: 0.3033 - val_accuracy: 0.9152\n",
      "Epoch 14/20\n",
      "17306/17306 [==============================] - 26s 1ms/step - loss: 0.3319 - accuracy: 0.9052 - val_loss: 0.2995 - val_accuracy: 0.9126\n",
      "Epoch 15/20\n",
      "17306/17306 [==============================] - 26s 1ms/step - loss: 0.3228 - accuracy: 0.9058 - val_loss: 0.2886 - val_accuracy: 0.9184\n",
      "Epoch 16/20\n",
      "17306/17306 [==============================] - 26s 1ms/step - loss: 0.3046 - accuracy: 0.9095 - val_loss: 0.2827 - val_accuracy: 0.9241\n",
      "Epoch 17/20\n",
      "17306/17306 [==============================] - 25s 1ms/step - loss: 0.2961 - accuracy: 0.9115 - val_loss: 0.2820 - val_accuracy: 0.9220\n",
      "Epoch 18/20\n",
      "17306/17306 [==============================] - 26s 2ms/step - loss: 0.2896 - accuracy: 0.9144 - val_loss: 0.2716 - val_accuracy: 0.9267\n",
      "Epoch 19/20\n",
      "17306/17306 [==============================] - 26s 1ms/step - loss: 0.2762 - accuracy: 0.9180 - val_loss: 0.2687 - val_accuracy: 0.9236\n",
      "Epoch 20/20\n",
      "17306/17306 [==============================] - 26s 1ms/step - loss: 0.2699 - accuracy: 0.9189 - val_loss: 0.2590 - val_accuracy: 0.9262\n"
     ]
    }
   ],
   "source": [
    "# CREATE the MODEL\n",
    "\n",
    "# Samples of categories with less than this number of samples will be ignored\n",
    "DROP_THRESHOLD = 10000\n",
    "model_seq = Sequential()\n",
    "model_seq.add(Embedding(input_dim=vocab_size, \n",
    "                        output_dim=embedding_size, \n",
    "                        weights=[w2v_weights], \n",
    "                        input_length=MAX_SEQUENCE_LENGTH, \n",
    "                        mask_zero=True,\n",
    "                        trainable=False))\n",
    "model_seq.add(SpatialDropout1D(0.2))\n",
    "model_seq.add(LSTM(100, dropout=0.2, recurrent_dropout=0.2))\n",
    "model_seq.add(Dense(41, activation='softmax'))\n",
    "model_seq.compile(loss='categorical_crossentropy', optimizer='adam', metrics=['accuracy'])\n",
    "\n",
    "epochs = 20\n",
    "batch_size = 64\n",
    "\n",
    "history = model_seq.fit(X_train, \n",
    "                        y_train, \n",
    "                        epochs=epochs, \n",
    "                        batch_size=batch_size,\n",
    "                        validation_split=0.1,\n",
    "                        callbacks=[EarlyStopping(monitor='val_loss', patience=3, min_delta=0.0001)])\n"
   ]
  },
  {
   "cell_type": "code",
   "execution_count": 76,
   "metadata": {
    "colab": {
     "base_uri": "https://localhost:8080/",
     "height": 714
    },
    "colab_type": "code",
    "id": "md7rEoJ_XFUt",
    "outputId": "58a25e6a-3137-4526-d2a1-ac211e1acf7e"
   },
   "outputs": [
    {
     "name": "stdout",
     "output_type": "stream",
     "text": [
      "Train on 16789 samples, validate on 1866 samples\n",
      "Epoch 1/20\n",
      "16789/16789 [==============================] - 19s 1ms/step - loss: 3.2495 - accuracy: 0.1479 - val_loss: 2.9664 - val_accuracy: 0.2128\n",
      "Epoch 2/20\n",
      "16789/16789 [==============================] - 19s 1ms/step - loss: 2.8697 - accuracy: 0.2274 - val_loss: 2.8250 - val_accuracy: 0.2433\n",
      "Epoch 3/20\n",
      "16789/16789 [==============================] - 19s 1ms/step - loss: 2.6985 - accuracy: 0.2679 - val_loss: 2.7589 - val_accuracy: 0.2626\n",
      "Epoch 4/20\n",
      "16789/16789 [==============================] - 19s 1ms/step - loss: 2.5748 - accuracy: 0.2933 - val_loss: 2.7286 - val_accuracy: 0.2696\n",
      "Epoch 5/20\n",
      "16789/16789 [==============================] - 19s 1ms/step - loss: 2.4592 - accuracy: 0.3222 - val_loss: 2.7159 - val_accuracy: 0.2765\n",
      "Epoch 6/20\n",
      "16789/16789 [==============================] - 19s 1ms/step - loss: 2.3718 - accuracy: 0.3473 - val_loss: 2.7038 - val_accuracy: 0.2803\n",
      "Epoch 7/20\n",
      "16789/16789 [==============================] - 19s 1ms/step - loss: 2.2855 - accuracy: 0.3705 - val_loss: 2.7190 - val_accuracy: 0.2776\n",
      "Epoch 8/20\n",
      "16789/16789 [==============================] - 19s 1ms/step - loss: 2.2025 - accuracy: 0.3872 - val_loss: 2.7222 - val_accuracy: 0.2830\n",
      "Epoch 9/20\n",
      "16789/16789 [==============================] - 19s 1ms/step - loss: 2.1379 - accuracy: 0.4044 - val_loss: 2.7359 - val_accuracy: 0.2878\n"
     ]
    }
   ],
   "source": [
    "## Iteration 1 ...changing the dropout value\n",
    "\n",
    "model_seq = Sequential()\n",
    "model_seq.add(Embedding(input_dim=vocab_size, \n",
    "                        output_dim=embedding_size, \n",
    "                        weights=[w2v_weights], \n",
    "                        input_length=MAX_SEQUENCE_LENGTH, \n",
    "                        mask_zero=True,\n",
    "                        trainable=False))\n",
    "model_seq.add(SpatialDropout1D(0.1))\n",
    "model_seq.add(LSTM(100, dropout=0.1, recurrent_dropout=0.1))\n",
    "model_seq.add(Dense(41, activation='softmax'))\n",
    "model_seq.compile(loss='categorical_crossentropy', optimizer='adam', metrics=['accuracy'])\n",
    "\n",
    "history = model_seq.fit(X_train, \n",
    "                        y_train, \n",
    "                        epochs=epochs, \n",
    "                        batch_size=batch_size,\n",
    "                        validation_split=0.1,\n",
    "                        callbacks=[EarlyStopping(monitor='val_loss', patience=3, min_delta=0.0001)])"
   ]
  },
  {
   "cell_type": "code",
   "execution_count": 77,
   "metadata": {
    "colab": {
     "base_uri": "https://localhost:8080/",
     "height": 714
    },
    "colab_type": "code",
    "id": "LMTmD-tKcvdO",
    "outputId": "7dae9739-2b8e-48d9-ff78-59e28827b487"
   },
   "outputs": [
    {
     "name": "stdout",
     "output_type": "stream",
     "text": [
      "Train on 16789 samples, validate on 1866 samples\n",
      "Epoch 1/20\n",
      "16789/16789 [==============================] - 29s 2ms/step - loss: 3.1951 - accuracy: 0.1613 - val_loss: 2.9223 - val_accuracy: 0.2262\n",
      "Epoch 2/20\n",
      "16789/16789 [==============================] - 28s 2ms/step - loss: 2.7977 - accuracy: 0.2413 - val_loss: 2.7879 - val_accuracy: 0.2529\n",
      "Epoch 3/20\n",
      "16789/16789 [==============================] - 28s 2ms/step - loss: 2.6080 - accuracy: 0.2860 - val_loss: 2.7339 - val_accuracy: 0.2755\n",
      "Epoch 4/20\n",
      "16789/16789 [==============================] - 28s 2ms/step - loss: 2.4571 - accuracy: 0.3238 - val_loss: 2.7210 - val_accuracy: 0.2824\n",
      "Epoch 5/20\n",
      "16789/16789 [==============================] - 28s 2ms/step - loss: 2.3199 - accuracy: 0.3559 - val_loss: 2.7145 - val_accuracy: 0.2755\n",
      "Epoch 6/20\n",
      "16789/16789 [==============================] - 28s 2ms/step - loss: 2.1917 - accuracy: 0.3949 - val_loss: 2.7171 - val_accuracy: 0.2862\n",
      "Epoch 7/20\n",
      "16789/16789 [==============================] - 28s 2ms/step - loss: 2.0744 - accuracy: 0.4231 - val_loss: 2.7302 - val_accuracy: 0.2894\n",
      "Epoch 8/20\n",
      "16789/16789 [==============================] - 28s 2ms/step - loss: 1.9652 - accuracy: 0.4517 - val_loss: 2.7613 - val_accuracy: 0.3001\n"
     ]
    }
   ],
   "source": [
    "## Iteration 2 ..adding more core to LTSM\n",
    "\n",
    "model_seq = Sequential()\n",
    "model_seq.add(Embedding(input_dim=vocab_size, \n",
    "                        output_dim=embedding_size, \n",
    "                        weights=[w2v_weights], \n",
    "                        input_length=MAX_SEQUENCE_LENGTH, \n",
    "                        mask_zero=True,\n",
    "                        trainable=False))\n",
    "model_seq.add(SpatialDropout1D(0.1))\n",
    "model_seq.add(LSTM(150, dropout=0.1, recurrent_dropout=0.1))\n",
    "model_seq.add(Dense(41, activation='softmax'))\n",
    "model_seq.compile(loss='categorical_crossentropy', optimizer='adam', metrics=['accuracy'])\n",
    "\n",
    "history = model_seq.fit(X_train, \n",
    "                        y_train, \n",
    "                        epochs=epochs, \n",
    "                        batch_size=batch_size,\n",
    "                        validation_split=0.1,\n",
    "                        callbacks=[EarlyStopping(monitor='val_loss', patience=3, min_delta=0.0001)])"
   ]
  },
  {
   "cell_type": "markdown",
   "metadata": {},
   "source": [
    "#### Finding Confidence Interval\n",
    "As this iteration is having more accuracy and no overfitting, let's find out the confidence interval."
   ]
  },
  {
   "cell_type": "code",
   "execution_count": 54,
   "metadata": {},
   "outputs": [
    {
     "name": "stdout",
     "output_type": "stream",
     "text": [
      "8241/8241 [==============================] - 5s 612us/step\n",
      "Test set\n",
      "  Loss: 0.278\n",
      "  Accuracy: 91.991\n"
     ]
    },
    {
     "data": {
      "image/png": "[encoded data removed]",
      "text/plain": [
       "<Figure size 800x560 with 1 Axes>"
      ]
     },
     "metadata": {
      "needs_background": "light"
     },
     "output_type": "display_data"
    }
   ],
   "source": [
    "acc = history.history['accuracy']\n",
    "plt.figure(figsize=(10,7), dpi= 80)\n",
    "sns.distplot(acc, color=\"dodgerblue\", label=\"Compact\")\n",
    "accr = model_seq.evaluate(X_test,y_test)\n",
    "print('Test set\\n  Loss: {:0.3f}\\n  Accuracy: {:0.3f}'.format(accr[0],accr[1]*100))"
   ]
  },
  {
   "cell_type": "code",
   "execution_count": 40,
   "metadata": {},
   "outputs": [
    {
     "name": "stdout",
     "output_type": "stream",
     "text": [
      "0.5595201963469515\n"
     ]
    }
   ],
   "source": [
    "accuracy=0.9276\n",
    "n = 8241\n",
    "interval = 1.96 * np.sqrt( (accuracy * (1 - accuracy)) / n)\n",
    "print(interval*100)"
   ]
  },
  {
   "cell_type": "markdown",
   "metadata": {},
   "source": [
    "**Observation**:\n",
    "- There is a 95% likelihood that the confidence interval [92.21, 93.31] covers the true classification of the model on unseen data."
   ]
  },
  {
   "cell_type": "code",
   "execution_count": 80,
   "metadata": {
    "colab": {
     "base_uri": "https://localhost:8080/",
     "height": 612
    },
    "colab_type": "code",
    "id": "OeHuuTgAjK8Q",
    "outputId": "f1549b74-a326-4f56-8a06-fa641cc114d2"
   },
   "outputs": [
    {
     "name": "stdout",
     "output_type": "stream",
     "text": [
      "Train on 16789 samples, validate on 1866 samples\n",
      "Epoch 1/20\n",
      "16789/16789 [==============================] - 29s 2ms/step - loss: 3.2579 - accuracy: 0.1466 - val_loss: 2.9700 - val_accuracy: 0.2053\n",
      "Epoch 2/20\n",
      "16789/16789 [==============================] - 28s 2ms/step - loss: 2.8751 - accuracy: 0.2226 - val_loss: 2.8291 - val_accuracy: 0.2369\n",
      "Epoch 3/20\n",
      "16789/16789 [==============================] - 28s 2ms/step - loss: 2.6881 - accuracy: 0.2668 - val_loss: 2.7915 - val_accuracy: 0.2465\n",
      "Epoch 4/20\n",
      "16789/16789 [==============================] - 28s 2ms/step - loss: 2.5289 - accuracy: 0.3058 - val_loss: 2.7594 - val_accuracy: 0.2583\n",
      "Epoch 5/20\n",
      "16789/16789 [==============================] - 28s 2ms/step - loss: 2.3944 - accuracy: 0.3349 - val_loss: 2.7553 - val_accuracy: 0.2658\n",
      "Epoch 6/20\n",
      "16789/16789 [==============================] - 28s 2ms/step - loss: 2.2531 - accuracy: 0.3654 - val_loss: 2.7797 - val_accuracy: 0.2690\n",
      "Epoch 7/20\n",
      "16789/16789 [==============================] - 28s 2ms/step - loss: 2.1138 - accuracy: 0.4016 - val_loss: 2.8637 - val_accuracy: 0.2851\n",
      "Epoch 8/20\n",
      "16789/16789 [==============================] - 28s 2ms/step - loss: 1.9842 - accuracy: 0.4336 - val_loss: 2.9398 - val_accuracy: 0.2733\n"
     ]
    }
   ],
   "source": [
    "## Iteration 3 ....adding a dense and dropout and batchNormalistaion layer\n",
    "\n",
    "model_seq = Sequential()\n",
    "model_seq.add(Embedding(input_dim=vocab_size, \n",
    "                        output_dim=embedding_size, \n",
    "                        weights=[w2v_weights], \n",
    "                        input_length=MAX_SEQUENCE_LENGTH, \n",
    "                        mask_zero=True,\n",
    "                        trainable=False))\n",
    "model_seq.add(SpatialDropout1D(0.1))\n",
    "model_seq.add(LSTM(150, dropout=0.1, recurrent_dropout=0.1))\n",
    "model_seq.add(Dense(150, activation='relu'))\n",
    "model_seq.add(BatchNormalization(momentum=0.9,epsilon=0.02))\n",
    "model_seq.add(Dropout(0.1))\n",
    "model_seq.add(Dense(41, activation='softmax'))\n",
    "model_seq.compile(loss='categorical_crossentropy', optimizer='adam', metrics=['accuracy'])\n",
    "\n",
    "history = model_seq.fit(X_train, \n",
    "                        y_train, \n",
    "                        epochs=epochs, \n",
    "                        batch_size=batch_size,\n",
    "                        validation_split=0.1,\n",
    "                        callbacks=[EarlyStopping(monitor='val_loss', patience=3, min_delta=0.0001)])"
   ]
  },
  {
   "cell_type": "code",
   "execution_count": 82,
   "metadata": {
    "colab": {
     "base_uri": "https://localhost:8080/",
     "height": 510
    },
    "colab_type": "code",
    "id": "WF2uvAjYpCt7",
    "outputId": "8d119ce0-a87d-4692-a679-2a6e2fcc4df0"
   },
   "outputs": [
    {
     "name": "stdout",
     "output_type": "stream",
     "text": [
      "Train on 16789 samples, validate on 1866 samples\n",
      "Epoch 1/20\n",
      "16789/16789 [==============================] - 29s 2ms/step - loss: 3.2343 - accuracy: 0.1514 - val_loss: 2.9976 - val_accuracy: 0.1972\n",
      "Epoch 2/20\n",
      "16789/16789 [==============================] - 28s 2ms/step - loss: 2.8697 - accuracy: 0.2196 - val_loss: 2.8049 - val_accuracy: 0.2390\n",
      "Epoch 3/20\n",
      "16789/16789 [==============================] - 28s 2ms/step - loss: 2.6943 - accuracy: 0.2610 - val_loss: 2.7550 - val_accuracy: 0.2562\n",
      "Epoch 4/20\n",
      "16789/16789 [==============================] - 28s 2ms/step - loss: 2.5413 - accuracy: 0.2984 - val_loss: 2.7398 - val_accuracy: 0.2610\n",
      "Epoch 5/20\n",
      "16789/16789 [==============================] - 28s 2ms/step - loss: 2.3968 - accuracy: 0.3323 - val_loss: 2.7651 - val_accuracy: 0.2690\n",
      "Epoch 6/20\n",
      "16789/16789 [==============================] - 28s 2ms/step - loss: 2.2722 - accuracy: 0.3620 - val_loss: 2.7704 - val_accuracy: 0.2701\n",
      "Epoch 7/20\n",
      "16789/16789 [==============================] - 29s 2ms/step - loss: 2.1229 - accuracy: 0.3979 - val_loss: 2.8495 - val_accuracy: 0.2819\n"
     ]
    }
   ],
   "source": [
    "## iteration 4 ...optimizing adam\n",
    "from keras.optimizers import Adam\n",
    "\n",
    "adam = Adam(lr=0.001, beta_1=0.9, beta_2=0.999, epsilon=1e-08, decay=0.0, amsgrad=False)\n",
    "\n",
    "model_seq = Sequential()\n",
    "model_seq.add(Embedding(input_dim=vocab_size, \n",
    "                        output_dim=embedding_size, \n",
    "                        weights=[w2v_weights], \n",
    "                        input_length=MAX_SEQUENCE_LENGTH, \n",
    "                        mask_zero=True,\n",
    "                        trainable=False))\n",
    "model_seq.add(SpatialDropout1D(0.1))\n",
    "model_seq.add(LSTM(150, dropout=0.1, recurrent_dropout=0.1))\n",
    "model_seq.add(Dense(150, activation='relu'))\n",
    "model_seq.add(BatchNormalization(momentum=0.9,epsilon=0.02))\n",
    "model_seq.add(Dropout(0.1))\n",
    "model_seq.add(Dense(41, activation='softmax'))\n",
    "model_seq.compile(loss='categorical_crossentropy', optimizer=adam, metrics=['accuracy'])\n",
    "\n",
    "history = model_seq.fit(X_train, \n",
    "                        y_train, \n",
    "                        epochs=epochs, \n",
    "                        batch_size=batch_size,\n",
    "                        validation_split=0.1,\n",
    "                        callbacks=[EarlyStopping(monitor='val_loss', patience=3, min_delta=0.0001)])"
   ]
  },
  {
   "cell_type": "code",
   "execution_count": 85,
   "metadata": {
    "colab": {
     "base_uri": "https://localhost:8080/",
     "height": 85
    },
    "colab_type": "code",
    "id": "7hDEFhjy-jQ3",
    "outputId": "00ec7848-0a1c-4a84-8f6e-b092392a4115"
   },
   "outputs": [
    {
     "name": "stdout",
     "output_type": "stream",
     "text": [
      "7995/7995 [==============================] - 5s 668us/step\n",
      "Test set\n",
      "  Loss: 2.853\n",
      "  Accuracy: 27.767\n"
     ]
    }
   ],
   "source": [
    "accr = model_seq.evaluate(X_test,y_test)\n",
    "print('Test set\\n  Loss: {:0.3f}\\n  Accuracy: {:0.3f}'.format(accr[0],accr[1]*100))"
   ]
  },
  {
   "cell_type": "code",
   "execution_count": 86,
   "metadata": {
    "colab": {
     "base_uri": "https://localhost:8080/",
     "height": 281
    },
    "colab_type": "code",
    "id": "mDfFgpRyCLKh",
    "outputId": "022702ea-b092-43f4-da63-18fe7e95dd24"
   },
   "outputs": [
    {
     "data": {
      "image/png": "[encoded data removed]",
      "text/plain": [
       "<Figure size 432x288 with 1 Axes>"
      ]
     },
     "metadata": {
      "needs_background": "light"
     },
     "output_type": "display_data"
    }
   ],
   "source": [
    "# Data Visualization\n",
    "import matplotlib.pyplot as plt\n",
    "\n",
    "plt.title('Loss')\n",
    "plt.plot(history.history['loss'], label='train')\n",
    "plt.plot(history.history['val_loss'], label='validation')\n",
    "plt.legend()\n",
    "plt.show();"
   ]
  },
  {
   "cell_type": "code",
   "execution_count": 89,
   "metadata": {
    "colab": {
     "base_uri": "https://localhost:8080/",
     "height": 281
    },
    "colab_type": "code",
    "id": "YHUcQTM-CO4y",
    "outputId": "fc9d7d0f-cf69-4487-9774-f8f73d359c2c"
   },
   "outputs": [
    {
     "data": {
      "image/png": "[encoded data removed]",
      "text/plain": [
       "<Figure size 432x288 with 1 Axes>"
      ]
     },
     "metadata": {
      "needs_background": "light"
     },
     "output_type": "display_data"
    }
   ],
   "source": [
    "plt.title('Accuracy')\n",
    "plt.plot(history.history['accuracy'], label='train')\n",
    "plt.plot(history.history['val_accuracy'], label='validation')\n",
    "plt.legend()\n",
    "plt.show();"
   ]
  },
  {
   "attachments": {
    "image.png": {
     "image/png": "[encoded data removed]"
    }
   },
   "cell_type": "markdown",
   "metadata": {},
   "source": [
    "### Summary\n",
    "The accuracy of each flavors of LSTM model is as follows in the table. This is clear indicative of how LSTM, in the family of RNN is efficient of dealing with textual data.\n",
    "- We've been able to bump up the model performance upto the range 92.21 to 93.31 with 95% confidence level.\n",
    "- Making the dataset balanced, helped the model to be trained more accurately.\n",
    "- Creating our own word embbeddings helped finding better representation of keywords of our corpus.\n",
    "- Hyperparameter tuning resulted in finding the model with more accuracy without overfitting, which is evident from the train vs. validation accuracy curve.\n",
    "![image.png](attachment:image.png)\n",
    "\n",
    "### Automation of Ticket Assignment has following benefits: -\n",
    "1.\tIncrease in Customer Satisfaction.\n",
    "2.\tDecrease in the response and resolution time.\n",
    "3.\tEliminate human error in Ticket Assignment. (Which was ~25% Incidents)\n",
    "4.\tAvoid missing SLAs due to error in Ticket Assignment.\n",
    "5.\tEliminate any Financial penalty associated with missed SLAs.\n",
    "6.\tExcellent Customer Service.\n",
    "7.\tReallocate (~1 FTE) requirement for Productive Work. \n",
    "8.\tIncrease in morale of L1 / L2 Team.\n",
    "9.\tEradicate 15 mins Effort spent for SOP review (~25-30% of Incidents OR 531.25-637.5‬ Person Hours).\n",
    "10.\tDecrease in associated Expense.\n",
    "11.\tL1 / L2 Team can focus on resolving ~54% of the incidents\n",
    "12.\tFunctional / L3 teams can focus on resolving ~56% of incidents\n",
    "\n",
    "**~1 FTE from L1 / L2 Team saved through automating Ticket Assignment can focus on Continuous Improvement activities.\n",
    "~25% of Incidents which is 2125 additional Incidents will now get resolved within SLA.**\n",
    "\n",
    "### Additional Business Insights\n",
    "1. Root cause analysis (RCA) need to be performed on job_scheduler, to understand the cause of failure.\n",
    "No. of Incident Ticket reduction expected by performing RCA:- 1928. \n",
    "22.68% of Total Incident volume of 8500.\n",
    "Hence, we can reduce the Resource / FTE allocation also by approximately 22.68%.\n",
    "2. Password Rest process need to be automated.\n",
    "No. of Incident Ticket reduction expected by automating password reset process:- 1246\n",
    "14.66% of Total Incident volume of 8500. \n",
    "Hence, we can reduce the Resource / FTE allocation also by approximately 14.66%.\n",
    "Hence a cumulative reduction of 3174 Incidents means 37.34% reduction in Total Incident volume of 8500. \n",
    "Hence, cumulative Resource / FTE allocation reduction by approximately 37.34%.\n",
    "Business can operate at ~62.66% of original Estimates."
   ]
  },
  {
   "cell_type": "code",
   "execution_count": null,
   "metadata": {},
   "outputs": [],
   "source": []
  }
 ],
 "metadata": {
  "kernelspec": {
   "display_name": "Python 3.7.7 64-bit ('capstone': venv)",
   "language": "python",
   "name": "python37764bitcapstonevenvc9d3724629b6456094759d8cb7aa803a"
  },
  "language_info": {
   "codemirror_mode": {
    "name": "ipython",
    "version": 3
   },
   "file_extension": ".py",
   "mimetype": "text/x-python",
   "name": "python",
   "nbconvert_exporter": "python",
   "pygments_lexer": "ipython3",
   "version": "3.7.7"
  }
 },
 "nbformat": 4,
 "nbformat_minor": 4
}
